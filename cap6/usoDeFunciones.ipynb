{
 "cells": [
  {
   "cell_type": "markdown",
   "metadata": {},
   "source": [
    "# 6.2 Definicion de funciones"
   ]
  },
  {
   "cell_type": "markdown",
   "metadata": {},
   "source": [
    "## 6.2.1 Deficnion y uso de funciones con un solo parametro"
   ]
  },
  {
   "cell_type": "code",
   "execution_count": 5,
   "metadata": {},
   "outputs": [
    {
     "name": "stdout",
     "output_type": "stream",
     "text": [
      "4\n",
      "900\n"
     ]
    }
   ],
   "source": [
    "def cuadrado(x: int) -> int:\n",
    "  return x**2\n",
    "\n",
    "print(cuadrado(2))\n",
    "a = 1 + cuadrado(3)\n",
    "print(cuadrado(a*3))"
   ]
  },
  {
   "cell_type": "code",
   "execution_count": 10,
   "metadata": {},
   "outputs": [
    {
     "name": "stdout",
     "output_type": "stream",
     "text": [
      "3.0\n"
     ]
    }
   ],
   "source": [
    "#252\n",
    "def raiz_cubica(x: int) -> float:\n",
    "  return x**(1/3)\n",
    "print(raiz_cubica(27))"
   ]
  },
  {
   "cell_type": "code",
   "execution_count": 15,
   "metadata": {},
   "outputs": [
    {
     "name": "stdout",
     "output_type": "stream",
     "text": [
      "12.5664\n"
     ]
    }
   ],
   "source": [
    "#253\n",
    "def areaCirculo(radio: int) -> float:\n",
    "  PI = 3.1416\n",
    "  return PI*radio**2\n",
    "\n",
    "print(areaCirculo(2))"
   ]
  },
  {
   "cell_type": "code",
   "execution_count": 18,
   "metadata": {},
   "outputs": [
    {
     "name": "stdout",
     "output_type": "stream",
     "text": [
      "50.0\n"
     ]
    }
   ],
   "source": [
    "#254\n",
    "def convertirACentigrados(grados_fahrenheit: float) -> float:\n",
    "    return (grados_fahrenheit - 32) * (5/9)\n",
    "\n",
    "print(convertirACentigrados(122))  # Debería imprimir 50.0"
   ]
  },
  {
   "cell_type": "code",
   "execution_count": 20,
   "metadata": {},
   "outputs": [
    {
     "name": "stdout",
     "output_type": "stream",
     "text": [
      "122.0\n"
     ]
    }
   ],
   "source": [
    "#255\n",
    "def convertirAfarenheit(grados_centigrados: int) -> float:\n",
    "    return grados_centigrados * (9/5) + 32\n",
    "\n",
    "print(convertirAfarenheit(50))"
   ]
  },
  {
   "cell_type": "code",
   "execution_count": 23,
   "metadata": {},
   "outputs": [
    {
     "name": "stdout",
     "output_type": "stream",
     "text": [
      "180.0 grados\n",
      "360.0 grados\n"
     ]
    }
   ],
   "source": [
    "#256\n",
    "from math import pi\n",
    "\n",
    "def convertirAGrados(radianes: float) -> float:\n",
    "    return radianes * (180 / pi)\n",
    "\n",
    "print(f\"{convertirAGrados(pi)} grados\")  # Debería imprimir 180.0\n",
    "print(f\"{convertirAGrados(2 *pi)} grados\")  # Debería imprimir 360.0"
   ]
  },
  {
   "cell_type": "code",
   "execution_count": 26,
   "metadata": {},
   "outputs": [
    {
     "name": "stdout",
     "output_type": "stream",
     "text": [
      "3.141592653589793\n",
      "6.283185307179586\n"
     ]
    }
   ],
   "source": [
    "#257\n",
    "from math import pi\n",
    "\n",
    "def convertirARadianes(grados: float) -> float:\n",
    "  return grados * (pi/180)\n",
    "\n",
    "print(convertirARadianes(180))\n",
    "print(convertirARadianes(360))"
   ]
  },
  {
   "cell_type": "code",
   "execution_count": 4,
   "metadata": {},
   "outputs": [
    {
     "name": "stdout",
     "output_type": "stream",
     "text": [
      "False\n",
      "True\n"
     ]
    }
   ],
   "source": [
    "#258\n",
    "def es_mayor_de_edad(edad: int) -> bool:\n",
    "\n",
    "  if edad < 18:\n",
    "    return False\n",
    "  \n",
    "  return True\n",
    "\n",
    "print(es_mayor_de_edad(12))\n",
    "print(es_mayor_de_edad(18))"
   ]
  },
  {
   "cell_type": "code",
   "execution_count": 7,
   "metadata": {},
   "outputs": [
    {
     "name": "stdout",
     "output_type": "stream",
     "text": [
      "True\n",
      "False\n"
     ]
    }
   ],
   "source": [
    "#259\n",
    "def es_mayor_de_edad(edad: int) -> bool:\n",
    "  return edad >= 18\n",
    "\n",
    "print(es_mayor_de_edad(30))\n",
    "print(es_mayor_de_edad(3))"
   ]
  },
  {
   "cell_type": "code",
   "execution_count": 15,
   "metadata": {},
   "outputs": [
    {
     "name": "stdout",
     "output_type": "stream",
     "text": [
      "W\n",
      "No es numero que esta entre 0-22\n",
      "No es numero que esta entre 0-22\n",
      "E\n"
     ]
    }
   ],
   "source": [
    "#260\n",
    "def letraDNI(numero: int, listaDNI: list) -> str:\n",
    "    if numero < 0 or numero > 22:\n",
    "        return \"No es numero que esta entre 0-22\"\n",
    "    dniResto = numero % 23\n",
    "    return listaDNI[dniResto]\n",
    "\n",
    "listaDNI = ['T', 'R', 'W', 'A', 'G', 'M', 'Y', 'F', 'P', 'D', 'X','B', 'N', 'J', 'Z', 'S', 'Q', 'V', 'H', 'L', 'C', 'K', 'E']\n",
    "\n",
    "# Ejemplo de uso:\n",
    "print(letraDNI(2, listaDNI))  # Debería imprimir 'W'\n",
    "# Debería imprimir 'No es numero que esta entre 0-22'\n",
    "print(letraDNI(25, listaDNI))\n",
    "print(letraDNI(23, listaDNI))\n",
    "print(letraDNI(22, listaDNI))  # Debería imprimir 'E'"
   ]
  },
  {
   "cell_type": "code",
   "execution_count": 17,
   "metadata": {},
   "outputs": [
    {
     "name": "stdout",
     "output_type": "stream",
     "text": [
      "True\n",
      "False\n"
     ]
    }
   ],
   "source": [
    "#261\n",
    "def esMayuscula(palabra: str) -> bool:\n",
    "  return palabra[0].isupper()\n",
    "\n",
    "print(esMayuscula(\"Alex\"))\n",
    "print(esMayuscula(\"alex\"))"
   ]
  },
  {
   "cell_type": "code",
   "execution_count": null,
   "metadata": {},
   "outputs": [],
   "source": [
    "#262\n",
    "def es_repeticion(cadena: str) -> bool:\n",
    "    # Verificar que la longitud de la cadena sea par\n",
    "    if len(cadena) % 2 != 0:\n",
    "        return False\n",
    "\n",
    "    # Dividir la cadena en dos partes iguales\n",
    "    mitad = len(cadena) // 2\n",
    "    primera_mitad = cadena[:mitad]\n",
    "    segunda_mitad = cadena[mitad:]\n",
    "\n",
    "    # Comparar las dos partes\n",
    "    return primera_mitad == segunda_mitad\n",
    "\n",
    "# Ejemplos de uso:\n",
    "print(es_repeticion(\"abab\"))   # Debería devolver True\n",
    "print(es_repeticion(\"ababab\"))  # Debería devolver False\n",
    "print(es_repeticion(\"abcabc\"))  # Debería devolver True\n",
    "print(es_repeticion(\"abcd\"))   # Debería devolver False"
   ]
  },
  {
   "cell_type": "code",
   "execution_count": 4,
   "metadata": {},
   "outputs": [
    {
     "name": "stdout",
     "output_type": "stream",
     "text": [
      "True\n",
      "False\n"
     ]
    }
   ],
   "source": [
    "def es_perfecto(numero: int) -> bool:\n",
    "  sumatoria = 0\n",
    "  for i in range(1, numero):\n",
    "    if numero % i == 0:\n",
    "      sumatoria += i\n",
    "\n",
    "  if sumatoria == numero: \n",
    "    return True\n",
    "  else:\n",
    "    return False\n",
    "  \n",
    "print(es_perfecto(28))\n",
    "print(es_perfecto(30))\n",
    "  \n"
   ]
  },
  {
   "cell_type": "code",
   "execution_count": 6,
   "metadata": {},
   "outputs": [
    {
     "name": "stdout",
     "output_type": "stream",
     "text": [
      "True\n",
      "False\n"
     ]
    }
   ],
   "source": [
    "#263\n",
    "def es_perfecto(numero: int) -> bool:\n",
    "  sumatoria = 0\n",
    "  for i in range(1, numero):\n",
    "    if numero % i == 0:\n",
    "      sumatoria += i\n",
    "\n",
    "  return sumatoria == numero\n",
    "\n",
    "print(es_perfecto(28))\n",
    "print(es_perfecto(30))"
   ]
  },
  {
   "cell_type": "code",
   "execution_count": 9,
   "metadata": {},
   "outputs": [
    {
     "name": "stdout",
     "output_type": "stream",
     "text": [
      "True\n",
      "True\n",
      "True\n",
      "True\n",
      "False\n"
     ]
    }
   ],
   "source": [
    "#264\n",
    "def esPerfecto(number: int) -> bool:\n",
    "  sumatoria = 0\n",
    "  for i in range(1, number//2 + 1):\n",
    "    if number % i == 0:\n",
    "      sumatoria += i\n",
    "  \n",
    "  return sumatoria == number\n",
    "\n",
    "print(esPerfecto(6))\n",
    "print(esPerfecto(28))\n",
    "print(esPerfecto(496))\n",
    "print(esPerfecto(8128))\n",
    "print(esPerfecto(10))"
   ]
  },
  {
   "cell_type": "code",
   "execution_count": 23,
   "metadata": {},
   "outputs": [
    {
     "name": "stdout",
     "output_type": "stream",
     "text": [
      "[6, 28]\n",
      "[6, 28, 496]\n"
     ]
    }
   ],
   "source": [
    "#265\n",
    "def esPerfecto(number: int) -> list:\n",
    "  \n",
    "  listaPerfectos = []\n",
    "\n",
    "  for i in range(1, number + 1):\n",
    "    sumatoria = 0\n",
    "    for j in range(1, i):\n",
    "      if i % j == 0:\n",
    "        sumatoria += j\n",
    "    if sumatoria == i:\n",
    "      listaPerfectos.append(sumatoria)\n",
    "\n",
    "  return listaPerfectos\n",
    "\n",
    "print(esPerfecto(100))\n",
    "print(esPerfecto(500))"
   ]
  },
  {
   "cell_type": "code",
   "execution_count": 5,
   "metadata": {},
   "outputs": [
    {
     "name": "stdout",
     "output_type": "stream",
     "text": [
      "365\n",
      "366\n",
      "365\n",
      "366\n"
     ]
    }
   ],
   "source": [
    "#266\n",
    "def is_year_leap(year: int) -> int:\n",
    "    dias = 365\n",
    "    if year % 4 == 0:\n",
    "        if year % 100 != 0 or year % 400 == 0:\n",
    "            dias = 366\n",
    " \n",
    "    return dias\n",
    "\n",
    "print(is_year_leap(2002))\n",
    "print(is_year_leap(2004))\n",
    "print(is_year_leap(1900))\n",
    "print(is_year_leap(2000))"
   ]
  },
  {
   "cell_type": "code",
   "execution_count": 19,
   "metadata": {},
   "outputs": [
    {
     "name": "stdout",
     "output_type": "stream",
     "text": [
      "[1, 3, 5, 7]\n",
      "['#', ' ', '#', ' ', '#', ' ', '#', ' ']\n",
      "['#', ' ', '#', ' ', '#', ' ', '#', ' ']\n",
      "['#', ' ', '#', ' ', '#', ' ', '#', ' ']\n",
      "['#', ' ', '#', ' ', '#', ' ', '#', ' ']\n",
      "['#', ' ', '#', ' ', '#', ' ', '#', ' ']\n",
      "['#', ' ', '#', ' ', '#', ' ', '#', ' ']\n",
      "['#', ' ', '#', ' ', '#', ' ', '#', ' ']\n",
      "['#', ' ', '#', ' ', '#', ' ', '#', ' ']\n",
      "# # # # \n",
      " # # # #\n",
      "# # # # \n",
      " # # # #\n",
      "# # # # \n",
      " # # # #\n",
      "# # # # \n",
      " # # # #\n"
     ]
    }
   ],
   "source": [
    "row = [i for i in range(8) if i % 2 != 0 ]\n",
    "print(row)\n",
    "board = []\n",
    "\n",
    "    #row = [char for i in range(8) if i % 2 == 0 char=\"#\" else char = \" \" ]\n",
    "row = [[\"#\" if i % 2 == 0 else \" \" for i in range(8)] for j in range(8)]\n",
    "\n",
    "\n",
    "\n",
    "for fila in row:\n",
    "    print(fila)\n",
    "\n",
    "# Generar el tablero de ajedrez\n",
    "board = [[\"#\" if (i + j) % 2 == 0 else \" \" for i in range(8)] for j in range(8)]\n",
    "\n",
    "# Imprimir el tablero de ajedrez\n",
    "for fila in board:\n",
    "    print(''.join(fila))"
   ]
  },
  {
   "cell_type": "code",
   "execution_count": 38,
   "metadata": {},
   "outputs": [
    {
     "name": "stdout",
     "output_type": "stream",
     "text": [
      "[[':(', ':)', ':(', ':)'], [':)', ':(', ':)', ':)'], [':(', ':)', ':)', ':('], [':)', ':)', ':)', ':(']]\n",
      ":(\n",
      ":)\n",
      "[':(', ':)', ':(', ':)']\n",
      "[':)', ':(', ':)', ':)']\n",
      "[':(', ':)', ':)', ':(']\n",
      "[':)', ':)', ':)', ':(']\n",
      "[[[':(', 'x', 'x'], [':)', 'x', 'x'], [':(', 'x', 'x']], [[':)', 'x', 'x'], [':(', 'x', 'x'], [':)', 'x', 'x']], [[':(', 'x', 'x'], [':)', 'x', 'x'], [':)', 'x', 'x']]]\n",
      ":(\n",
      ":)\n",
      "[[':(', 'x', 'x'], [':)', 'x', 'x'], [':(', 'x', 'x']]\n",
      "[[':)', 'x', 'x'], [':(', 'x', 'x'], [':)', 'x', 'x']]\n",
      "[[':(', 'x', 'x'], [':)', 'x', 'x'], [':)', 'x', 'x']]\n",
      "#\n",
      "#\n",
      "#\n",
      "#\n"
     ]
    }
   ],
   "source": [
    "# Una tabla de cuatro columnas y cuatro filas: un arreglo bidimensional (4x4)\n",
    "\n",
    "table = [[\":(\", \":)\", \":(\", \":)\"],\n",
    "         [\":)\", \":(\", \":)\", \":)\"],\n",
    "         [\":(\", \":)\", \":)\", \":(\"],\n",
    "         [\":)\", \":)\", \":)\", \":(\"]]\n",
    "\n",
    "print(table)\n",
    "print(table[0][0])  # output: ':('\n",
    "print(table[0][3])  # output: ':)'\n",
    "\n",
    "for fila in table:\n",
    "  print(fila)\n",
    "\n",
    "# Cubo - un arreglo tridimensional (3x3x3)\n",
    "\n",
    "cube = [[[':(', 'x', 'x'],\n",
    "         [':)', 'x', 'x'],\n",
    "         [':(', 'x', 'x']],\n",
    "\n",
    "        [[':)', 'x', 'x'],\n",
    "         [':(', 'x', 'x'],\n",
    "         [':)', 'x', 'x']],\n",
    "\n",
    "        [[':(', 'x', 'x'],\n",
    "         [':)', 'x', 'x'],\n",
    "         [':)', 'x', 'x']]]\n",
    "\n",
    "print(cube)\n",
    "print(cube[0][0][0])  # output: ':('\n",
    "print(cube[2][2][0])  # output: ':)'\n",
    "\n",
    "for f in cube:\n",
    "  print(f)\n",
    "\n",
    "var = 1\n",
    "while var < 10:\n",
    "    print(\"#\")\n",
    "    var = var << 1"
   ]
  },
  {
   "cell_type": "code",
   "execution_count": 11,
   "metadata": {},
   "outputs": [
    {
     "name": "stdout",
     "output_type": "stream",
     "text": [
      "1900 2 ->OK\n",
      "2000 2 ->OK\n",
      "2016 1 ->OK\n",
      "1987 11 ->OK\n",
      "2002 12 ->OK\n",
      "False\n",
      "True\n",
      "False\n",
      "True\n"
     ]
    }
   ],
   "source": [
    "def is_year_leap(year: int) -> bool:\n",
    "    esBiciesto = False\n",
    "    if year % 4 == 0:\n",
    "        if year % 100 != 0 or year % 400 == 0:\n",
    "            esBiciesto = True\n",
    "\n",
    "    return esBiciesto\n",
    "\n",
    "def days_in_month(year, month):\n",
    "    \n",
    "    days = [31, 28, 31, 30, 31, 30, 31, 31, 30, 31, 30, 31]\n",
    "    res  = days[month - 1]\n",
    "    if month == 2 and is_year_leap(year):\n",
    "        res = 29\n",
    "    return res\n",
    "\n",
    "\n",
    "test_years = [1900, 2000, 2016, 1987, 2002]\n",
    "test_months = [2, 2, 1, 11, 12]\n",
    "test_results = [28, 29, 31, 30, 31]\n",
    "for i in range(len(test_years)):\n",
    "    yr = test_years[i]\n",
    "    mo = test_months[i]\n",
    "    print(yr, mo, \"->\", end=\"\")\n",
    "    result = days_in_month(yr, mo)\n",
    "    if result == test_results[i]:\n",
    "        print(\"OK\")\n",
    "    else:\n",
    "        print(\"Fallido\")\n",
    "\n",
    "\n",
    "print(is_year_leap(2002))\n",
    "print(is_year_leap(2004))\n",
    "print(is_year_leap(1900))\n",
    "print(is_year_leap(2000))"
   ]
  },
  {
   "cell_type": "code",
   "execution_count": 13,
   "metadata": {},
   "outputs": [
    {
     "ename": "IndentationError",
     "evalue": "expected an indented block after 'if' statement on line 28 (3961561359.py, line 30)",
     "output_type": "error",
     "traceback": [
      "\u001b[0;36m  Cell \u001b[0;32mIn[13], line 30\u001b[0;36m\u001b[0m\n\u001b[0;31m    else:\u001b[0m\n\u001b[0m    ^\u001b[0m\n\u001b[0;31mIndentationError\u001b[0m\u001b[0;31m:\u001b[0m expected an indented block after 'if' statement on line 28\n"
     ]
    }
   ],
   "source": [
    "def is_year_leap(year):\n",
    "    if year % 4 != 0:\n",
    "        return False\n",
    "    elif year % 100 != 0:\n",
    "        return True\n",
    "    elif year % 400 != 0:\n",
    "        return False\n",
    "    else:\n",
    "        return True\n",
    "\n",
    "def days_in_month(year, month):\n",
    "    if year < 1582 or month < 1 or month > 12:\n",
    "        return None\n",
    "    days = [31, 28, 31, 30, 31, 30, 31, 31, 30, 31, 30, 31]\n",
    "    res  = days[month - 1]\n",
    "    if month == 2 and is_year_leap(year):\n",
    "        res = 29\n",
    "    return res\n",
    "\n",
    "def day_of_year(year, month, day):\n",
    "    days = 0\n",
    "    for m in range(1, month):\n",
    "        # ...\n",
    "        # if statement\n",
    "            # ...\n",
    "        days += md\n",
    "    md = days_in_month(year, month)\n",
    "    if day >= 1 and day <= md:\n",
    "        # ...\n",
    "    else:\n",
    "        # ...\n",
    "\n",
    "print(day_of_year(2000, 12, 31))"
   ]
  },
  {
   "cell_type": "code",
   "execution_count": 17,
   "metadata": {},
   "outputs": [
    {
     "name": "stdout",
     "output_type": "stream",
     "text": [
      "11\n"
     ]
    }
   ],
   "source": [
    "#267 \n",
    "def sumDiferencia(listaNumeros: list) -> int:\n",
    "  suma = 0\n",
    "  for i in range(len(listaNumeros)-1):\n",
    "    resta = listaNumeros[i+1] - listaNumeros[i]\n",
    "    suma += resta\n",
    "\n",
    "  return suma\n",
    "\n",
    "print(sumDiferencia([1, 3, 6, 10, 12]))"
   ]
  },
  {
   "cell_type": "code",
   "execution_count": 21,
   "metadata": {},
   "outputs": [
    {
     "name": "stdout",
     "output_type": "stream",
     "text": [
      "110\n",
      "10\n"
     ]
    }
   ],
   "source": [
    "#268\n",
    "def maximo(lista: list = [6, 2, 7, 1, 10, 1, 0]) -> int:\n",
    "\n",
    "  candidato = lista[0]\n",
    "\n",
    "  for elemento in lista:\n",
    "\n",
    "    if elemento > candidato:\n",
    "      candidato = elemento\n",
    "\n",
    "  return candidato\n",
    "\n",
    "\n",
    "print(maximo([1, 3, 6, 110, 12]))\n",
    "print(maximo())"
   ]
  },
  {
   "cell_type": "code",
   "execution_count": 20,
   "metadata": {},
   "outputs": [
    {
     "name": "stdout",
     "output_type": "stream",
     "text": [
      "5\n"
     ]
    }
   ],
   "source": [
    "#269\n",
    "def maximoNum(listaNum: list) -> int:\n",
    "\n",
    "  if len(listaNum) > 0:\n",
    "\n",
    "    series = 1\n",
    "\n",
    "    for i in range(1, len(listaNum)):   \n",
    "      if listaNum[i] != listaNum[i- 1]:\n",
    "        series += 1\n",
    "\n",
    "  else:\n",
    "    return None\n",
    "  \n",
    "  return series\n",
    "\n",
    "\n",
    "print(maximoNum([1,1,8,8,8,8,0,0,0,2,10,10]))"
   ]
  },
  {
   "cell_type": "code",
   "execution_count": 2,
   "metadata": {},
   "outputs": [
    {
     "name": "stdout",
     "output_type": "stream",
     "text": [
      "4\n"
     ]
    }
   ],
   "source": [
    "def maximoNum(listaNum: list) -> int:\n",
    "\n",
    "  if len(listaNum) > 0:\n",
    "\n",
    "    series = 0\n",
    "    in_series = False\n",
    "\n",
    "    for i in range(len(listaNum) - 1):\n",
    "      if listaNum[i] == listaNum[i+1]:\n",
    "        if not in_series:\n",
    "          series += 1\n",
    "          in_series = True\n",
    "\n",
    "      else:\n",
    "        in_series = False\n",
    "\n",
    "  else:\n",
    "    return None\n",
    "\n",
    "  return series\n",
    "\n",
    "\n",
    "print(maximoNum([1, 1,8,8,8,8,0,0,0,2,10,10]))"
   ]
  },
  {
   "cell_type": "code",
   "execution_count": 8,
   "metadata": {},
   "outputs": [
    {
     "name": "stdout",
     "output_type": "stream",
     "text": [
      "1\n"
     ]
    }
   ],
   "source": [
    "#270 \n",
    "def posicionLarga(listaNum: list) -> int:\n",
    "\n",
    "  if len(listaNum) == 0:\n",
    "    return -1\n",
    "  \n",
    "  max_length = 1\n",
    "  max_posicion = 0\n",
    "  current_length = 1\n",
    "  current_posicion = 1\n",
    "\n",
    "  for i in range(1, len(listaNum)):\n",
    "    if listaNum[i] == listaNum[i-1]:\n",
    "      current_length += 1\n",
    "      if current_length > max_length:\n",
    "        max_length = current_length\n",
    "        max_posicion = current_posicion\n",
    "    else:\n",
    "      current_length = 1\n",
    "      current_posicion = i\n",
    "    \n",
    "  \n",
    "  return max_posicion\n",
    "\n",
    "print(posicionLarga([8, 8, 8, 8, 8, 8, 9, 2, 2, 9, 9, 9, 9])) "
   ]
  },
  {
   "cell_type": "code",
   "execution_count": 13,
   "metadata": {},
   "outputs": [
    {
     "name": "stdout",
     "output_type": "stream",
     "text": [
      "None\n",
      "5.0\n",
      "5.0\n"
     ]
    }
   ],
   "source": [
    "#271\n",
    "def mediaLista(listaNum: list) -> float:\n",
    "\n",
    "  if len(listaNum) > 0:\n",
    "    suma = 0\n",
    "\n",
    "    for i in listaNum:\n",
    "      suma += i\n",
    "\n",
    "    media = suma/len(listaNum)\n",
    "\n",
    "    return media\n",
    "  \n",
    "  else:\n",
    "    return None\n",
    "  \n",
    "\n",
    "\n",
    "print(mediaLista([]))\n",
    "print(mediaLista([5,4,6]))\n",
    "print(mediaLista([2,3,3,5,7,10]))\n"
   ]
  },
  {
   "cell_type": "code",
   "execution_count": 16,
   "metadata": {},
   "outputs": [
    {
     "name": "stdout",
     "output_type": "stream",
     "text": [
      "24\n"
     ]
    }
   ],
   "source": [
    "#272\n",
    "def productoLista(numLista: list) -> int:\n",
    "\n",
    "  productoTotal = 1\n",
    "\n",
    "  for numero in numLista:\n",
    "    productoTotal *= numero\n",
    "\n",
    "  return productoTotal\n",
    "\n",
    "def ingresarLista() -> list:\n",
    "\n",
    "  maximo = int(input(\"Ingrese el tamaño de la lista: \"))\n",
    "  lista = []\n",
    "\n",
    "  for i in range(maximo):\n",
    "    numero = int(input(\"ingrese un numero: \"))\n",
    "    lista.append(numero)\n",
    "\n",
    "  return lista\n",
    "    \n",
    "listaNumero = ingresarLista()\n",
    "print(productoLista(listaNumero))"
   ]
  },
  {
   "cell_type": "code",
   "execution_count": 21,
   "metadata": {},
   "outputs": [
    {
     "name": "stdout",
     "output_type": "stream",
     "text": [
      "9\n"
     ]
    }
   ],
   "source": [
    "#273\n",
    "def mayor(lista: list) -> int:\n",
    "\n",
    "  candidato = lista[0]\n",
    "\n",
    "  for i in range(1, len(lista)):\n",
    "    if lista[i] > candidato:\n",
    "      candidato = lista[i]\n",
    "\n",
    "  return candidato\n",
    "\n",
    "def menor(lista: list) -> int:\n",
    "  \n",
    "  candidato = lista[0]\n",
    "\n",
    "  for i in range(1, len(lista)):\n",
    "    if lista[i] < candidato:\n",
    "      candidato = lista[i]\n",
    "\n",
    "  return candidato\n",
    "\n",
    "\n",
    "def diferencia(numeroLista: list) -> int:\n",
    "\n",
    "  nuevaLista = []\n",
    "\n",
    "  for numero in numeroLista:\n",
    "    if numero == 0:\n",
    "      continue\n",
    "    nuevaLista.append(numero)\n",
    "\n",
    "  return mayor(nuevaLista) - menor(nuevaLista)\n",
    "\n",
    "\n",
    "print(diferencia([1, 10, 2, 6, 3, 0]))"
   ]
  },
  {
   "cell_type": "code",
   "execution_count": 1,
   "metadata": {},
   "outputs": [
    {
     "name": "stdout",
     "output_type": "stream",
     "text": [
      "10\n"
     ]
    }
   ],
   "source": [
    "#274\n",
    "def mayormenor(lista: list) -> list:\n",
    "    \n",
    "    may = lista[0]\n",
    "    men = lista[0]\n",
    "\n",
    "    for x in range(1, len(lista)):\n",
    "        if lista[x] > may:\n",
    "            may = lista[x]\n",
    "        else:\n",
    "            if lista[x] < men:\n",
    "                men = lista[x]\n",
    "\n",
    "\n",
    "    return [may, men]\n",
    "\n",
    "def diferencia(listaNumber: list) -> int:\n",
    "    \n",
    "    mayor, menor = mayormenor(listaNumber)\n",
    "\n",
    "    return mayor - menor\n",
    "\n",
    "print(diferencia([1, 10, 2, 6, 2, 0]))"
   ]
  },
  {
   "cell_type": "code",
   "execution_count": 5,
   "metadata": {},
   "outputs": [
    {
     "name": "stdout",
     "output_type": "stream",
     "text": [
      "AlexAlexAlexAlexAlexAlex\n"
     ]
    }
   ],
   "source": [
    "#275\n",
    "def multiplicarCadena(palabra: str) -> str:\n",
    "\n",
    "  return palabra*6\n",
    "\n",
    "print(multiplicarCadena(\"Alex\"))"
   ]
  },
  {
   "cell_type": "code",
   "execution_count": 13,
   "metadata": {},
   "outputs": [
    {
     "name": "stdout",
     "output_type": "stream",
     "text": [
      "Hanyinson\n"
     ]
    }
   ],
   "source": [
    "#276\n",
    "def palabraLarga(listaPalabras: list) -> str:\n",
    "\n",
    "  mayor = len(listaPalabras[0])\n",
    "  cadena = listaPalabras[0]\n",
    "\n",
    "  for i in range(1, len(listaPalabras)):\n",
    "    if len(listaPalabras[i]) > mayor:\n",
    "      mayor = len(listaPalabras[i])\n",
    "      cadena = listaPalabras[i]\n",
    "\n",
    "  return cadena\n",
    "\n",
    "print(palabraLarga(['Pepe','Juan','Maria','Ana', 'Hanyinson']))"
   ]
  },
  {
   "cell_type": "code",
   "execution_count": 9,
   "metadata": {},
   "outputs": [
    {
     "name": "stdout",
     "output_type": "stream",
     "text": [
      "4\n",
      "['Pepe', 'Juan']\n"
     ]
    }
   ],
   "source": [
    "#277\n",
    "def palabraLarga(listaPalabras: list) -> list:\n",
    "\n",
    "  mayor = len(listaPalabras[0])\n",
    "\n",
    "  for i in range(1, len(listaPalabras)):\n",
    "    if len(listaPalabras[i]) > mayor:\n",
    "      mayor = len(listaPalabras[i])\n",
    "\n",
    "  return mayor\n",
    "  \n",
    "def listaLarga(listaPalabras: list) -> list:\n",
    "\n",
    "  listaGrandes = []\n",
    "  tamPalabra = palabraLarga(listaPalabras)\n",
    "\n",
    "  for palabra in listaPalabras:\n",
    "    if len(palabra) == tamPalabra:\n",
    "      listaGrandes.append(palabra)\n",
    "\n",
    "  return listaGrandes\n",
    "\n",
    "\n",
    "print(palabraLarga(['Pepe', 'Juan', 'Ana', 'Paz' ]))\n",
    "print(listaLarga(['Pepe', 'Juan', 'Ana', 'Paz']))\n"
   ]
  },
  {
   "cell_type": "code",
   "execution_count": null,
   "metadata": {},
   "outputs": [],
   "source": [
    "#278\n"
   ]
  },
  {
   "cell_type": "markdown",
   "metadata": {},
   "source": [
    "## 6.2.2 Definicion y uso de funciones con varios paramatros"
   ]
  },
  {
   "cell_type": "code",
   "execution_count": 11,
   "metadata": {},
   "outputs": [
    {
     "name": "stdout",
     "output_type": "stream",
     "text": [
      "7\n"
     ]
    }
   ],
   "source": [
    "#279\n",
    "def perimetroTriangulo(lado1: int, lado2: int, lado3: int) -> int:\n",
    "  \n",
    "  return lado1 + lado2 + lado3\n",
    "\n",
    "print(perimetroTriangulo(2, 3, 2))"
   ]
  },
  {
   "cell_type": "code",
   "execution_count": 17,
   "metadata": {},
   "outputs": [
    {
     "name": "stdout",
     "output_type": "stream",
     "text": [
      "2.0\n",
      "3.0\n"
     ]
    }
   ],
   "source": [
    "#280\n",
    "import math\n",
    "\n",
    "def log_base(b: float, x: float) -> float:\n",
    "    \n",
    "    if b <= 0 or b == 1:\n",
    "        raise ValueError(\n",
    "            \"La base del logaritmo debe ser mayor que 0 y diferente de 1\")\n",
    "    if x <= 0:\n",
    "        raise ValueError(\"El argumento del logaritmo debe ser mayor que 0\")\n",
    "\n",
    "    return math.log(x) / math.log(b)\n",
    "\n",
    "# Ejemplo de uso\n",
    "print(log_base(10, 100))  # Debería imprimir 2, ya que log_10(100) es 2\n",
    "print(log_base(2, 8))   # Debería imprimir 3, ya que log_2(8) es 3"
   ]
  },
  {
   "cell_type": "code",
   "execution_count": null,
   "metadata": {},
   "outputs": [],
   "source": [
    "#281\n"
   ]
  }
 ],
 "metadata": {
  "kernelspec": {
   "display_name": "base",
   "language": "python",
   "name": "python3"
  },
  "language_info": {
   "codemirror_mode": {
    "name": "ipython",
    "version": 3
   },
   "file_extension": ".py",
   "mimetype": "text/x-python",
   "name": "python",
   "nbconvert_exporter": "python",
   "pygments_lexer": "ipython3",
   "version": "3.10.9"
  }
 },
 "nbformat": 4,
 "nbformat_minor": 2
}
