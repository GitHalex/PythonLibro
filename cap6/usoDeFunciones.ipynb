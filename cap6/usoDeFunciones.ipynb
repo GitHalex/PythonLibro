{
 "cells": [
  {
   "cell_type": "markdown",
   "metadata": {},
   "source": [
    "# 6.2 Definicion de funciones"
   ]
  },
  {
   "cell_type": "markdown",
   "metadata": {},
   "source": [
    "## 6.2.1 Deficnion y uso de funciones con un solo parametro"
   ]
  },
  {
   "cell_type": "code",
   "execution_count": 5,
   "metadata": {},
   "outputs": [
    {
     "name": "stdout",
     "output_type": "stream",
     "text": [
      "4\n",
      "900\n"
     ]
    }
   ],
   "source": [
    "def cuadrado(x: int) -> int:\n",
    "  return x**2\n",
    "\n",
    "print(cuadrado(2))\n",
    "a = 1 + cuadrado(3)\n",
    "print(cuadrado(a*3))"
   ]
  },
  {
   "cell_type": "code",
   "execution_count": 10,
   "metadata": {},
   "outputs": [
    {
     "name": "stdout",
     "output_type": "stream",
     "text": [
      "3.0\n"
     ]
    }
   ],
   "source": [
    "#252\n",
    "def raiz_cubica(x: int) -> float:\n",
    "  return x**(1/3)\n",
    "print(raiz_cubica(27))"
   ]
  },
  {
   "cell_type": "code",
   "execution_count": 15,
   "metadata": {},
   "outputs": [
    {
     "name": "stdout",
     "output_type": "stream",
     "text": [
      "12.5664\n"
     ]
    }
   ],
   "source": [
    "#253\n",
    "def areaCirculo(radio: int) -> float:\n",
    "  PI = 3.1416\n",
    "  return PI*radio**2\n",
    "\n",
    "print(areaCirculo(2))"
   ]
  },
  {
   "cell_type": "code",
   "execution_count": 18,
   "metadata": {},
   "outputs": [
    {
     "name": "stdout",
     "output_type": "stream",
     "text": [
      "50.0\n"
     ]
    }
   ],
   "source": [
    "#254\n",
    "def convertirACentigrados(grados_fahrenheit: float) -> float:\n",
    "    return (grados_fahrenheit - 32) * (5/9)\n",
    "\n",
    "print(convertirACentigrados(122))  # Debería imprimir 50.0"
   ]
  },
  {
   "cell_type": "code",
   "execution_count": 20,
   "metadata": {},
   "outputs": [
    {
     "name": "stdout",
     "output_type": "stream",
     "text": [
      "122.0\n"
     ]
    }
   ],
   "source": [
    "#255\n",
    "def convertirAfarenheit(grados_centigrados: int) -> float:\n",
    "    return grados_centigrados * (9/5) + 32\n",
    "\n",
    "print(convertirAfarenheit(50))"
   ]
  },
  {
   "cell_type": "code",
   "execution_count": 23,
   "metadata": {},
   "outputs": [
    {
     "name": "stdout",
     "output_type": "stream",
     "text": [
      "180.0 grados\n",
      "360.0 grados\n"
     ]
    }
   ],
   "source": [
    "#256\n",
    "from math import pi\n",
    "\n",
    "def convertirAGrados(radianes: float) -> float:\n",
    "    return radianes * (180 / pi)\n",
    "\n",
    "print(f\"{convertirAGrados(pi)} grados\")  # Debería imprimir 180.0\n",
    "print(f\"{convertirAGrados(2 *pi)} grados\")  # Debería imprimir 360.0"
   ]
  },
  {
   "cell_type": "code",
   "execution_count": 26,
   "metadata": {},
   "outputs": [
    {
     "name": "stdout",
     "output_type": "stream",
     "text": [
      "3.141592653589793\n",
      "6.283185307179586\n"
     ]
    }
   ],
   "source": [
    "#257\n",
    "from math import pi\n",
    "\n",
    "def convertirARadianes(grados: float) -> float:\n",
    "  return grados * (pi/180)\n",
    "\n",
    "print(convertirARadianes(180))\n",
    "print(convertirARadianes(360))"
   ]
  },
  {
   "cell_type": "code",
   "execution_count": 4,
   "metadata": {},
   "outputs": [
    {
     "name": "stdout",
     "output_type": "stream",
     "text": [
      "False\n",
      "True\n"
     ]
    }
   ],
   "source": [
    "#258\n",
    "def es_mayor_de_edad(edad: int) -> bool:\n",
    "\n",
    "  if edad < 18:\n",
    "    return False\n",
    "  \n",
    "  return True\n",
    "\n",
    "print(es_mayor_de_edad(12))\n",
    "print(es_mayor_de_edad(18))"
   ]
  },
  {
   "cell_type": "code",
   "execution_count": 7,
   "metadata": {},
   "outputs": [
    {
     "name": "stdout",
     "output_type": "stream",
     "text": [
      "True\n",
      "False\n"
     ]
    }
   ],
   "source": [
    "#259\n",
    "def es_mayor_de_edad(edad: int) -> bool:\n",
    "  return edad >= 18\n",
    "\n",
    "print(es_mayor_de_edad(30))\n",
    "print(es_mayor_de_edad(3))"
   ]
  },
  {
   "cell_type": "code",
   "execution_count": 15,
   "metadata": {},
   "outputs": [
    {
     "name": "stdout",
     "output_type": "stream",
     "text": [
      "W\n",
      "No es numero que esta entre 0-22\n",
      "No es numero que esta entre 0-22\n",
      "E\n"
     ]
    }
   ],
   "source": [
    "#260\n",
    "def letraDNI(numero: int, listaDNI: list) -> str:\n",
    "    if numero < 0 or numero > 22:\n",
    "        return \"No es numero que esta entre 0-22\"\n",
    "    dniResto = numero % 23\n",
    "    return listaDNI[dniResto]\n",
    "\n",
    "listaDNI = ['T', 'R', 'W', 'A', 'G', 'M', 'Y', 'F', 'P', 'D', 'X','B', 'N', 'J', 'Z', 'S', 'Q', 'V', 'H', 'L', 'C', 'K', 'E']\n",
    "\n",
    "# Ejemplo de uso:\n",
    "print(letraDNI(2, listaDNI))  # Debería imprimir 'W'\n",
    "# Debería imprimir 'No es numero que esta entre 0-22'\n",
    "print(letraDNI(25, listaDNI))\n",
    "print(letraDNI(23, listaDNI))\n",
    "print(letraDNI(22, listaDNI))  # Debería imprimir 'E'"
   ]
  },
  {
   "cell_type": "code",
   "execution_count": 16,
   "metadata": {},
   "outputs": [
    {
     "name": "stdout",
     "output_type": "stream",
     "text": [
      "True\n",
      "False\n"
     ]
    }
   ],
   "source": [
    "#261\n",
    "def esMayuscula(palabra: str) -> bool:\n",
    "  return palabra[0].isupper()\n",
    "\n",
    "print(esMayuscula(\"Alex\"))\n",
    "print(esMayuscula(\"alex\"))"
   ]
  }
 ],
 "metadata": {
  "kernelspec": {
   "display_name": "base",
   "language": "python",
   "name": "python3"
  },
  "language_info": {
   "codemirror_mode": {
    "name": "ipython",
    "version": 3
   },
   "file_extension": ".py",
   "mimetype": "text/x-python",
   "name": "python",
   "nbconvert_exporter": "python",
   "pygments_lexer": "ipython3",
   "version": "3.10.9"
  }
 },
 "nbformat": 4,
 "nbformat_minor": 2
}
