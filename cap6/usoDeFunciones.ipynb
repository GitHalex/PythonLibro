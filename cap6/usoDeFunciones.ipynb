{
 "cells": [
  {
   "cell_type": "markdown",
   "metadata": {},
   "source": [
    "# 6.2 Definicion de funciones"
   ]
  },
  {
   "cell_type": "markdown",
   "metadata": {},
   "source": [
    "## 6.2.1 Deficnion y uso de funciones con un solo parametro"
   ]
  },
  {
   "cell_type": "code",
   "execution_count": 5,
   "metadata": {},
   "outputs": [
    {
     "name": "stdout",
     "output_type": "stream",
     "text": [
      "4\n",
      "900\n"
     ]
    }
   ],
   "source": [
    "def cuadrado(x: int) -> int:\n",
    "  return x**2\n",
    "\n",
    "print(cuadrado(2))\n",
    "a = 1 + cuadrado(3)\n",
    "print(cuadrado(a*3))"
   ]
  },
  {
   "cell_type": "code",
   "execution_count": 10,
   "metadata": {},
   "outputs": [
    {
     "name": "stdout",
     "output_type": "stream",
     "text": [
      "3.0\n"
     ]
    }
   ],
   "source": [
    "#252\n",
    "def raiz_cubica(x: int) -> float:\n",
    "  return x**(1/3)\n",
    "print(raiz_cubica(27))"
   ]
  },
  {
   "cell_type": "code",
   "execution_count": 11,
   "metadata": {},
   "outputs": [
    {
     "name": "stdout",
     "output_type": "stream",
     "text": [
      "12.5664\n"
     ]
    }
   ],
   "source": [
    "#253\n",
    "def areaCirculo(radio: int) -> float:\n",
    "  PI = 3.1416\n",
    "  return PI*radio**2\n",
    "\n",
    "print(areaCirculo(2))"
   ]
  }
 ],
 "metadata": {
  "kernelspec": {
   "display_name": "base",
   "language": "python",
   "name": "python3"
  },
  "language_info": {
   "codemirror_mode": {
    "name": "ipython",
    "version": 3
   },
   "file_extension": ".py",
   "mimetype": "text/x-python",
   "name": "python",
   "nbconvert_exporter": "python",
   "pygments_lexer": "ipython3",
   "version": "3.10.9"
  }
 },
 "nbformat": 4,
 "nbformat_minor": 2
}
