{
 "cells": [
  {
   "cell_type": "code",
   "execution_count": 3,
   "id": "baa20b7e",
   "metadata": {},
   "outputs": [
    {
     "name": "stdout",
     "output_type": "stream",
     "text": [
      "True\n",
      "True\n",
      "True\n",
      "False\n",
      "True\n"
     ]
    }
   ],
   "source": [
    "#16\n",
    "print(True == True != False)\n",
    "print(1<2<3<4<5)\n",
    "print((1<2<3)and(4<5))\n",
    "print(1<2<4<3<5)\n",
    "print((1<2<4)and (3<5))"
   ]
  },
  {
   "cell_type": "code",
   "execution_count": 5,
   "id": "d0322158",
   "metadata": {},
   "outputs": [
    {
     "name": "stdout",
     "output_type": "stream",
     "text": [
      "60\n",
      "65536\n"
     ]
    }
   ],
   "source": [
    "#17\n",
    "print(0xf + 0o17 + 15 + 0b1111)\n",
    "print(0xffff + 0b1)"
   ]
  }
 ],
 "metadata": {
  "kernelspec": {
   "display_name": "Python 3 (ipykernel)",
   "language": "python",
   "name": "python3"
  },
  "language_info": {
   "codemirror_mode": {
    "name": "ipython",
    "version": 3
   },
   "file_extension": ".py",
   "mimetype": "text/x-python",
   "name": "python",
   "nbconvert_exporter": "python",
   "pygments_lexer": "ipython3",
   "version": "3.10.9"
  }
 },
 "nbformat": 4,
 "nbformat_minor": 5
}
