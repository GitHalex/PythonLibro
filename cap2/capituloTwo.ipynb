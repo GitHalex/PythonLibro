{
 "cells": [
  {
   "cell_type": "code",
   "execution_count": 1,
   "id": "baa20b7e",
   "metadata": {},
   "outputs": [
    {
     "name": "stdout",
     "output_type": "stream",
     "text": [
      "True\n",
      "True\n",
      "True\n",
      "False\n",
      "True\n"
     ]
    }
   ],
   "source": [
    "#16\n",
    "print(True == True != False)\n",
    "print(1<2<3<4<5)\n",
    "print((1<2<3)and(4<5))\n",
    "print(1<2<4<3<5)\n",
    "print((1<2<4)and (3<5))"
   ]
  },
  {
   "cell_type": "code",
   "execution_count": 1,
   "id": "d0322158",
   "metadata": {},
   "outputs": [
    {
     "name": "stdout",
     "output_type": "stream",
     "text": [
      "60\n",
      "65536\n",
      "Esto es otro prueba\n"
     ]
    }
   ],
   "source": [
    "#17\n",
    "print(0xf + 0o17 + 15 + 0b1111)\n",
    "print(0xffff + 0b1)\n",
    "print(\"Esto es otro prueba\")"
   ]
  },
  {
   "cell_type": "code",
   "execution_count": 7,
   "id": "0fa05594",
   "metadata": {},
   "outputs": [
    {
     "name": "stdout",
     "output_type": "stream",
     "text": [
      "100\n"
     ]
    }
   ],
   "source": [
    "#19\n",
    "x = 10\n",
    "x = x*10\n",
    "print(x)"
   ]
  },
  {
   "cell_type": "code",
   "execution_count": 9,
   "id": "02c9f381",
   "metadata": {},
   "outputs": [
    {
     "name": "stdout",
     "output_type": "stream",
     "text": [
      "4.1151\n"
     ]
    }
   ],
   "source": [
    "#20\n",
    "x = 1.1\n",
    "y = x**4 + x**3 + 2*x**2 - x\n",
    "print(round(y, 4))"
   ]
  },
  {
   "cell_type": "code",
   "execution_count": 10,
   "id": "db7d3acc",
   "metadata": {},
   "outputs": [
    {
     "name": "stdout",
     "output_type": "stream",
     "text": [
      "11040.0\n"
     ]
    }
   ],
   "source": [
    "#21\n",
    "x = 10\n",
    "x = x**4 + x**3 + 1/2*x**2 -x \n",
    "print(round(x, 1)) "
   ]
  },
  {
   "cell_type": "code",
   "execution_count": 1,
   "id": "43ea5ec9",
   "metadata": {},
   "outputs": [
    {
     "name": "stdout",
     "output_type": "stream",
     "text": [
      "4\n",
      "4\n",
      "8\n",
      "16\n",
      "8\n",
      "2\n",
      "1.0\n",
      "-2.0\n",
      "-4.0\n",
      "-64.0\n",
      "Esto ya se me aclorao todo\n"
     ]
    }
   ],
   "source": [
    "# 22\n",
    "z = 2\n",
    "z += 2\n",
    "print(z)\n",
    "z += 2 -2\n",
    "print(z) \n",
    "z *= 2\n",
    "print(z) \n",
    "z *= 1 + 1\n",
    "print(z)\n",
    "z //= 2\n",
    "print(z) \n",
    "z %= 3\n",
    "print(z) \n",
    "z /= 3 - 1\n",
    "print(z) \n",
    "z -= 2 + 1\n",
    "print(z) \n",
    "z -= 2\n",
    "print(z) \n",
    "z **= 3\n",
    "print(z) \n",
    "print(\"Esto ya se me aclorao todo\")\n"
   ]
  },
  {
   "cell_type": "code",
   "execution_count": 2,
   "id": "95ff5198",
   "metadata": {},
   "outputs": [
    {
     "name": "stdout",
     "output_type": "stream",
     "text": [
      "bb\n",
      "ba\n",
      "bbbbb\n",
      "bbbb\n",
      "abab\n"
     ]
    }
   ],
   "source": [
    "#23\n",
    "a = 'b'\n",
    "print(a+'b')\n",
    "print(a+'a')\n",
    "print(a*2 + 'b'*3)\n",
    "print(2*(a+'b'))\n",
    "print(2*('a'+'b'))"
   ]
  },
  {
   "cell_type": "code",
   "execution_count": 3,
   "id": "58f5a3d9",
   "metadata": {},
   "outputs": [
    {
     "name": "stdout",
     "output_type": "stream",
     "text": [
      "aaa/*/*/*/*/*abcabc+\n",
      "<<<<abcba>>>><<<<abcba>>>>\n",
      "1010101010=---==---==---==---=\n",
      "1212.333e-76767676\n"
     ]
    }
   ],
   "source": [
    "#24\n",
    "print('a'*3+'/*'*5+2*'abc'+'+')\n",
    "palindromo = 'abcba'\n",
    "print((4*'<'+palindromo+'>'*4)*2)\n",
    "subcadena = '='+'-'*3 + '='\n",
    "print('10'*5+4*subcadena)\n",
    "print(2*'12'+'.'+'3'*3+'e-'+4*'76')"
   ]
  },
  {
   "cell_type": "code",
   "execution_count": 5,
   "id": "2c57e571",
   "metadata": {},
   "outputs": [
    {
     "name": "stdout",
     "output_type": "stream",
     "text": [
      "3\n",
      "3\n"
     ]
    }
   ],
   "source": [
    "#26\n",
    "print(round(abs(-3.2)))\n",
    "print(abs(round(-3.2)))"
   ]
  },
  {
   "cell_type": "code",
   "execution_count": 7,
   "id": "5659efed",
   "metadata": {},
   "outputs": [
    {
     "name": "stdout",
     "output_type": "stream",
     "text": [
      "5.011\n"
     ]
    }
   ],
   "source": [
    "#27\n",
    "res = 5011/1000\n",
    "print(str(round(res, 3)))"
   ]
  },
  {
   "cell_type": "code",
   "execution_count": 8,
   "id": "6807e0f0",
   "metadata": {},
   "outputs": [
    {
     "name": "stdout",
     "output_type": "stream",
     "text": [
      "2.12.1\n",
      "23\n",
      "120\n",
      "23\n",
      "5\n",
      "5.0\n"
     ]
    }
   ],
   "source": [
    "#28\n",
    "print(str(2.1)+str(2.1))\n",
    "print(int(str(2)+str(3)))\n",
    "print(str(int(12.3))+'0')\n",
    "print(int('2'+'3'))\n",
    "print(str(2+3))\n",
    "print(int(2.1) + float(3))"
   ]
  },
  {
   "cell_type": "code",
   "execution_count": 9,
   "id": "41f6c3aa",
   "metadata": {},
   "outputs": [
    {
     "name": "stdout",
     "output_type": "stream",
     "text": [
      "True\n",
      "False\n",
      "True\n",
      "True\n",
      "False\n",
      "False\n",
      "True\n",
      "True\n"
     ]
    }
   ],
   "source": [
    "#29\n",
    "print('abalorio'<'abecedario')\n",
    "print('abecedario'<'abecedario')\n",
    "print('abecedario'<='abecedario')\n",
    "print('Abecedario'<'abecedario')\n",
    "print('Abecedario' == 'abecedario')\n",
    "print(123<13)\n",
    "print('124'<'13')\n",
    "print(' a' < 'a')"
   ]
  },
  {
   "cell_type": "code",
   "execution_count": 15,
   "id": "278d0364",
   "metadata": {},
   "outputs": [
    {
     "name": "stdout",
     "output_type": "stream",
     "text": [
      "9\n",
      "-4\n",
      "10.0\n",
      "9.634\n"
     ]
    }
   ],
   "source": [
    "#30 esto es una\n",
    "from math import sin, log, exp, pi, log10, sqrt\n",
    "print(int(exp(2*log(3))))\n",
    "print(round(4*sin(3*pi/2)))\n",
    "print(abs(log10(.01) * sqrt(25)))\n",
    "print(round(3.21123*log10(1000), 3))\n",
    "\n"
   ]
  },
  {
   "cell_type": "code",
   "execution_count": 17,
   "id": "c5904ea9",
   "metadata": {},
   "outputs": [
    {
     "name": "stdout",
     "output_type": "stream",
     "text": [
      "3.10.9 (main, Mar  1 2023, 18:23:06) [GCC 11.2.0]\n",
      "linux\n"
     ]
    }
   ],
   "source": [
    "from sys import version, platform\n",
    "print(version)\n",
    "print(platform)"
   ]
  },
  {
   "cell_type": "code",
   "execution_count": null,
   "id": "5c6c13f0",
   "metadata": {},
   "outputs": [],
   "source": []
  }
 ],
 "metadata": {
  "kernelspec": {
   "display_name": "Python 3 (ipykernel)",
   "language": "python",
   "name": "python3"
  },
  "language_info": {
   "codemirror_mode": {
    "name": "ipython",
    "version": 3
   },
   "file_extension": ".py",
   "mimetype": "text/x-python",
   "name": "python",
   "nbconvert_exporter": "python",
   "pygments_lexer": "ipython3",
   "version": "3.10.9"
  }
 },
 "nbformat": 4,
 "nbformat_minor": 5
}
