{
 "cells": [
  {
   "cell_type": "code",
   "execution_count": 3,
   "id": "baa20b7e",
   "metadata": {},
   "outputs": [
    {
     "name": "stdout",
     "output_type": "stream",
     "text": [
      "True\n",
      "True\n",
      "True\n",
      "False\n",
      "True\n"
     ]
    }
   ],
   "source": [
    "#16\n",
    "print(True == True != False)\n",
    "print(1<2<3<4<5)\n",
    "print((1<2<3)and(4<5))\n",
    "print(1<2<4<3<5)\n",
    "print((1<2<4)and (3<5))"
   ]
  },
  {
   "cell_type": "code",
   "execution_count": 6,
   "id": "d0322158",
   "metadata": {},
   "outputs": [
    {
     "name": "stdout",
     "output_type": "stream",
     "text": [
      "60\n",
      "65536\n"
     ]
    }
   ],
   "source": [
    "#17\n",
    "print(0xf + 0o17 + 15 + 0b1111)\n",
    "print(0xffff + 0b1)"
   ]
  },
  {
   "cell_type": "code",
   "execution_count": 7,
   "id": "0fa05594",
   "metadata": {},
   "outputs": [
    {
     "name": "stdout",
     "output_type": "stream",
     "text": [
      "100\n"
     ]
    }
   ],
   "source": [
    "#19\n",
    "x = 10\n",
    "x = x*10\n",
    "print(x)"
   ]
  },
  {
   "cell_type": "code",
   "execution_count": 9,
   "id": "02c9f381",
   "metadata": {},
   "outputs": [
    {
     "name": "stdout",
     "output_type": "stream",
     "text": [
      "4.1151\n"
     ]
    }
   ],
   "source": [
    "#20\n",
    "x = 1.1\n",
    "y = x**4 + x**3 + 2*x**2 - x\n",
    "print(round(y, 4))"
   ]
  },
  {
   "cell_type": "code",
   "execution_count": 10,
   "id": "db7d3acc",
   "metadata": {},
   "outputs": [
    {
     "name": "stdout",
     "output_type": "stream",
     "text": [
      "11040.0\n"
     ]
    }
   ],
   "source": [
    "#21\n",
    "x = 10\n",
    "x = x**4 + x**3 + 1/2*x**2 -x \n",
    "print(round(x, 1))"
   ]
  },
  {
   "cell_type": "code",
   "execution_count": 18,
   "id": "43ea5ec9",
   "metadata": {},
   "outputs": [
    {
     "name": "stdout",
     "output_type": "stream",
     "text": [
      "4\n",
      "4\n",
      "8\n",
      "16\n",
      "8\n",
      "2\n",
      "1.0\n",
      "-2.0\n",
      "-4.0\n",
      "-64.0\n"
     ]
    }
   ],
   "source": [
    "z = 2\n",
    "z += 2\n",
    "print(z)\n",
    "z += 2 -2\n",
    "print(z) \n",
    "z *= 2\n",
    "print(z) \n",
    "z *= 1 + 1\n",
    "print(z)\n",
    "z //= 2\n",
    "print(z) \n",
    "z %= 3\n",
    "print(z) \n",
    "z /= 3 - 1\n",
    "print(z) \n",
    "z -= 2 + 1\n",
    "print(z) \n",
    "z -= 2\n",
    "print(z) \n",
    "z **= 3\n",
    "print(z) \n"
   ]
  },
  {
   "cell_type": "code",
   "execution_count": null,
   "id": "95ff5198",
   "metadata": {},
   "outputs": [],
   "source": []
  }
 ],
 "metadata": {
  "kernelspec": {
   "display_name": "Python 3 (ipykernel)",
   "language": "python",
   "name": "python3"
  },
  "language_info": {
   "codemirror_mode": {
    "name": "ipython",
    "version": 3
   },
   "file_extension": ".py",
   "mimetype": "text/x-python",
   "name": "python",
   "nbconvert_exporter": "python",
   "pygments_lexer": "ipython3",
   "version": "3.10.9"
  }
 },
 "nbformat": 4,
 "nbformat_minor": 5
}
