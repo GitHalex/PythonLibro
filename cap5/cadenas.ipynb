{
 "cells": [
  {
   "cell_type": "code",
   "execution_count": 3,
   "id": "1c08e6e2",
   "metadata": {},
   "outputs": [
    {
     "name": "stdout",
     "output_type": "stream",
     "text": [
      "\\n\n",
      "octal\n",
      "\t\tuno\n"
     ]
    }
   ],
   "source": [
    "#143 Programa que muestra ejemplos\n",
    "print(\"\\\\n\")\n",
    "print(\"\\157\\143\\164\\141\\154\")\n",
    "print('\\t\\tuna\\bo')"
   ]
  },
  {
   "cell_type": "code",
   "execution_count": 9,
   "id": "91ab704c",
   "metadata": {},
   "outputs": [
    {
     "name": "stdout",
     "output_type": "stream",
     "text": [
      "\\\\\n"
     ]
    }
   ],
   "source": [
    "#144 Programa que representa dos barras invertidas seguidas\n",
    "print(\"\\\\\\\\\")"
   ]
  },
  {
   "cell_type": "code",
   "execution_count": 5,
   "id": "f6e6866d",
   "metadata": {},
   "outputs": [
    {
     "name": "stdout",
     "output_type": "stream",
     "text": [
      "\u0007\n"
     ]
    }
   ],
   "source": [
    "#145 Secuencia de escape \\a emite un aviso (La campanada) que hace exactamente cuando se imprime en pantalla?\n",
    "print(\"\\a\")"
   ]
  },
  {
   "cell_type": "code",
   "execution_count": 9,
   "id": "8e3cd93d",
   "metadata": {},
   "outputs": [
    {
     "name": "stdout",
     "output_type": "stream",
     "text": [
      "U+0000 CONTROL CHARACTER U+0000\n",
      "U+0001 CONTROL CHARACTER U+0001\n",
      "U+0002 CONTROL CHARACTER U+0002\n",
      "U+0003 CONTROL CHARACTER U+0003\n",
      "U+0004 CONTROL CHARACTER U+0004\n",
      "U+0005 CONTROL CHARACTER U+0005\n",
      "U+0006 CONTROL CHARACTER U+0006\n",
      "U+0007 CONTROL CHARACTER U+0007\n",
      "U+0008 CONTROL CHARACTER U+0008\n",
      "U+0009 CONTROL CHARACTER U+0009\n"
     ]
    }
   ],
   "source": [
    "#146 Averigua los primeros 10 caracteres unicode de la tabla que hemos mostrado las secuencias de escape para caracteres de control\n",
    "import unicodedata\n",
    "\n",
    "for i in range(0, 10):\n",
    "    char = chr(i)\n",
    "    char_name = unicodedata.name(char, f'CONTROL CHARACTER U+{i:04X}')\n",
    "    print(f'U+{i:04X} {char_name}')"
   ]
  },
  {
   "cell_type": "code",
   "execution_count": 17,
   "id": "140ee94f",
   "metadata": {},
   "outputs": [
    {
     "name": "stdout",
     "output_type": "stream",
     "text": [
      "W\n"
     ]
    }
   ],
   "source": [
    "#147 Programa que lea de teclado un nuero de DNI y muestre por pantalla la letra que corresponde\n",
    "DNI = \"TRWAGMYFPDXBNJZSQVHLCKE\"\n",
    "numero = int(input(\"Ingresa un numero: \"))\n",
    "resto = numero%23 \n",
    "print(DNI[resto])"
   ]
  },
  {
   "cell_type": "code",
   "execution_count": 9,
   "id": "6940937c",
   "metadata": {},
   "outputs": [
    {
     "name": "stdout",
     "output_type": "stream",
     "text": [
      "a\n",
      "n\n",
      "e\n",
      "d\n",
      "a\n",
      "c\n",
      " \n",
      "i\n",
      "m\n"
     ]
    }
   ],
   "source": [
    "a = \"mi cadena\"\n",
    "for i in range(len(a)):\n",
    "   print(a[len(a)-i-1])"
   ]
  },
  {
   "cell_type": "code",
   "execution_count": 20,
   "id": "da058145",
   "metadata": {},
   "outputs": [
    {
     "name": "stdout",
     "output_type": "stream",
     "text": [
      "a\n",
      "n\n",
      "e\n",
      "d\n",
      "a\n",
      "c\n",
      " \n",
      "i\n",
      "m\n"
     ]
    }
   ],
   "source": [
    "#148 Programa que verficamos si muestra el orden de los caracteres en orden inverso\n",
    "a = \"mi cadena\"\n",
    "for i in range(len(a)-1, -1, -1):\n",
    "   print(a[i])"
   ]
  },
  {
   "cell_type": "code",
   "execution_count": 16,
   "id": "dd5a3e3f",
   "metadata": {},
   "outputs": [
    {
     "name": "stdout",
     "output_type": "stream",
     "text": [
      "a\n",
      "n\n",
      "e\n",
      "d\n",
      "a\n",
      "c\n",
      " \n",
      "i\n",
      "m\n"
     ]
    }
   ],
   "source": [
    "#149 Programa que verficamos si muestra el orden inverso de los caracteres en orden inverso\n",
    "a = \"mi cadena\"\n",
    "for i in range(len(a)-1, -1, -1):\n",
    "   print(a[i])"
   ]
  },
  {
   "cell_type": "code",
   "execution_count": 12,
   "id": "3efb1bc2",
   "metadata": {},
   "outputs": [
    {
     "name": "stdout",
     "output_type": "stream",
     "text": [
      "hola como estas\n",
      "La cantidad de espacios de la frase arriba son 2\n",
      "La cantidad de espacion 2\n"
     ]
    }
   ],
   "source": [
    "#150 Programa que lea una cadena y muestra el numero de espacion en blanco que contiene\n",
    "cadena = input(\"Ingrese una frase con espacios\")\n",
    "print(cadena)\n",
    "espacios = 0\n",
    "for i in range(len(cadena)):\n",
    "   if cadena[i] == \" \":\n",
    "      espacios += 1\n",
    "\n",
    "print(f\"La cantidad de espacios de la frase arriba son {espacios}\")\n",
    "\n",
    "esp = 0\n",
    "for j in cadena:\n",
    "   if j == \" \":\n",
    "      esp += 1\n",
    "print(f\"La cantidad de espacion {esp}\")\n"
   ]
  },
  {
   "cell_type": "code",
   "execution_count": 13,
   "id": "2d6edbde",
   "metadata": {},
   "outputs": [
    {
     "name": "stdout",
     "output_type": "stream",
     "text": [
      "Hola como Es\n",
      "Cantidad de mayusculas 2\n",
      "Cantidad de mayuscilaas 2\n"
     ]
    }
   ],
   "source": [
    "#151 Programa que lea una cadena y muestre el numero de letras mayusculas que contiene\n",
    "frase = input(\"Ingrese una frase con mayusculas: \")\n",
    "print(frase)\n",
    "mayusculas = 0\n",
    "for i in range(len(frase)):\n",
    "   mayus = frase[i]\n",
    "   if frase[i] == mayus.upper() and frase[i] != \" \":\n",
    "      mayusculas += 1\n",
    "print(f\"Cantidad de mayusculas {mayusculas}\")\n",
    "\n",
    "may = 0\n",
    "for j in frase:\n",
    "   aux = j\n",
    "   if j == aux.upper() and j != \" \":\n",
    "      may += 1\n",
    "\n",
    "print(f\"Cantidad de mayuscilaas {may}\")\n",
    "\n",
    "      "
   ]
  },
  {
   "cell_type": "code",
   "execution_count": 1,
   "id": "493e3694",
   "metadata": {},
   "outputs": [
    {
     "name": "stdout",
     "output_type": "stream",
     "text": [
      "12hola como estas\n",
      "La frase tiene 2 digitos\n"
     ]
    }
   ],
   "source": [
    "#152 Programa que cuenta las cantidad de digitos\n",
    "digitos = 0\n",
    "frase_digitos = input(\"Ingrese una frase con digitos: \")\n",
    "print(frase_digitos)\n",
    "for i in range(len(frase_digitos)):\n",
    "   esDigito = frase_digitos[i]\n",
    "   if frase_digitos[i].isnumeric():\n",
    "      digitos += 1\n",
    "print(f\"La frase tiene {digitos} digitos\")"
   ]
  },
  {
   "cell_type": "markdown",
   "id": "460c038d",
   "metadata": {},
   "source": [
    "# 5.1.6 Un Ejemplo: un contador de palabras"
   ]
  },
  {
   "cell_type": "code",
   "execution_count": 1,
   "id": "18aeac51",
   "metadata": {},
   "outputs": [
    {
     "name": "stdout",
     "output_type": "stream",
     "text": [
      "hola como estas\n",
      "Palabras:  3\n"
     ]
    }
   ],
   "source": [
    "cadena = input(\"Escriba una frase: \")\n",
    "print(cadena)\n",
    "while cadena != \"\":\n",
    "   blancos = 0\n",
    "   for caracter in cadena:\n",
    "      if caracter == \" \":\n",
    "         blancos += 1\n",
    "   palabras = blancos + 1 # Hay una palabra más que blancos\n",
    "   print(\"Palabras: \", palabras)\n",
    "\n",
    "   cadena = input(\"Escribe una frase: \") "
   ]
  },
  {
   "cell_type": "code",
   "execution_count": 2,
   "id": "8d224187",
   "metadata": {},
   "outputs": [
    {
     "name": "stdout",
     "output_type": "stream",
     "text": [
      "hola como estas  \n",
      "Palabras: 4\n"
     ]
    }
   ],
   "source": [
    "#153 traza de a_b\n",
    "cadena = input(\"Escriba una frase: \")\n",
    "print(cadena)\n",
    "while cadena != \"\":\n",
    "   cambios = 0\n",
    "   anterior = \"\"\n",
    "   for caracter in cadena:\n",
    "      if caracter == \" \" and anterior != \" \":\n",
    "         cambios += 1\n",
    "      anterior = caracter\n",
    "\n",
    "   palabras = cambios + 1 #Hay una palabra mas que cambios de no blanco a blanco\n",
    "   print(f\"Palabras: {palabras}\")\n",
    "\n",
    "   cadena = input(\"Escriba una frase: \")"
   ]
  },
  {
   "cell_type": "code",
   "execution_count": 3,
   "id": "81911c65",
   "metadata": {},
   "outputs": [
    {
     "name": "stdout",
     "output_type": "stream",
     "text": [
      "hola como estas   \n",
      "Palabras: 3\n"
     ]
    }
   ],
   "source": [
    "#154 traza de diferentes cadenas\n",
    "cadena = input(\"Escriba una frase: \")\n",
    "print(cadena)\n",
    "while cadena != \"\":\n",
    "   cambios = 0\n",
    "   anterior = \" \"\n",
    "   for caracter in cadena:\n",
    "      if caracter == \" \" and anterior != \" \":\n",
    "         cambios += 1\n",
    "      anterior = caracter\n",
    "      \n",
    "   if cadena[-1] == \" \":\n",
    "      cambios -= 1\n",
    "\n",
    "   palabras = cambios + 1 #Hay una palabra mas que cambios de no blanco a blanco\n",
    "   print(f\"Palabras: {palabras}\")\n",
    "\n",
    "   cadena = input(\"Escriba una frase: \")"
   ]
  },
  {
   "cell_type": "code",
   "execution_count": 1,
   "id": "94aa3e53",
   "metadata": {},
   "outputs": [
    {
     "name": "stdout",
     "output_type": "stream",
     "text": [
      "hola como  \n",
      "Palabras: 2\n"
     ]
    }
   ],
   "source": [
    "#155 del ejercicio anterior verifica si funciona con cadenas vacia\n",
    "cadena = input(\"Escriba una frase: \")\n",
    "print(cadena)\n",
    "while cadena != \"\":\n",
    "   cambios = 0\n",
    "   anterior = \" \"\n",
    "   for caracter in cadena:\n",
    "      if caracter == \" \" and anterior != \" \":\n",
    "         cambios += 1\n",
    "      anterior = caracter\n",
    "   if cadena[-1] == \" \":\n",
    "      cambios -= 1\n",
    "\n",
    "   palabras = cambios + 1 #Hay una palabra mas que cambios de no blanco a blanco\n",
    "   print(f\"Palabras: {palabras}\")\n",
    "\n",
    "   cadena = input(\"Escriba una frase: \")\n",
    "\n"
   ]
  },
  {
   "cell_type": "code",
   "execution_count": 4,
   "id": "5931204d",
   "metadata": {},
   "outputs": [
    {
     "name": "stdout",
     "output_type": "stream",
     "text": [
      "hola como estas\n",
      "False\n",
      "Palabras: 2\n"
     ]
    }
   ],
   "source": [
    "#156 Modifica el programa anteririor para que base el computo de palabras en el numero de transiciones de blanco o no blnaco en lugar de en el numero de trancioniones de no blnaco a blanco compruebe si tu programa funciona\n",
    "cadena = input(\"Escriba una frase: \")\n",
    "print(cadena)\n",
    "\n",
    "while cadena != \"\":\n",
    "  cambios = 0\n",
    "  anterior_blanco = cadena[0] == \" \"\n",
    "  print(anterior_blanco)\n",
    "\n",
    "  for caracter in cadena:\n",
    "    actual_blanco = caracter == \" \"\n",
    "    if actual_blanco != anterior_blanco:\n",
    "      cambios += 1\n",
    "    anterior_blanco = actual_blanco\n",
    "\n",
    "  palabras = (cambios + 1) // 2\n",
    "  print(f\"Palabras: {palabras}\")\n",
    "\n",
    "  cadena = input(\"Escriba una frase: \")"
   ]
  },
  {
   "cell_type": "code",
   "execution_count": 8,
   "id": "eb2c2caa",
   "metadata": {},
   "outputs": [
    {
     "name": "stdout",
     "output_type": "stream",
     "text": [
      "hol co\n",
      "Palabras 2\n",
      "\n"
     ]
    }
   ],
   "source": [
    "#157 Programa de un aprendiz\n",
    "cadena = input(\"Escribe una frase: \")\n",
    "print(cadena)\n",
    "while cadena != '':\n",
    "   cambios = 0\n",
    "   for i in range(1, len(cadena)):\n",
    "      if cadena[i] == ' ' and cadena[i-1] != ' ':\n",
    "         cambios = cambios + 1\n",
    "\n",
    "   if cadena[-1] == \" \":\n",
    "      cambios -= 1\n",
    "   \n",
    "   palabras = cambios + 1\n",
    "   print(f\"Palabras {palabras}\")\n",
    "\n",
    "\n",
    "   cadena = input(\"Escriba una frase:\")\n",
    "   print(cadena)"
   ]
  },
  {
   "cell_type": "code",
   "execution_count": 7,
   "id": "0dcaca93",
   "metadata": {},
   "outputs": [
    {
     "name": "stdout",
     "output_type": "stream",
     "text": [
      "Frase ingresada: hola como estas\n",
      "Número ingresado: 4\n",
      "La cadena tiene 2 palabras de tamaño 4.\n"
     ]
    }
   ],
   "source": [
    "#158 Diseña un programa que lea una cadena y un numero entero k y nos diga cuantas palabras tienen una longitud de j caracteres\n",
    "\n",
    "# Leer la cadena de entrada\n",
    "cadena = input(\"Escribe una frase: \")\n",
    "print(f\"Frase ingresada: {cadena}\")\n",
    "\n",
    "# Leer el número entero k\n",
    "k = int(input(\"Ingrese un número: \"))\n",
    "print(f\"Número ingresado: {k}\")\n",
    "\n",
    "# Inicializar el contador de palabras y la longitud actual de la palabra\n",
    "cantidad = 0\n",
    "longitud_palabra = 0\n",
    "indice = 0\n",
    "\n",
    "# Recorrer la cadena carácter por carácter\n",
    "while indice < len(cadena):\n",
    "    if cadena[indice] != \" \":\n",
    "        # Si el carácter no es un espacio, incrementamos la longitud de la palabra actual\n",
    "        longitud_palabra += 1\n",
    "    else:\n",
    "        # Si encontramos un espacio, revisamos la longitud de la palabra\n",
    "        if longitud_palabra == k:\n",
    "            cantidad += 1\n",
    "        # Reiniciamos la longitud de la palabra\n",
    "        longitud_palabra = 0\n",
    "    indice += 1\n",
    "\n",
    "# Revisar la última palabra en la cadena\n",
    "if longitud_palabra == k:\n",
    "    cantidad += 1\n",
    "\n",
    "# Mostrar el resultado\n",
    "print(f\"La cadena tiene {cantidad} palabras de tamaño {k}.\")"
   ]
  },
  {
   "cell_type": "code",
   "execution_count": 9,
   "id": "1dcce488",
   "metadata": {},
   "outputs": [
    {
     "name": "stdout",
     "output_type": "stream",
     "text": [
      "['hola', 'como', 'estas']\n",
      "palabra: hola tiene el tamaño de 4\n",
      "palabra: como tiene el tamaño de 4\n"
     ]
    }
   ],
   "source": [
    "#159 Diseña un programa que lea una cadena y un numero entero k y nos diga si alguna de sus palabras tienen una longitud de k caracteres\n",
    "\n",
    "cadena = input(\"Escriba una frase: \")\n",
    "k = int(input(\"ingrese un tam k: \"))\n",
    "lista_cadenas = cadena.split()\n",
    "print(lista_cadenas)\n",
    "for caracter in lista_cadenas:\n",
    "   if len(caracter) == k:\n",
    "      print(f\"palabra: {caracter} tiene el tamaño de {k}\")\n",
    "   \n"
   ]
  },
  {
   "cell_type": "code",
   "execution_count": 7,
   "id": "f5b314b9",
   "metadata": {},
   "outputs": [
    {
     "name": "stdout",
     "output_type": "stream",
     "text": [
      "Frase ingresada: hola como estas\n",
      "Número ingresado: 4\n",
      "No todas las palabras tienen 4 caracteres.\n"
     ]
    }
   ],
   "source": [
    "#160 Programa que nos diga si todas las palabras tienen el mismo tamaño\n",
    "# Leer la cadena de entrada\n",
    "cadena = input(\"Escribe una frase: \")\n",
    "print(f\"Frase ingresada: {cadena}\")\n",
    "\n",
    "# Leer el número entero k\n",
    "k = int(input(\"Ingrese un numero\"))\n",
    "print(f\"Número ingresado: {k}\")\n",
    "\n",
    "# Inicializar variables\n",
    "longitud_palabra = 0\n",
    "todas_iguales = True\n",
    "indice = 0\n",
    "\n",
    "# Recorrer la cadena carácter por carácter\n",
    "while indice < len(cadena):\n",
    "    if cadena[indice] != \" \":\n",
    "        # Si el carácter no es un espacio, incrementamos la longitud de la palabra actual\n",
    "        longitud_palabra += 1\n",
    "    else:\n",
    "        # Si encontramos un espacio, revisamos la longitud de la palabra\n",
    "        if longitud_palabra != k:\n",
    "            todas_iguales = False\n",
    "            break\n",
    "        # Reiniciamos la longitud de la palabra\n",
    "        longitud_palabra = 0\n",
    "    indice += 1\n",
    "\n",
    "# Revisar la última palabra en la cadena\n",
    "if todas_iguales and longitud_palabra != 0:\n",
    "    if longitud_palabra != k:\n",
    "        todas_iguales = False\n",
    "\n",
    "# Mostrar el resultado\n",
    "if todas_iguales:\n",
    "    print(f\"Todas las palabras tienen {k} caracteres.\")\n",
    "else:\n",
    "    print(f\"No todas las palabras tienen {k} caracteres.\")"
   ]
  },
  {
   "cell_type": "code",
   "execution_count": 12,
   "id": "b32c478e",
   "metadata": {},
   "outputs": [
    {
     "name": "stdout",
     "output_type": "stream",
     "text": [
      "Frase ingresada: ho la co \n",
      "Número ingresado: 4\n",
      "No hay palabras largas\n"
     ]
    }
   ],
   "source": [
    "#161 Programa que busca si laguna palabra es mayoy que que\n",
    "\n",
    "\n",
    "# Leer la cadena de entrada\n",
    "cadena = input(\"Escribe una frase: \")\n",
    "print(f\"Frase ingresada: {cadena}\")\n",
    "\n",
    "# Leer el número entero k\n",
    "k = int(input(\"Ingrese un número: \"))\n",
    "print(f\"Número ingresado: {k}\")\n",
    "\n",
    "# Inicializar el contador de palabras y la longitud actual de la palabra\n",
    "cantidad = 0\n",
    "longitud_palabra = 0\n",
    "indice = 0\n",
    "\n",
    "# Recorrer la cadena carácter por carácter\n",
    "while indice < len(cadena):\n",
    "    if cadena[indice] != \" \":\n",
    "        # Si el carácter no es un espacio, incrementamos la longitud de la palabra actual\n",
    "        longitud_palabra += 1\n",
    "    else:\n",
    "        # Si encontramos un espacio, revisamos la longitud de la palabra\n",
    "        if longitud_palabra >= k:\n",
    "            cantidad += 1\n",
    "        # Reiniciamos la longitud de la palabra\n",
    "        longitud_palabra = 0\n",
    "    indice += 1\n",
    "\n",
    "# Revisar la última palabra en la cadena\n",
    "if longitud_palabra >= k:\n",
    "    cantidad += 1\n",
    "    print(f\"Hay palabras Largas mayores o iguales a: {k}: [{cadena}]\")\n",
    "else:\n",
    "    print(\"No hay palabras largas\")\n"
   ]
  },
  {
   "cell_type": "code",
   "execution_count": 14,
   "id": "b4f3c49b",
   "metadata": {},
   "outputs": [
    {
     "name": "stdout",
     "output_type": "stream",
     "text": [
      "Frase ingresada: hol com esta\n",
      "Número ingresado: 6\n",
      "Hay palabras cortas a: 6: [hol com esta]\n"
     ]
    }
   ],
   "source": [
    "#162 Programa muestre el mensaje Hay palabras cortas y si alguna de las palabras de la cadena es longitud mayor o igual que k y No hay palabras largas en caso contrario\n",
    "# Leer la cadena de entrada\n",
    "cadena = input(\"Escribe una frase: \")\n",
    "print(f\"Frase ingresada: {cadena}\")\n",
    "\n",
    "# Leer el número entero k\n",
    "k = int(input(\"Ingrese un número: \"))\n",
    "print(f\"Número ingresado: {k}\")\n",
    "\n",
    "# Inicializar el contador de palabras y la longitud actual de la palabra\n",
    "cantidad = 0\n",
    "longitud_palabra = 0\n",
    "indice = 0\n",
    "\n",
    "# Recorrer la cadena carácter por carácter\n",
    "while indice < len(cadena):\n",
    "    if cadena[indice] != \" \":\n",
    "        # Si el carácter no es un espacio, incrementamos la longitud de la palabra actual\n",
    "        longitud_palabra += 1\n",
    "    else:\n",
    "        # Si encontramos un espacio, revisamos la longitud de la palabra\n",
    "        if longitud_palabra < k:\n",
    "            cantidad += 1\n",
    "        # Reiniciamos la longitud de la palabra\n",
    "        longitud_palabra = 0\n",
    "    indice += 1\n",
    "\n",
    "# Revisar la última palabra en la cadena\n",
    "if longitud_palabra < k:\n",
    "    cantidad += 1\n",
    "    print(f\"Hay palabras cortas a: {k}: [{cadena}]\")\n",
    "else:\n",
    "    print(f\"No hay palabras cortas a: {k}: [{cadena}]\")\n",
    "      "
   ]
  },
  {
   "cell_type": "code",
   "execution_count": null,
   "id": "fb9d5722",
   "metadata": {},
   "outputs": [
    {
     "name": "stdout",
     "output_type": "stream",
     "text": [
      "hola como esta\n",
      "10\n",
      "['hola', 'como', 'esta']\n",
      "['hola', 'como', 'esta'] Hay alguna palabra corta 10\n"
     ]
    }
   ],
   "source": [
    "#163\n",
    "cadena = input(\"Escribe una frase\")\n",
    "print(cadena)\n",
    "k = int(input(\"Ingrese un numero: \"))\n",
    "print(k)\n",
    "menor_mayor =  True\n",
    "cadena_lista = cadena.split()\n",
    "print(cadena_lista)\n",
    "for i in cadena_lista:\n",
    "   if len(i) < k:\n",
    "      menor_mayor = False\n",
    "if menor_mayor:\n",
    "   print(f\"{cadena_lista} Todas las palabras son largas {k}\")\n",
    "else:\n",
    "   print(f\"{cadena_lista} Hay alguna palabra corta {k}\")"
   ]
  },
  {
   "cell_type": "code",
   "execution_count": null,
   "id": "9bf1e6ce",
   "metadata": {},
   "outputs": [
    {
     "name": "stdout",
     "output_type": "stream",
     "text": [
      "un 1 y un 20 tiene 3 digitos\n"
     ]
    }
   ],
   "source": [
    "#164 Programa que cuete la cantidad de digitos que tiene la cadena\n",
    "string = input(\"Ingrese una frase con numeros: \")\n",
    "digitos = 0\n",
    "for i in range(len(string)):\n",
    "   if string[i].isdigit():\n",
    "      digitos += 1\n",
    "\n",
    "print(f\"{string} tiene {digitos} digitos\")\n",
    "   "
   ]
  }
 ],
 "metadata": {
  "kernelspec": {
   "display_name": "Python 3 (ipykernel)",
   "language": "python",
   "name": "python3"
  },
  "language_info": {
   "codemirror_mode": {
    "name": "ipython",
    "version": 3
   },
   "file_extension": ".py",
   "mimetype": "text/x-python",
   "name": "python",
   "nbconvert_exporter": "python",
   "pygments_lexer": "ipython3",
   "version": "3.10.9"
  }
 },
 "nbformat": 4,
 "nbformat_minor": 5
}
