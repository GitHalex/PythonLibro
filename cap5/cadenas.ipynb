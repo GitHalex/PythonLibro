{
 "cells": [
  {
   "cell_type": "code",
   "execution_count": 7,
   "id": "1c08e6e2",
   "metadata": {},
   "outputs": [
    {
     "name": "stdout",
     "output_type": "stream",
     "text": [
      "\\n\n",
      "octal\n",
      "\t\tuno\n"
     ]
    }
   ],
   "source": [
    "#143 Programa que muestra ejemplos\n",
    "print(\"\\\\n\")\n",
    "print(\"\\157\\143\\164\\141\\154\")\n",
    "print('\\t\\tuna\\bo')"
   ]
  },
  {
   "cell_type": "code",
   "execution_count": 9,
   "id": "91ab704c",
   "metadata": {},
   "outputs": [
    {
     "name": "stdout",
     "output_type": "stream",
     "text": [
      "\\\\\n"
     ]
    }
   ],
   "source": [
    "#144 Programa que representa dos barras invertidas seguidas\n",
    "print(\"\\\\\\\\\")"
   ]
  },
  {
   "cell_type": "code",
   "execution_count": 11,
   "id": "f6e6866d",
   "metadata": {},
   "outputs": [
    {
     "name": "stdout",
     "output_type": "stream",
     "text": [
      "\u0007\n"
     ]
    }
   ],
   "source": [
    "#145 Secuencia de escape \\a emite un aviso (La campanada) que hace exactamente cuando se imprime en pantalla?\n",
    "print(\"\\a\")"
   ]
  },
  {
   "cell_type": "code",
   "execution_count": 14,
   "id": "8e3cd93d",
   "metadata": {},
   "outputs": [
    {
     "name": "stdout",
     "output_type": "stream",
     "text": [
      "\u0000\n",
      "\u0001\n",
      "\u0002\n",
      "\u0003\n",
      "\u0004\n",
      "\u0005\n",
      "\u0006\n",
      "\u0007\n",
      "\b\n",
      "\t\n"
     ]
    }
   ],
   "source": [
    "#146 Averigua los primeros 10 caracteres unicode de la tabla que hemos mostrado las secuencias de escape para caracteres de control\n",
    "for i in range(0, 10):\n",
    "   print(f\"{chr(i)}\")"
   ]
  },
  {
   "cell_type": "code",
   "execution_count": null,
   "id": "140ee94f",
   "metadata": {},
   "outputs": [],
   "source": [
    "#147 "
   ]
  }
 ],
 "metadata": {
  "kernelspec": {
   "display_name": "Python 3 (ipykernel)",
   "language": "python",
   "name": "python3"
  },
  "language_info": {
   "codemirror_mode": {
    "name": "ipython",
    "version": 3
   },
   "file_extension": ".py",
   "mimetype": "text/x-python",
   "name": "python",
   "nbconvert_exporter": "python",
   "pygments_lexer": "ipython3",
   "version": "3.10.9"
  }
 },
 "nbformat": 4,
 "nbformat_minor": 5
}
