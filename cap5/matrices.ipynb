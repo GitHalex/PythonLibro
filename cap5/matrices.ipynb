{
 "cells": [
  {
   "cell_type": "markdown",
   "id": "37197cf5",
   "metadata": {},
   "source": [
    "# 5.4 Matrices"
   ]
  },
  {
   "cell_type": "code",
   "execution_count": 2,
   "id": "eb24a144",
   "metadata": {},
   "outputs": [
    {
     "name": "stdout",
     "output_type": "stream",
     "text": [
      "[[0, 0, 0, 0, 0], [0, 0, 0, 0, 0], [0, 0, 0, 0, 0], [0, 0, 0, 0, 0], [0, 0, 0, 0, 0]]\n"
     ]
    }
   ],
   "source": [
    "#235 matriz nula de 5 filas y 5 columnas\n",
    "Nula = [[0, 0, 0, 0, 0],[0, 0, 0, 0, 0],[0, 0, 0, 0, 0],[0, 0, 0, 0, 0],[0, 0, 0, 0, 0]]\n",
    "print(Nula)"
   ]
  },
  {
   "cell_type": "code",
   "execution_count": 4,
   "id": "5fd9783a",
   "metadata": {},
   "outputs": [
    {
     "name": "stdout",
     "output_type": "stream",
     "text": [
      "[[1, 0, 0, 0], [0, 1, 0, 0], [0, 0, 1, 0], [0, 0, 0, 1]]\n"
     ]
    }
   ],
   "source": [
    "#236 matriz de identidad \n",
    "identidad = [[1, 0, 0, 0],[0, 1, 0, 0],[0, 0, 1, 0],[0, 0, 0, 1]]\n",
    "print(identidad)"
   ]
  },
  {
   "cell_type": "code",
   "execution_count": 9,
   "id": "42da850e",
   "metadata": {},
   "outputs": [
    {
     "name": "stdout",
     "output_type": "stream",
     "text": [
      "0\n",
      "1\n",
      "------\n",
      "[1, 0, 0]\n",
      "[0, 1, 0]\n",
      "[0, 0, 1]\n",
      "------\n",
      "0.3333333333333333\n"
     ]
    }
   ],
   "source": [
    "#237\n",
    "\n",
    "M = [[1, 0, 0],[0, 1, 0],[0, 0, 1]]\n",
    "print(M[-1][0])\n",
    "print(M[-1][-1])\n",
    "print(\"------\")\n",
    "\n",
    "for i in range(0, 3):\n",
    "  print(M[i])\n",
    "print(\"------\")\n",
    "\n",
    "s = 0.0\n",
    "for i in range(0, 3):\n",
    "  for j in range(0, 3):\n",
    "    s += M[i][j]\n",
    "\n",
    "print(s/9)\n"
   ]
  },
  {
   "cell_type": "code",
   "execution_count": 10,
   "id": "b8dd799d",
   "metadata": {},
   "outputs": [
    {
     "name": "stdout",
     "output_type": "stream",
     "text": [
      "0.3333333333333333\n"
     ]
    }
   ],
   "source": [
    "#238\n",
    "Matriz = [[1, 0, 0],[0, 1, 0],[0, 0, 1]]\n",
    "s = 0.0\n",
    "\n",
    "for i in range(0, 3):\n",
    "  for j in range(0, 3):\n",
    "    s += Matriz[i][j]\n",
    "\n",
    "print(s/9)\n"
   ]
  },
  {
   "cell_type": "markdown",
   "id": "10410b9d",
   "metadata": {},
   "source": [
    "## 5.4.1 Sobre la creacion de matrices"
   ]
  },
  {
   "cell_type": "code",
   "execution_count": 5,
   "id": "d4ee8d1b",
   "metadata": {},
   "outputs": [
    {
     "name": "stdout",
     "output_type": "stream",
     "text": [
      "[[1, 0, 0, 0], [0, 1, 0, 0], [0, 0, 1, 0], [0, 0, 0, 1]]\n"
     ]
    }
   ],
   "source": [
    "#239 \n",
    "M = []\n",
    "for i in range(4):\n",
    "  M.append([0]*4)\n",
    "  M[i][i]= 1\n",
    "\n",
    "print(M)"
   ]
  }
 ],
 "metadata": {
  "kernelspec": {
   "display_name": "base",
   "language": "python",
   "name": "python3"
  },
  "language_info": {
   "codemirror_mode": {
    "name": "ipython",
    "version": 3
   },
   "file_extension": ".py",
   "mimetype": "text/x-python",
   "name": "python",
   "nbconvert_exporter": "python",
   "pygments_lexer": "ipython3",
   "version": "3.10.9"
  }
 },
 "nbformat": 4,
 "nbformat_minor": 5
}
