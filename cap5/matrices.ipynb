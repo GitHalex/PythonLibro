{
 "cells": [
  {
   "cell_type": "markdown",
   "id": "37197cf5",
   "metadata": {},
   "source": [
    "# 5.4 Matrices"
   ]
  },
  {
   "cell_type": "code",
   "execution_count": 2,
   "id": "eb24a144",
   "metadata": {},
   "outputs": [
    {
     "name": "stdout",
     "output_type": "stream",
     "text": [
      "[[0, 0, 0, 0, 0], [0, 0, 0, 0, 0], [0, 0, 0, 0, 0], [0, 0, 0, 0, 0], [0, 0, 0, 0, 0]]\n"
     ]
    }
   ],
   "source": [
    "#235 matriz nula de 5 filas y 5 columnas\n",
    "Nula = [[0, 0, 0, 0, 0],[0, 0, 0, 0, 0],[0, 0, 0, 0, 0],[0, 0, 0, 0, 0],[0, 0, 0, 0, 0]]\n",
    "print(Nula)"
   ]
  },
  {
   "cell_type": "code",
   "execution_count": 4,
   "id": "5fd9783a",
   "metadata": {},
   "outputs": [
    {
     "name": "stdout",
     "output_type": "stream",
     "text": [
      "[[1, 0, 0, 0], [0, 1, 0, 0], [0, 0, 1, 0], [0, 0, 0, 1]]\n"
     ]
    }
   ],
   "source": [
    "#236 matriz de identidad \n",
    "identidad = [[1, 0, 0, 0],[0, 1, 0, 0],[0, 0, 1, 0],[0, 0, 0, 1]]\n",
    "print(identidad)"
   ]
  },
  {
   "cell_type": "code",
   "execution_count": 9,
   "id": "42da850e",
   "metadata": {},
   "outputs": [
    {
     "name": "stdout",
     "output_type": "stream",
     "text": [
      "0\n",
      "1\n",
      "------\n",
      "[1, 0, 0]\n",
      "[0, 1, 0]\n",
      "[0, 0, 1]\n",
      "------\n",
      "0.3333333333333333\n"
     ]
    }
   ],
   "source": [
    "#237\n",
    "\n",
    "M = [[1, 0, 0],[0, 1, 0],[0, 0, 1]]\n",
    "print(M[-1][0])\n",
    "print(M[-1][-1])\n",
    "print(\"------\")\n",
    "\n",
    "for i in range(0, 3):\n",
    "  print(M[i])\n",
    "print(\"------\")\n",
    "\n",
    "s = 0.0\n",
    "for i in range(0, 3):\n",
    "  for j in range(0, 3):\n",
    "    s += M[i][j]\n",
    "\n",
    "print(s/9)\n"
   ]
  },
  {
   "cell_type": "code",
   "execution_count": 10,
   "id": "b8dd799d",
   "metadata": {},
   "outputs": [
    {
     "name": "stdout",
     "output_type": "stream",
     "text": [
      "0.3333333333333333\n"
     ]
    }
   ],
   "source": [
    "#238\n",
    "Matriz = [[1, 0, 0],[0, 1, 0],[0, 0, 1]]\n",
    "s = 0.0\n",
    "\n",
    "for i in range(0, 3):\n",
    "  for j in range(0, 3):\n",
    "    s += Matriz[i][j]\n",
    "\n",
    "print(s/9)\n"
   ]
  },
  {
   "cell_type": "markdown",
   "id": "10410b9d",
   "metadata": {},
   "source": [
    "## 5.4.1 Sobre la creacion de matrices"
   ]
  },
  {
   "cell_type": "code",
   "execution_count": 6,
   "id": "d4ee8d1b",
   "metadata": {},
   "outputs": [
    {
     "name": "stdout",
     "output_type": "stream",
     "text": [
      "[[1, 0, 0, 0], [0, 1, 0, 0], [0, 0, 1, 0], [0, 0, 0, 1]]\n"
     ]
    }
   ],
   "source": [
    "#239 \n",
    "M = []\n",
    "for i in range(4):\n",
    "  M.append([0]*4)\n",
    "  M[i][i]= 1\n",
    "\n",
    "print(M)"
   ]
  },
  {
   "cell_type": "code",
   "execution_count": 15,
   "id": "9ef35d1d",
   "metadata": {},
   "outputs": [
    {
     "name": "stdout",
     "output_type": "stream",
     "text": [
      "[[1, 0], [0, 1]]\n"
     ]
    }
   ],
   "source": [
    "#240\n",
    "MatrizIdentidad = []\n",
    "numero = int(input(\"Ingrese un numero: \"))\n",
    "if numero < 2:\n",
    "  print(f\"Ingresaste: {numero} ingresa un numero entero mayor o igual a 2: \")\n",
    "else:\n",
    "  for i in range(numero):\n",
    "    MatrizIdentidad.append([0]*numero)\n",
    "    MatrizIdentidad[i][i] = 1\n",
    "    \n",
    "\n",
    "print(MatrizIdentidad)"
   ]
  },
  {
   "cell_type": "markdown",
   "id": "90cabdac",
   "metadata": {},
   "source": [
    "### 5.4.2 Lectura de matrices"
   ]
  },
  {
   "cell_type": "code",
   "execution_count": 18,
   "id": "f09f64a8",
   "metadata": {},
   "outputs": [
    {
     "name": "stdout",
     "output_type": "stream",
     "text": [
      "[[0, 0], [0, 0], [0, 0]]\n",
      "[[1.0, 2.0], [3.0, 2.0], [4.0, 2.0]]\n"
     ]
    }
   ],
   "source": [
    "# Pedimos la dimension de la matriz\n",
    "m = int(input(\"Dime el numero de filas: \"))\n",
    "n = int(input(\"Dime el numero de columnas: \"))\n",
    "\n",
    "#Creamos una matriz nula\n",
    "MATRIZ = []\n",
    "\n",
    "for i in range(m):\n",
    "  MATRIZ.append([0]*n)\n",
    "\n",
    "print(MATRIZ)\n",
    "\n",
    "#... y leemos su contenido de teclado\n",
    "\n",
    "for i in range(m):\n",
    "  for j in range(n):\n",
    "    MATRIZ[i][j] = float(input(f\"Dame el componente: {i},{j}  : \"))\n",
    "\n",
    "print(MATRIZ)\n"
   ]
  },
  {
   "cell_type": "markdown",
   "id": "0401af08",
   "metadata": {},
   "source": [
    "## 5.4.3 ¿Qué dimensión tiene una matriz?"
   ]
  },
  {
   "cell_type": "code",
   "execution_count": 1,
   "id": "373a229b",
   "metadata": {},
   "outputs": [
    {
     "name": "stdout",
     "output_type": "stream",
     "text": [
      "[[1, 0], [0, 1], [0, 0]]\n",
      "Tamaño de filas: 3\n",
      "Tamaño de columnas: 2\n"
     ]
    }
   ],
   "source": [
    "a = [[1, 0], [0, 1],[0, 0]]\n",
    "print(a)\n",
    "print(f\"Tamaño de filas: {len(a)}\")\n",
    "print(f\"Tamaño de columnas: {len(a[0])}\")"
   ]
  },
  {
   "cell_type": "markdown",
   "id": "dff25f07",
   "metadata": {},
   "source": [
    "## 5.4.4 Operaciones con matrices"
   ]
  },
  {
   "cell_type": "code",
   "execution_count": 10,
   "id": "d2326835",
   "metadata": {},
   "outputs": [
    {
     "name": "stdout",
     "output_type": "stream",
     "text": [
      "Lectura de la matriz A\n",
      "Lectura de la matriz B\n",
      "La matriz resultante de la suma es:\n",
      "[11.0, 22.0]\n",
      "[33.0, 44.0]\n"
     ]
    }
   ],
   "source": [
    "m = int(input(\"Dime el numero de filas: \"))\n",
    "n = int(input(\"Dime el numero de columnas: \"))\n",
    "\n",
    "# Creación de dos matrices nulas\n",
    "A = [[0 for j in range(n)] for i in range(m)]\n",
    "B = [[0 for j in range(n)] for i in range(m)]\n",
    "\n",
    "# Lectura de la matriz A\n",
    "print(\"Lectura de la matriz A\")\n",
    "for i in range(m):\n",
    "    for j in range(n):\n",
    "        A[i][j] = float(input(f\"componente A({i},{j}): \"))\n",
    "\n",
    "# Lectura de la matriz B\n",
    "print(\"Lectura de la matriz B\")\n",
    "for i in range(m):\n",
    "    for j in range(n):\n",
    "        B[i][j] = float(input(f\"componente B({i},{j}): \"))\n",
    "\n",
    "# Suma de matrices\n",
    "C = [[A[i][j] + B[i][j] for j in range(n)] for i in range(m)]\n",
    "\n",
    "print(\"La matriz resultante de la suma es:\")\n",
    "for fila in C:\n",
    "    print(fila)"
   ]
  },
  {
   "cell_type": "code",
   "execution_count": null,
   "id": "39b002a0",
   "metadata": {},
   "outputs": [],
   "source": [
    "#241\n"
   ]
  }
 ],
 "metadata": {
  "kernelspec": {
   "display_name": "base",
   "language": "python",
   "name": "python3"
  },
  "language_info": {
   "codemirror_mode": {
    "name": "ipython",
    "version": 3
   },
   "file_extension": ".py",
   "mimetype": "text/x-python",
   "name": "python",
   "nbconvert_exporter": "python",
   "pygments_lexer": "ipython3",
   "version": "3.10.9"
  }
 },
 "nbformat": 4,
 "nbformat_minor": 5
}
