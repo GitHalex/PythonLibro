{
 "cells": [
  {
   "cell_type": "markdown",
   "id": "37197cf5",
   "metadata": {},
   "source": [
    "# 5.4 Matrices"
   ]
  },
  {
   "cell_type": "code",
   "execution_count": 2,
   "id": "eb24a144",
   "metadata": {},
   "outputs": [
    {
     "name": "stdout",
     "output_type": "stream",
     "text": [
      "[[0, 0, 0, 0, 0], [0, 0, 0, 0, 0], [0, 0, 0, 0, 0], [0, 0, 0, 0, 0], [0, 0, 0, 0, 0]]\n"
     ]
    }
   ],
   "source": [
    "#235 matriz nula de 5 filas y 5 columnas\n",
    "Nula = [[0, 0, 0, 0, 0],[0, 0, 0, 0, 0],[0, 0, 0, 0, 0],[0, 0, 0, 0, 0],[0, 0, 0, 0, 0]]\n",
    "print(Nula)"
   ]
  },
  {
   "cell_type": "code",
   "execution_count": null,
   "id": "5fd9783a",
   "metadata": {},
   "outputs": [],
   "source": [
    "#236 matriz de identidad "
   ]
  }
 ],
 "metadata": {
  "kernelspec": {
   "display_name": "base",
   "language": "python",
   "name": "python3"
  },
  "language_info": {
   "codemirror_mode": {
    "name": "ipython",
    "version": 3
   },
   "file_extension": ".py",
   "mimetype": "text/x-python",
   "name": "python",
   "nbconvert_exporter": "python",
   "pygments_lexer": "ipython3",
   "version": "3.10.9"
  }
 },
 "nbformat": 4,
 "nbformat_minor": 5
}
