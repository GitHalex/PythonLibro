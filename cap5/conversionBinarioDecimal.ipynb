{
 "cells": [
  {
   "cell_type": "markdown",
   "metadata": {},
   "source": [
    "# 5.1.7 Un programa de conversion de binario a decimal"
   ]
  },
  {
   "cell_type": "code",
   "execution_count": 10,
   "metadata": {},
   "outputs": [
    {
     "name": "stdout",
     "output_type": "stream",
     "text": [
      "1101\n",
      "Su valor decimal es: 14\n"
     ]
    }
   ],
   "source": [
    "#171\n",
    "bits = input(\"Dame un numero binario: \")\n",
    "print(bits)\n",
    "n = len(bits)\n",
    "valor = 0\n",
    "for bit in bits:\n",
    "  if bit == \"1\":\n",
    "    valor = valor + 2 ** (n-1)\n",
    "    n -= 1\n",
    "\n",
    "print(f\"Su valor decimal es: {valor}\")"
   ]
  },
  {
   "cell_type": "code",
   "execution_count": 8,
   "metadata": {},
   "outputs": [
    {
     "name": "stdout",
     "output_type": "stream",
     "text": [
      "1101\n",
      "Su valor decimal es: 13\n"
     ]
    }
   ],
   "source": [
    "#172 \n",
    "bits = input(\"Dame un numero binario: \")\n",
    "print(bits)\n",
    "\n",
    "valor = 0\n",
    "for bit in bits:\n",
    "  if bit == \"1\":\n",
    "    valor = 2 * valor + 1\n",
    "  else:\n",
    "    valor = 2 * valor\n",
    "\n",
    "print(f\"Su valor decimal es: {valor}\")"
   ]
  },
  {
   "cell_type": "code",
   "execution_count": 12,
   "metadata": {},
   "outputs": [
    {
     "name": "stdout",
     "output_type": "stream",
     "text": [
      "1101\n",
      "Su valor decimal es: 13\n"
     ]
    }
   ],
   "source": [
    "#173 \n",
    "bits = input(\"Dame un numero binario: \")\n",
    "print(bits)\n",
    "\n",
    "valor = 0\n",
    "for bit in bits:\n",
    "  if bit == \"1\":\n",
    "    valor += valor + 1\n",
    "  else:\n",
    "    valor += valor\n",
    "\n",
    "print(f\"Su valor decimal es: {valor}\")"
   ]
  },
  {
   "cell_type": "code",
   "execution_count": 4,
   "metadata": {},
   "outputs": [
    {
     "name": "stdout",
     "output_type": "stream",
     "text": [
      "1101\n",
      "Su valor decimal es: 13\n"
     ]
    }
   ],
   "source": [
    "#174\n",
    "bits = input(\"Dame un numero binario: \")\n",
    "print(bits)\n",
    "valor = 0\n",
    "for bit in bits:\n",
    "  valor += valor + int(bit)\n",
    "\n",
    "\n",
    "print(f\"Su valor decimal es: {valor}\")"
   ]
  },
  {
   "cell_type": "code",
   "execution_count": 7,
   "metadata": {},
   "outputs": [
    {
     "name": "stdout",
     "output_type": "stream",
     "text": [
      "01\n",
      "El valor decimal es: 1\n"
     ]
    }
   ],
   "source": [
    "#175\n",
    "bits = input(\"Dame un numero binario: \")\n",
    "print(bits)\n",
    "\n",
    "valor = 0\n",
    "i = 0\n",
    "\n",
    "while i < len(bits):\n",
    "    if bits[i] != \"1\" and bits[i] != \"0\":\n",
    "        print(f\"{bits[i]} en {bits} Numero mal formato\")\n",
    "        bits = input(\"Dame un numero binario: \")\n",
    "        print(bits)\n",
    "        i = 0  # Reinicia el contador para verificar el nuevo input desde el inicio\n",
    "    else:\n",
    "        if bits[i] == \"1\":\n",
    "            valor = valor * 2 + 1\n",
    "        else:\n",
    "            valor = valor * 2\n",
    "        i += 1\n",
    "print(f\"El valor decimal es: {valor}\")"
   ]
  },
  {
   "cell_type": "code",
   "execution_count": null,
   "metadata": {},
   "outputs": [],
   "source": []
  }
 ],
 "metadata": {
  "kernelspec": {
   "display_name": "base",
   "language": "python",
   "name": "python3"
  },
  "language_info": {
   "codemirror_mode": {
    "name": "ipython",
    "version": 3
   },
   "file_extension": ".py",
   "mimetype": "text/x-python",
   "name": "python",
   "nbconvert_exporter": "python",
   "pygments_lexer": "ipython3",
   "version": "3.10.9"
  }
 },
 "nbformat": 4,
 "nbformat_minor": 2
}
