{
 "cells": [
  {
   "cell_type": "markdown",
   "metadata": {},
   "source": [
    "# 5.1.7 Un programa de conversion de binario a decimal"
   ]
  },
  {
   "cell_type": "code",
   "execution_count": 10,
   "metadata": {},
   "outputs": [
    {
     "name": "stdout",
     "output_type": "stream",
     "text": [
      "1101\n",
      "Su valor decimal es: 14\n"
     ]
    }
   ],
   "source": [
    "#171\n",
    "bits = input(\"Dame un numero binario: \")\n",
    "print(bits)\n",
    "n = len(bits)\n",
    "valor = 0\n",
    "for bit in bits:\n",
    "  if bit == \"1\":\n",
    "    valor = valor + 2 ** (n-1)\n",
    "    n -= 1\n",
    "\n",
    "print(f\"Su valor decimal es: {valor}\")"
   ]
  },
  {
   "cell_type": "code",
   "execution_count": 8,
   "metadata": {},
   "outputs": [
    {
     "name": "stdout",
     "output_type": "stream",
     "text": [
      "1101\n",
      "Su valor decimal es: 13\n"
     ]
    }
   ],
   "source": [
    "#172 \n",
    "bits = input(\"Dame un numero binario: \")\n",
    "print(bits)\n",
    "\n",
    "valor = 0\n",
    "for bit in bits:\n",
    "  if bit == \"1\":\n",
    "    valor = 2 * valor + 1\n",
    "  else:\n",
    "    valor = 2 * valor\n",
    "\n",
    "print(f\"Su valor decimal es: {valor}\")"
   ]
  },
  {
   "cell_type": "code",
   "execution_count": 12,
   "metadata": {},
   "outputs": [
    {
     "name": "stdout",
     "output_type": "stream",
     "text": [
      "1101\n",
      "Su valor decimal es: 13\n"
     ]
    }
   ],
   "source": [
    "#173 \n",
    "bits = input(\"Dame un numero binario: \")\n",
    "print(bits)\n",
    "\n",
    "valor = 0\n",
    "for bit in bits:\n",
    "  if bit == \"1\":\n",
    "    valor += valor + 1\n",
    "  else:\n",
    "    valor += valor\n",
    "\n",
    "print(f\"Su valor decimal es: {valor}\")"
   ]
  },
  {
   "cell_type": "code",
   "execution_count": 4,
   "metadata": {},
   "outputs": [
    {
     "name": "stdout",
     "output_type": "stream",
     "text": [
      "1101\n",
      "Su valor decimal es: 13\n"
     ]
    }
   ],
   "source": [
    "#174\n",
    "bits = input(\"Dame un numero binario: \")\n",
    "print(bits)\n",
    "valor = 0\n",
    "for bit in bits:\n",
    "  valor += valor + int(bit)\n",
    "\n",
    "\n",
    "print(f\"Su valor decimal es: {valor}\")"
   ]
  },
  {
   "cell_type": "code",
   "execution_count": 7,
   "metadata": {},
   "outputs": [
    {
     "name": "stdout",
     "output_type": "stream",
     "text": [
      "01\n",
      "El valor decimal es: 1\n"
     ]
    }
   ],
   "source": [
    "#175\n",
    "bits = input(\"Dame un numero binario: \")\n",
    "print(bits)\n",
    "\n",
    "valor = 0\n",
    "i = 0\n",
    "\n",
    "while i < len(bits):\n",
    "    if bits[i] != \"1\" and bits[i] != \"0\":\n",
    "        print(f\"{bits[i]} en {bits} Numero mal formato\")\n",
    "        bits = input(\"Dame un numero binario: \")\n",
    "        print(bits)\n",
    "        i = 0  # Reinicia el contador para verificar el nuevo input desde el inicio\n",
    "    else:\n",
    "        if bits[i] == \"1\":\n",
    "            valor = valor * 2 + 1\n",
    "        else:\n",
    "            valor = valor * 2\n",
    "        i += 1\n",
    "print(f\"El valor decimal es: {valor}\")"
   ]
  },
  {
   "cell_type": "code",
   "execution_count": 15,
   "metadata": {},
   "outputs": [
    {
     "name": "stdout",
     "output_type": "stream",
     "text": [
      "El numero en base octal es: 0o401\n"
     ]
    }
   ],
   "source": [
    "#176 convertir una cadena de digitos entre 0 y 7 a base octal\n",
    "cadenaNumerica = input(\"Ingrese un numero entre 0 y 7\")\n",
    "numeroCadena = \"\"\n",
    "if cadenaNumerica.isdigit():\n",
    "  for digito in cadenaNumerica:\n",
    "    if digito == \"0\" or digito == \"1\" or digito == \"2\" or digito == \"3\" or digito == \"4\" or digito == \"5\" or digito == \"6\" or digito == \"7\":\n",
    "      numeroCadena +=  digito\n",
    "    else:\n",
    "      numeroCadena = \"\"\n",
    "\n",
    "if numeroCadena != \"\":\n",
    "  numero = int(numeroCadena)\n",
    "  print(f\"El numero en base octal es: {oct(numero)}\")\n",
    "else:\n",
    "    print(\"Ingrese un numero entre 0 y 7\")\n",
    "    \n",
    "\n",
    "      "
   ]
  }
 ],
 "metadata": {
  "kernelspec": {
   "display_name": "base",
   "language": "python",
   "name": "python3"
  },
  "language_info": {
   "codemirror_mode": {
    "name": "ipython",
    "version": 3
   },
   "file_extension": ".py",
   "mimetype": "text/x-python",
   "name": "python",
   "nbconvert_exporter": "python",
   "pygments_lexer": "ipython3",
   "version": "3.10.9"
  }
 },
 "nbformat": 4,
 "nbformat_minor": 2
}
