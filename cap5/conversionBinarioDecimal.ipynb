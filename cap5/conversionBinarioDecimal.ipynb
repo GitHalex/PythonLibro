{
 "cells": [
  {
   "cell_type": "markdown",
   "metadata": {},
   "source": [
    "# 5.1.7 Un programa de conversion de binario a decimal"
   ]
  },
  {
   "cell_type": "code",
   "execution_count": 10,
   "metadata": {},
   "outputs": [
    {
     "name": "stdout",
     "output_type": "stream",
     "text": [
      "1101\n",
      "Su valor decimal es: 14\n"
     ]
    }
   ],
   "source": [
    "#171\n",
    "bits = input(\"Dame un numero binario: \")\n",
    "print(bits)\n",
    "n = len(bits)\n",
    "valor = 0\n",
    "for bit in bits:\n",
    "  if bit == \"1\":\n",
    "    valor = valor + 2 ** (n-1)\n",
    "    n -= 1\n",
    "\n",
    "print(f\"Su valor decimal es: {valor}\")"
   ]
  },
  {
   "cell_type": "code",
   "execution_count": 8,
   "metadata": {},
   "outputs": [
    {
     "name": "stdout",
     "output_type": "stream",
     "text": [
      "1101\n",
      "Su valor decimal es: 13\n"
     ]
    }
   ],
   "source": [
    "#172 \n",
    "bits = input(\"Dame un numero binario: \")\n",
    "print(bits)\n",
    "\n",
    "valor = 0\n",
    "for bit in bits:\n",
    "  if bit == \"1\":\n",
    "    valor = 2 * valor + 1\n",
    "  else:\n",
    "    valor = 2 * valor\n",
    "\n",
    "print(f\"Su valor decimal es: {valor}\")"
   ]
  },
  {
   "cell_type": "code",
   "execution_count": 12,
   "metadata": {},
   "outputs": [
    {
     "name": "stdout",
     "output_type": "stream",
     "text": [
      "1101\n",
      "Su valor decimal es: 13\n"
     ]
    }
   ],
   "source": [
    "#173 \n",
    "bits = input(\"Dame un numero binario: \")\n",
    "print(bits)\n",
    "\n",
    "valor = 0\n",
    "for bit in bits:\n",
    "  if bit == \"1\":\n",
    "    valor += valor + 1\n",
    "  else:\n",
    "    valor += valor\n",
    "\n",
    "print(f\"Su valor decimal es: {valor}\")"
   ]
  },
  {
   "cell_type": "code",
   "execution_count": 4,
   "metadata": {},
   "outputs": [
    {
     "name": "stdout",
     "output_type": "stream",
     "text": [
      "1101\n",
      "Su valor decimal es: 13\n"
     ]
    }
   ],
   "source": [
    "#174\n",
    "bits = input(\"Dame un numero binario: \")\n",
    "print(bits)\n",
    "valor = 0\n",
    "for bit in bits:\n",
    "  valor += valor + int(bit)\n",
    "\n",
    "\n",
    "print(f\"Su valor decimal es: {valor}\")"
   ]
  },
  {
   "cell_type": "code",
   "execution_count": 7,
   "metadata": {},
   "outputs": [
    {
     "name": "stdout",
     "output_type": "stream",
     "text": [
      "01\n",
      "El valor decimal es: 1\n"
     ]
    }
   ],
   "source": [
    "#175\n",
    "bits = input(\"Dame un numero binario: \")\n",
    "print(bits)\n",
    "\n",
    "valor = 0\n",
    "i = 0\n",
    "\n",
    "while i < len(bits):\n",
    "    if bits[i] != \"1\" and bits[i] != \"0\":\n",
    "        print(f\"{bits[i]} en {bits} Numero mal formato\")\n",
    "        bits = input(\"Dame un numero binario: \")\n",
    "        print(bits)\n",
    "        i = 0  # Reinicia el contador para verificar el nuevo input desde el inicio\n",
    "    else:\n",
    "        if bits[i] == \"1\":\n",
    "            valor = valor * 2 + 1\n",
    "        else:\n",
    "            valor = valor * 2\n",
    "        i += 1\n",
    "print(f\"El valor decimal es: {valor}\")"
   ]
  },
  {
   "cell_type": "code",
   "execution_count": 2,
   "metadata": {},
   "outputs": [
    {
     "name": "stdout",
     "output_type": "stream",
     "text": [
      "El numero en base octal es: 0o1763\n"
     ]
    }
   ],
   "source": [
    "#176 convertir una cadena de digitos entre 0 y 7 a base octal\n",
    "cadenaNumerica = input(\"Ingrese un numero entre 0 y 7\")\n",
    "numeroCadena = \"\"\n",
    "if cadenaNumerica.isdigit():\n",
    "  for digito in cadenaNumerica:\n",
    "    if digito == \"0\" or digito == \"1\" or digito == \"2\" or digito == \"3\" or digito == \"4\" or digito == \"5\" or digito == \"6\" or digito == \"7\":\n",
    "      numeroCadena +=  digito\n",
    "    else:\n",
    "      numeroCadena = \"\"\n",
    "\n",
    "if numeroCadena != \"\":\n",
    "  numero = int(numeroCadena)\n",
    "  print(f\"El numero en base octal es: {oct(numero)}\")\n",
    "else:\n",
    "    print(\"Ingrese un numero entre 0 y 7\")\n",
    "    \n"
   ]
  },
  {
   "cell_type": "code",
   "execution_count": 4,
   "metadata": {},
   "outputs": [
    {
     "name": "stdout",
     "output_type": "stream",
     "text": [
      "La cadena hexadecimal 1a3f corresponde al valor decimal 6719.\n"
     ]
    }
   ],
   "source": [
    "#177 \n",
    "def hex_to_decimal(hex_string):\n",
    "    \"\"\"\n",
    "    Convierte una cadena de caracteres en representación hexadecimal a su valor decimal.\n",
    "    \n",
    "    Parámetros:\n",
    "    hex_string (str): Cadena de caracteres en representación hexadecimal.\n",
    "    \n",
    "    Retorna:\n",
    "    int: Valor decimal correspondiente.\n",
    "    \"\"\"\n",
    "    try:\n",
    "        # Convertir la cadena hexadecimal a un número decimal\n",
    "        decimal_value = int(hex_string, 16)\n",
    "        return decimal_value\n",
    "    except ValueError:\n",
    "        raise ValueError(\n",
    "            \"La cadena proporcionada no es una representación hexadecimal válida.\")\n",
    "\n",
    "\n",
    "# Ejemplo de uso\n",
    "hex_string = \"1a3f\"\n",
    "decimal_value = hex_to_decimal(hex_string)\n",
    "print(\n",
    "    f\"La cadena hexadecimal {hex_string} corresponde al valor decimal {decimal_value}.\")"
   ]
  },
  {
   "cell_type": "code",
   "execution_count": 5,
   "metadata": {},
   "outputs": [],
   "source": [
    "#178"
   ]
  },
  {
   "cell_type": "code",
   "execution_count": 6,
   "metadata": {},
   "outputs": [],
   "source": [
    "#179\n"
   ]
  },
  {
   "cell_type": "code",
   "execution_count": 7,
   "metadata": {},
   "outputs": [],
   "source": [
    "#180"
   ]
  },
  {
   "cell_type": "markdown",
   "metadata": {},
   "source": [
    "## 5.1.8 A vueltas con las cadenas: inversion de cadenas"
   ]
  },
  {
   "cell_type": "code",
   "execution_count": 12,
   "metadata": {},
   "outputs": [
    {
     "name": "stdout",
     "output_type": "stream",
     "text": [
      "Su inversion es: xela\n"
     ]
    }
   ],
   "source": [
    "#181\n",
    "cadena = input(\"]Introduce una cadena: \")\n",
    "inversion = \"\"\n",
    "\n",
    "for caracter in cadena:\n",
    "  inversion = caracter + inversion\n",
    "\n",
    "print(f\"Su inversion es: {inversion}\")"
   ]
  },
  {
   "cell_type": "code",
   "execution_count": 18,
   "metadata": {},
   "outputs": [
    {
     "name": "stdout",
     "output_type": "stream",
     "text": [
      "radar = radar es palindromo\n"
     ]
    }
   ],
   "source": [
    "#182\n",
    "cadena = input(\"Ingrese una cadena para ver si es palindromo: \")\n",
    "\n",
    "cadenaInvertida = \"\"\n",
    "\n",
    "for caracter in cadena:\n",
    "  cadenaInvertida = caracter + cadenaInvertida\n",
    "\n",
    "if cadena == cadenaInvertida:\n",
    "  print(f\"{cadena} = {cadenaInvertida} es palindromo\")\n",
    "else:\n",
    "  print(f\"{cadena} != {cadenaInvertida}  no es palindromo\")"
   ]
  },
  {
   "cell_type": "code",
   "execution_count": 1,
   "metadata": {},
   "outputs": [
    {
     "name": "stdout",
     "output_type": "stream",
     "text": [
      "la frase: sé verla al revés es frase palindroma\n"
     ]
    }
   ],
   "source": [
    "#183\n",
    "cadena = input(\"Ingrese una cadena para ver si es palindromo: \")\n",
    "invertida = \"\"\n",
    "sinEspacios = \"\"\n",
    "for caracter in cadena:\n",
    "  if caracter != \" \":\n",
    "    invertida = caracter + invertida\n",
    "\n",
    "for caracter in cadena:\n",
    "  if caracter != \" \":\n",
    "    sinEspacios = caracter + sinEspacios\n",
    "\n",
    "\n",
    "if sinEspacios == invertida:\n",
    "  print(f\"la frase: {cadena} es frase palindroma\")\n",
    "else:\n",
    "  print(f\"\"\"la frase: \"{cadena}\" no es frase palindroma\"\"\")"
   ]
  },
  {
   "cell_type": "code",
   "execution_count": 13,
   "metadata": {},
   "outputs": [
    {
     "name": "stdout",
     "output_type": "stream",
     "text": [
      "Cadena invertida: saltalenínelatlas\n",
      "Cadena sin espacios: saltalenínelatlas\n",
      "la frase:| Salta Lenín el atlas |es frase palindroma\n"
     ]
    }
   ],
   "source": [
    "#184\n",
    "cadena = input(\"Ingrese una cadena para ver si es palindromo: \")\n",
    "lowerCadena = cadena.lower()\n",
    "invertida = \"\"\n",
    "sinEspacios = \"\"\n",
    "for caracter in lowerCadena:\n",
    "  if caracter != \" \" or caracter == \"á\" or caracter == \"é\" or caracter == \"í\" or caracter == \"ó\" or caracter == \"ú\":\n",
    "    invertida = caracter + invertida\n",
    "print(f\"Cadena invertida: {invertida}\")\n",
    "for caracter in lowerCadena:\n",
    "  if caracter != \" \" or caracter == \"á\" or caracter == \"é\" or caracter == \"í\" or caracter == \"ó\" or caracter == \"ú\":\n",
    "    sinEspacios += caracter\n",
    "print(f\"Cadena sin espacios: {sinEspacios}\")\n",
    "\n",
    "if sinEspacios == invertida:\n",
    "  print(f\"la frase:| {cadena} | es frase palindroma\")\n",
    "else:\n",
    "  print(f\"la frase:| {cadena} | no es frase palindroma\")"
   ]
  },
  {
   "cell_type": "code",
   "execution_count": 17,
   "metadata": {},
   "outputs": [
    {
     "name": "stdout",
     "output_type": "stream",
     "text": [
      ".n .j.mpl. d. p.s.t..mp.s\n"
     ]
    }
   ],
   "source": [
    "#185\n",
    "cadenaInput = input(\"Ingrese una cadena: \")\n",
    "cadenaConPuntos = \"\"\n",
    "\n",
    "for caracter in cadenaInput:\n",
    "  if caracter == \"á\" or caracter == \"é\" or caracter == \"í\" or caracter == \"ó\" or caracter == \"ú\" or caracter == \"a\" or caracter == \"e\" or caracter == \"i\" or caracter == \"o\" or caracter == \"u\":\n",
    "    cadenaConPuntos += \".\"\n",
    "  else:\n",
    "    cadenaConPuntos += caracter\n",
    "\n",
    "print(cadenaConPuntos) \n"
   ]
  }
 ],
 "metadata": {
  "kernelspec": {
   "display_name": "base",
   "language": "python",
   "name": "python3"
  },
  "language_info": {
   "codemirror_mode": {
    "name": "ipython",
    "version": 3
   },
   "file_extension": ".py",
   "mimetype": "text/x-python",
   "name": "python",
   "nbconvert_exporter": "python",
   "pygments_lexer": "ipython3",
   "version": "3.10.9"
  }
 },
 "nbformat": 4,
 "nbformat_minor": 2
}
