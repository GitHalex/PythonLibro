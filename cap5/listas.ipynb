{
 "cells": [
  {
   "cell_type": "markdown",
   "id": "b2faeebf",
   "metadata": {},
   "source": [
    "## 5.1.9 Subcadenas: el operador de corte"
   ]
  },
  {
   "cell_type": "code",
   "execution_count": 1,
   "id": "c502ecf7",
   "metadata": {},
   "outputs": [
    {
     "name": "stdout",
     "output_type": "stream",
     "text": [
      "La subcadena entre 0 y 4 es hola\n"
     ]
    }
   ],
   "source": [
    "#190\n",
    "cadena = input(\"Dame una cadena: \")\n",
    "i = int(input(\"Dame un numero: \"))\n",
    "j = int(input(\"Dame otro numero: \"))\n",
    "if j > len(cadena):\n",
    "  final = len(cadena)\n",
    "else:\n",
    "  final = j\n",
    "\n",
    "if i < 0:\n",
    "  i = 0\n",
    "else:\n",
    "  i = 0\n",
    "\n",
    "subcadena = ''\n",
    "for k in range(i, final):\n",
    "  subcadena += cadena[k]\n",
    "\n",
    "print(f\"La subcadena entre {i} y {final} es {subcadena}\")"
   ]
  },
  {
   "cell_type": "code",
   "execution_count": 5,
   "id": "1dde9387",
   "metadata": {},
   "outputs": [
    {
     "name": "stdout",
     "output_type": "stream",
     "text": [
      "La subcadena entre 5 y 10 es: |como |\n"
     ]
    }
   ],
   "source": [
    "#191\n",
    "cadena = input(\"Dame una cadena: \")\n",
    "i = int(input(\"Dame un numero: \"))\n",
    "j = int(input(\"Dame otro numero: \"))\n",
    "if j > len(cadena):\n",
    "  final = len(cadena)\n",
    "else:\n",
    "  final = j\n",
    "\n",
    "if i < 0:\n",
    "  i = 0\n",
    "\n",
    "\n",
    "subcadena = ''\n",
    "for k in range(i, final):\n",
    "  subcadena += cadena[k]\n",
    "\n",
    "print(f\"La subcadena entre {i} y {final} es: |{subcadena}|\")"
   ]
  },
  {
   "cell_type": "code",
   "execution_count": 9,
   "id": "0a515388",
   "metadata": {},
   "outputs": [
    {
     "name": "stdout",
     "output_type": "stream",
     "text": [
      "La subcadena entre 5 y 9 es: |como|\n"
     ]
    }
   ],
   "source": [
    "#192\n",
    "cadena = input(\"Dame una cadena: \")\n",
    "i = int(input(\"Dame un numero: \"))\n",
    "n = int(input(\"Dame otro numero: \"))\n",
    "if j > len(cadena):\n",
    "  final = len(cadena)\n",
    "elif n > i:\n",
    "  final = n\n",
    "elif i > n:\n",
    "  print(\"No puedes cortar la cadena con i que sea mayor a n\")\n",
    "else:\n",
    "  i = i\n",
    "\n",
    "subcadena = ''\n",
    "for k in range(i, n):\n",
    "  subcadena += cadena[k]\n",
    "\n",
    "print(f\"La subcadena entre {i} y {final} es: |{subcadena}|\")"
   ]
  },
  {
   "cell_type": "code",
   "execution_count": 11,
   "id": "5f9981ad",
   "metadata": {},
   "outputs": [
    {
     "name": "stdout",
     "output_type": "stream",
     "text": [
      "Ejemplo\n"
     ]
    }
   ],
   "source": [
    "#193 y 194\n",
    "a = \"Ejemplo\"\n",
    "print(a[:])"
   ]
  }
 ],
 "metadata": {
  "kernelspec": {
   "display_name": "Python 3 (ipykernel)",
   "language": "python",
   "name": "python3"
  },
  "language_info": {
   "codemirror_mode": {
    "name": "ipython",
    "version": 3
   },
   "file_extension": ".py",
   "mimetype": "text/x-python",
   "name": "python",
   "nbconvert_exporter": "python",
   "pygments_lexer": "ipython3",
   "version": "3.10.9"
  }
 },
 "nbformat": 4,
 "nbformat_minor": 5
}
