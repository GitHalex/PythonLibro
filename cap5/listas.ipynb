{
 "cells": [
  {
   "cell_type": "markdown",
   "id": "b2faeebf",
   "metadata": {},
   "source": [
    "## 5.1.9 Subcadenas: el operador de corte"
   ]
  },
  {
   "cell_type": "code",
   "execution_count": 1,
   "id": "c502ecf7",
   "metadata": {},
   "outputs": [
    {
     "name": "stdout",
     "output_type": "stream",
     "text": [
      "La subcadena entre 0 y 4 es hola\n"
     ]
    }
   ],
   "source": [
    "#190\n",
    "cadena = input(\"Dame una cadena: \")\n",
    "i = int(input(\"Dame un numero: \"))\n",
    "j = int(input(\"Dame otro numero: \"))\n",
    "if j > len(cadena):\n",
    "  final = len(cadena)\n",
    "else:\n",
    "  final = j\n",
    "\n",
    "if i < 0:\n",
    "  i = 0\n",
    "else:\n",
    "  i = 0\n",
    "\n",
    "subcadena = ''\n",
    "for k in range(i, final):\n",
    "  subcadena += cadena[k]\n",
    "\n",
    "print(f\"La subcadena entre {i} y {final} es {subcadena}\")"
   ]
  },
  {
   "cell_type": "code",
   "execution_count": 5,
   "id": "1dde9387",
   "metadata": {},
   "outputs": [
    {
     "name": "stdout",
     "output_type": "stream",
     "text": [
      "La subcadena entre 5 y 10 es: |como |\n"
     ]
    }
   ],
   "source": [
    "#191\n",
    "cadena = input(\"Dame una cadena: \")\n",
    "i = int(input(\"Dame un numero: \"))\n",
    "j = int(input(\"Dame otro numero: \"))\n",
    "if j > len(cadena):\n",
    "  final = len(cadena)\n",
    "else:\n",
    "  final = j\n",
    "\n",
    "if i < 0:\n",
    "  i = 0\n",
    "\n",
    "\n",
    "subcadena = ''\n",
    "for k in range(i, final):\n",
    "  subcadena += cadena[k]\n",
    "\n",
    "print(f\"La subcadena entre {i} y {final} es: |{subcadena}|\")"
   ]
  },
  {
   "cell_type": "code",
   "execution_count": 9,
   "id": "0a515388",
   "metadata": {},
   "outputs": [
    {
     "name": "stdout",
     "output_type": "stream",
     "text": [
      "La subcadena entre 5 y 9 es: |como|\n"
     ]
    }
   ],
   "source": [
    "#192\n",
    "cadena = input(\"Dame una cadena: \")\n",
    "i = int(input(\"Dame un numero: \"))\n",
    "n = int(input(\"Dame otro numero: \"))\n",
    "if j > len(cadena):\n",
    "  final = len(cadena)\n",
    "elif n > i:\n",
    "  final = n\n",
    "elif i > n:\n",
    "  print(\"No puedes cortar la cadena con i que sea mayor a n\")\n",
    "else:\n",
    "  i = i\n",
    "\n",
    "subcadena = ''\n",
    "for k in range(i, n):\n",
    "  subcadena += cadena[k]\n",
    "\n",
    "print(f\"La subcadena entre {i} y {final} es: |{subcadena}|\")"
   ]
  },
  {
   "cell_type": "code",
   "execution_count": 12,
   "id": "5f9981ad",
   "metadata": {},
   "outputs": [
    {
     "name": "stdout",
     "output_type": "stream",
     "text": [
      "Ejemplo\n"
     ]
    }
   ],
   "source": [
    "#193 y 194\n",
    "a = \"Ejemplo\"\n",
    "print(a[:])"
   ]
  },
  {
   "cell_type": "code",
   "execution_count": 15,
   "id": "35b402cc",
   "metadata": {},
   "outputs": [
    {
     "name": "stdout",
     "output_type": "stream",
     "text": [
      "h\n",
      "ho\n",
      "hol\n",
      "hola\n"
     ]
    }
   ],
   "source": [
    "#195\n",
    "cadenaPre = input(\"Ingrese una palabra\")\n",
    "prefijo = \"\"\n",
    "for char in cadenaPre:\n",
    "  prefijo += char\n",
    "  print(prefijo)"
   ]
  },
  {
   "cell_type": "code",
   "execution_count": 1,
   "id": "e618cf1e",
   "metadata": {},
   "outputs": [
    {
     "name": "stdout",
     "output_type": "stream",
     "text": [
      "abc\n",
      "bcd\n",
      "cde\n",
      "def\n"
     ]
    }
   ],
   "source": [
    "#196\n",
    "entrada = input(\"Ingrese una frase\")\n",
    "longitud = len(entrada)\n",
    "for i in range(longitud - 2):\n",
    "  subcadena = entrada[i: i+3]\n",
    "  print(subcadena)"
   ]
  },
  {
   "cell_type": "code",
   "execution_count": 5,
   "id": "5ce14452",
   "metadata": {},
   "outputs": [
    {
     "name": "stdout",
     "output_type": "stream",
     "text": [
      "abcd\n",
      "bcde\n",
      "cdef\n",
      "defg\n"
     ]
    }
   ],
   "source": [
    "#197\n",
    "entrada = input(\"Ingrese una frase: \")\n",
    "longitud = len(entrada)\n",
    "k = int(input(\"K: \"))\n",
    "for i in range(longitud - k):\n",
    "  subcadena = entrada[i: i+k]\n",
    "  print(subcadena)"
   ]
  },
  {
   "cell_type": "code",
   "execution_count": 10,
   "id": "9dce0b0c",
   "metadata": {},
   "outputs": [
    {
     "name": "stdout",
     "output_type": "stream",
     "text": [
      "su es prefijo de subcadena\n"
     ]
    }
   ],
   "source": [
    "#198\n",
    "a = input(\"Inggrese una cadena: \")\n",
    "b = input(\"subcadena para buscar: \")\n",
    "if b in b:\n",
    "  print(f\"{b} es prefijo de {a}\")\n",
    "else:\n",
    "  print(f\"{b} no es prefijo de {a}\")"
   ]
  },
  {
   "cell_type": "code",
   "execution_count": 11,
   "id": "bdc1a3c7",
   "metadata": {},
   "outputs": [],
   "source": [
    "#199"
   ]
  },
  {
   "cell_type": "code",
   "execution_count": 12,
   "id": "069143a3",
   "metadata": {},
   "outputs": [],
   "source": [
    "#200"
   ]
  },
  {
   "cell_type": "code",
   "execution_count": 13,
   "id": "c9fa1bbe",
   "metadata": {},
   "outputs": [],
   "source": [
    "#201\n"
   ]
  },
  {
   "cell_type": "markdown",
   "id": "77cad9ca",
   "metadata": {},
   "source": [
    "## 5.1.10 Una aplicacion: Coprreo electronico personalizado"
   ]
  },
  {
   "cell_type": "code",
   "execution_count": 14,
   "id": "dcdfe12d",
   "metadata": {},
   "outputs": [
    {
     "ename": "OSError",
     "evalue": "nonnumeric port",
     "output_type": "error",
     "traceback": [
      "\u001b[0;31m---------------------------------------------------------------------------\u001b[0m",
      "\u001b[0;31mValueError\u001b[0m                                Traceback (most recent call last)",
      "File \u001b[0;32m~/anaconda3/lib/python3.10/smtplib.py:335\u001b[0m, in \u001b[0;36mSMTP.connect\u001b[0;34m(self, host, port, source_address)\u001b[0m\n\u001b[1;32m    334\u001b[0m \u001b[38;5;28;01mtry\u001b[39;00m:\n\u001b[0;32m--> 335\u001b[0m     port \u001b[38;5;241m=\u001b[39m \u001b[38;5;28;43mint\u001b[39;49m\u001b[43m(\u001b[49m\u001b[43mport\u001b[49m\u001b[43m)\u001b[49m\n\u001b[1;32m    336\u001b[0m \u001b[38;5;28;01mexcept\u001b[39;00m \u001b[38;5;167;01mValueError\u001b[39;00m:\n",
      "\u001b[0;31mValueError\u001b[0m: invalid literal for int() with base 10: '//formsubmit.co/calex1731@email.com'",
      "\nDuring handling of the above exception, another exception occurred:\n",
      "\u001b[0;31mOSError\u001b[0m                                   Traceback (most recent call last)",
      "Cell \u001b[0;32mIn[14], line 2\u001b[0m\n\u001b[1;32m      1\u001b[0m \u001b[38;5;28;01mfrom\u001b[39;00m \u001b[38;5;21;01msmtplib\u001b[39;00m \u001b[38;5;28;01mimport\u001b[39;00m SMTP\n\u001b[0;32m----> 2\u001b[0m servidor \u001b[38;5;241m=\u001b[39m \u001b[43mSMTP\u001b[49m\u001b[43m(\u001b[49m\u001b[38;5;124;43m\"\u001b[39;49m\u001b[38;5;124;43mhttps://formsubmit.co/calex1731@email.com\u001b[39;49m\u001b[38;5;124;43m\"\u001b[39;49m\u001b[43m)\u001b[49m\n\u001b[1;32m      3\u001b[0m remitente \u001b[38;5;241m=\u001b[39m \u001b[38;5;124m\"\u001b[39m\u001b[38;5;124malex@gmail.com\u001b[39m\u001b[38;5;124m\"\u001b[39m\n\u001b[1;32m      4\u001b[0m destinatario \u001b[38;5;241m=\u001b[39m\u001b[38;5;124m\"\u001b[39m\u001b[38;5;124mcalex1731@gmail.com\u001b[39m\u001b[38;5;124m\"\u001b[39m\n",
      "File \u001b[0;32m~/anaconda3/lib/python3.10/smtplib.py:255\u001b[0m, in \u001b[0;36mSMTP.__init__\u001b[0;34m(self, host, port, local_hostname, timeout, source_address)\u001b[0m\n\u001b[1;32m    252\u001b[0m \u001b[38;5;28mself\u001b[39m\u001b[38;5;241m.\u001b[39m_auth_challenge_count \u001b[38;5;241m=\u001b[39m \u001b[38;5;241m0\u001b[39m\n\u001b[1;32m    254\u001b[0m \u001b[38;5;28;01mif\u001b[39;00m host:\n\u001b[0;32m--> 255\u001b[0m     (code, msg) \u001b[38;5;241m=\u001b[39m \u001b[38;5;28;43mself\u001b[39;49m\u001b[38;5;241;43m.\u001b[39;49m\u001b[43mconnect\u001b[49m\u001b[43m(\u001b[49m\u001b[43mhost\u001b[49m\u001b[43m,\u001b[49m\u001b[43m \u001b[49m\u001b[43mport\u001b[49m\u001b[43m)\u001b[49m\n\u001b[1;32m    256\u001b[0m     \u001b[38;5;28;01mif\u001b[39;00m code \u001b[38;5;241m!=\u001b[39m \u001b[38;5;241m220\u001b[39m:\n\u001b[1;32m    257\u001b[0m         \u001b[38;5;28mself\u001b[39m\u001b[38;5;241m.\u001b[39mclose()\n",
      "File \u001b[0;32m~/anaconda3/lib/python3.10/smtplib.py:337\u001b[0m, in \u001b[0;36mSMTP.connect\u001b[0;34m(self, host, port, source_address)\u001b[0m\n\u001b[1;32m    335\u001b[0m             port \u001b[38;5;241m=\u001b[39m \u001b[38;5;28mint\u001b[39m(port)\n\u001b[1;32m    336\u001b[0m         \u001b[38;5;28;01mexcept\u001b[39;00m \u001b[38;5;167;01mValueError\u001b[39;00m:\n\u001b[0;32m--> 337\u001b[0m             \u001b[38;5;28;01mraise\u001b[39;00m \u001b[38;5;167;01mOSError\u001b[39;00m(\u001b[38;5;124m\"\u001b[39m\u001b[38;5;124mnonnumeric port\u001b[39m\u001b[38;5;124m\"\u001b[39m)\n\u001b[1;32m    338\u001b[0m \u001b[38;5;28;01mif\u001b[39;00m \u001b[38;5;129;01mnot\u001b[39;00m port:\n\u001b[1;32m    339\u001b[0m     port \u001b[38;5;241m=\u001b[39m \u001b[38;5;28mself\u001b[39m\u001b[38;5;241m.\u001b[39mdefault_port\n",
      "\u001b[0;31mOSError\u001b[0m: nonnumeric port"
     ]
    }
   ],
   "source": [
    "from smtplib import SMTP\n",
    "servidor = SMTP(\"https://formsubmit.co/calex1731@email.com\")\n",
    "remitente = \"alex@gmail.com\"\n",
    "destinatario =\"calex1731@gmail.com\"\n",
    "mensaje = f\"From: {remitente}\\nTo: {destinatario}\"\n",
    "mensaje += \"hola\"\n",
    "mensaje += \"hasta luego\"\n",
    "\n",
    "servidor.sendmail(remitente, destinatario, mensaje)"
   ]
  },
  {
   "cell_type": "code",
   "execution_count": null,
   "id": "0eb29936",
   "metadata": {},
   "outputs": [],
   "source": [
    "#202"
   ]
  },
  {
   "cell_type": "markdown",
   "id": "a627b37e",
   "metadata": {},
   "source": [
    "## 5.1.11 Referencias de cadenas"
   ]
  },
  {
   "cell_type": "code",
   "execution_count": 4,
   "id": "7649715a",
   "metadata": {},
   "outputs": [
    {
     "name": "stdout",
     "output_type": "stream",
     "text": [
      "d\n",
      "d\n"
     ]
    }
   ],
   "source": [
    "#203\n",
    "a = \"cadena\"\n",
    "b = a[2:3]\n",
    "print(b)\n",
    "c = b + \"\"\n",
    "print(c)"
   ]
  },
  {
   "cell_type": "code",
   "execution_count": 6,
   "id": "ea52571c",
   "metadata": {},
   "outputs": [
    {
     "name": "stdout",
     "output_type": "stream",
     "text": [
      "abababababab\n"
     ]
    }
   ],
   "source": [
    "#204\n",
    "a = 'ab'\n",
    "a *= 3\n",
    "b = a\n",
    "c = a[:]\n",
    "c = c + b\n",
    "print(c)"
   ]
  },
  {
   "cell_type": "markdown",
   "id": "58fca232",
   "metadata": {},
   "source": [
    "# 5.2 LISTAS"
   ]
  },
  {
   "cell_type": "code",
   "execution_count": 8,
   "id": "e92a7447",
   "metadata": {},
   "outputs": [
    {
     "name": "stdout",
     "output_type": "stream",
     "text": [
      "[1, 2, 3]\n",
      "1\n",
      "3\n"
     ]
    }
   ],
   "source": [
    "#205\n",
    "a = [[1,2,3],2,3]\n",
    "print(a[0]) \n",
    "print(a[0][0])\n",
    "print(a[0][2])"
   ]
  },
  {
   "cell_type": "code",
   "execution_count": 11,
   "id": "eaffddcd",
   "metadata": {},
   "outputs": [
    {
     "name": "stdout",
     "output_type": "stream",
     "text": [
      "[1, 2, 3]\n"
     ]
    }
   ],
   "source": [
    "#206\n",
    "x = [1,2,3]\n",
    "y = x + []\n",
    "print(y)"
   ]
  },
  {
   "cell_type": "code",
   "execution_count": 12,
   "id": "191e804e",
   "metadata": {},
   "outputs": [
    {
     "name": "stdout",
     "output_type": "stream",
     "text": [
      "principio\n",
      "y Fin\n"
     ]
    }
   ],
   "source": [
    "#207\n",
    "print(\"principio\")\n",
    "for i in []:\n",
    "  print(\"Paso\")\n",
    "print(\"y Fin\")"
   ]
  },
  {
   "cell_type": "code",
   "execution_count": 13,
   "id": "1044275f",
   "metadata": {},
   "outputs": [
    {
     "name": "stdout",
     "output_type": "stream",
     "text": [
      "1\n",
      "1\n",
      "1\n",
      "1\n",
      "1\n",
      "1\n",
      "1\n",
      "1\n",
      "1\n",
      "1\n"
     ]
    }
   ],
   "source": [
    "#208\n",
    "for i in [1]*10:\n",
    "  print(i)"
   ]
  },
  {
   "cell_type": "markdown",
   "id": "18c8839d",
   "metadata": {},
   "source": [
    "## 5.2.2 Comparacion de listas\n",
    "\n",
    "\"aa\" < \"ab\" # True\n",
    "\n",
    "En este ejemplo, la comparación se realiza de la siguiente manera:\n",
    "\n",
    "1. Compara el primer carácter de cada cadena: 'a' == 'a'\n",
    "2. Compara el segundo carácter de cada cadena: 'a' < 'b'\n",
    "   \n",
    "Dado que 'a' es igual en ambas cadenas, Python pasa a comparar el segundo carácter, y como 'a' es menor que 'b', la comparación resulta en True.\n",
    "\n",
    "#### Comparación de Listas\n",
    "La comparación de listas en Python sigue un principio similar al de las cadenas:\n",
    "\n",
    "[1, 2] < [1, 2] # False\n",
    "\n",
    "[1, 2] < [1, 3] # True\n",
    "\n",
    "[1, 2, 3] < [1, 2] # False\n",
    "\n",
    "[1, 2, 3] < [1, 2, 4] # True\n",
    "\n",
    "##### Resumen\n",
    "Cadenas: Comparación carácter a carácter utilizando valores Unicode.\n",
    "\n",
    "Listas: Comparación elemento a elemento en el mismo orden que las cadenas. Si una lista es prefijo de otra y las partes comparadas son iguales, la lista más corta es considerada menor.\n",
    "\n",
    "Compara el primer elemento de cada lista:\n",
    "10 y 1\n",
    "Como 10 es mayor que 1, la comparación se resuelve en este punto y Python \n",
    "\n",
    "determina que [10, 3] es mayor que [1, 3] sin necesidad de comparar los elementos restantes (3 y 3).\n",
    "\n",
    "- [10, 3] > [1, 3] se detiene en el primer elemento, 10 > 1.\n",
    "- [1, 2, 3] < [1, 2, 4] se detiene en el tercer elemento, 3 < 4.\n",
    "- [1, 2, 3, 4] < [1, 2, 3, 5] se detiene en el cuarto elemento, 4 < 5.\n",
    "- [1, 2, 3, 4] > [1, 2, 3] se detiene después de comparar todos los elementos de la segunda lista y encuentra que la primera lista es más larga.\n",
    "- [1, 2] < [1, 2, 3] se detiene después de comparar todos los elementos de la primera lista y encuentra que la segunda lista es más larga.\n"
   ]
  },
  {
   "cell_type": "code",
   "execution_count": 17,
   "id": "969b4c77",
   "metadata": {},
   "outputs": [
    {
     "name": "stdout",
     "output_type": "stream",
     "text": [
      "True\n"
     ]
    }
   ],
   "source": [
    "# 209 y 210\n",
    "\n",
    "lista1 = [1, 2, 3]\n",
    "lista2 = [4, 5, 6]\n",
    "\n",
    "indice = 0\n",
    "esMenor = False\n",
    "while indice < len(lista1):\n",
    "  if lista1[indice] < lista2[indice]:\n",
    "    esMenor = True\n",
    "    break\n",
    "\n",
    "print(esMenor)\n"
   ]
  }
 ],
 "metadata": {
  "kernelspec": {
   "display_name": "Python 3 (ipykernel)",
   "language": "python",
   "name": "python3"
  },
  "language_info": {
   "codemirror_mode": {
    "name": "ipython",
    "version": 3
   },
   "file_extension": ".py",
   "mimetype": "text/x-python",
   "name": "python",
   "nbconvert_exporter": "python",
   "pygments_lexer": "ipython3",
   "version": "3.10.9"
  }
 },
 "nbformat": 4,
 "nbformat_minor": 5
}
