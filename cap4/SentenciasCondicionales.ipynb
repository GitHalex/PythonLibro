{
 "cells": [
  {
   "attachments": {},
   "cell_type": "markdown",
   "id": "80cebcc6",
   "metadata": {},
   "source": [
    "# Sentencias Condicionales Anidadas"
   ]
  },
  {
   "cell_type": "code",
   "execution_count": 3,
   "id": "f2d14026",
   "metadata": {},
   "outputs": [
    {
     "name": "stdout",
     "output_type": "stream",
     "text": [
      "Programa para calcular la resolucion de la ecuacion ax + b = 0\n",
      "La ecuacion no tiene solucion\n"
     ]
    }
   ],
   "source": [
    "#56\n",
    "print(\"Programa para calcular la resolucion de la ecuacion ax + b = 0\")\n",
    "\n",
    "a = float(input(\"Valor de a: \"))\n",
    "b = float(input(\"Valor de b: \"))\n",
    "\n",
    "if a != 0:\n",
    "   x = -b/a\n",
    "   print(f\"solucion: {x}\")\n",
    "\n",
    "if a == 0:\n",
    "   if b != 0:\n",
    "      print(\"La ecuacion no tiene solucion\")\n",
    "   if b == 0:\n",
    "      print(\"La ecuacion tiene infinitas soluciones\")"
   ]
  },
  {
   "cell_type": "code",
   "execution_count": 6,
   "id": "8db0ac34",
   "metadata": {},
   "outputs": [
    {
     "name": "stdout",
     "output_type": "stream",
     "text": [
      "El numero es negativo: -4\n"
     ]
    }
   ],
   "source": [
    "#57\n",
    "#Programa que determina si un numero es negativo\n",
    "num = int(input(\"Ingrese un numero: \"))\n",
    "\n",
    "if num < 0:\n",
    "    print(f\"El numero es negativo: {num}\")"
   ]
  },
  {
   "cell_type": "code",
   "execution_count": 8,
   "id": "834d49d6",
   "metadata": {},
   "outputs": [],
   "source": [
    "#58\n",
    "#Programa que determina si el numero es positivo\n",
    "num = int(input(\"Ingrese un numero: \"))\n",
    "\n",
    "if num >= 0:\n",
    "   print(f\"EL numero es positivo: {num}\")"
   ]
  },
  {
   "cell_type": "code",
   "execution_count": 10,
   "id": "537ff09d",
   "metadata": {},
   "outputs": [
    {
     "name": "stdout",
     "output_type": "stream",
     "text": [
      "3 == 3 tienen las mismas edades\n"
     ]
    }
   ],
   "source": [
    "#59\n",
    "#programa que determina la edad de dos personas\n",
    "per1 = int(input(\"Edad de la Primera Persona: \"))\n",
    "per2 = int(input(\"Edad de la Segunda Persona: \"))\n",
    "\n",
    "if per1 > per2:\n",
    "   print(f\"Segunda Persona: {per2} es mas joven que la Primera persona: {per1}\")\n",
    "elif per2 > per1:\n",
    "   print(f\"Primer Persona: {per1} es mas joven que La segunda persona: {per2}\")\n",
    "else:\n",
    "   print(f\"{per1} == {per2} tienen las mismas edades\")\n"
   ]
  },
  {
   "cell_type": "code",
   "execution_count": 17,
   "id": "aa189ffc",
   "metadata": {},
   "outputs": [
    {
     "name": "stdout",
     "output_type": "stream",
     "text": [
      "( es un caracter de parentesis abierto: \n"
     ]
    }
   ],
   "source": [
    "#60\n",
    "#Pragrama que determina si es un caracter si es parentisis\n",
    "car = input(\"Ingrese un Caracter: \")\n",
    "\n",
    "if car == ')':\n",
    "   print(f\"{car} es un caracter de cierre parentesis\")\n",
    "if car == '(':\n",
    "   print(f\"{car} es un caracter de parentesis abierto: \")"
   ]
  },
  {
   "cell_type": "code",
   "execution_count": null,
   "id": "49745e26",
   "metadata": {},
   "outputs": [],
   "source": [
    "#61\n"
   ]
  }
 ],
 "metadata": {
  "kernelspec": {
   "display_name": "base",
   "language": "python",
   "name": "python3"
  },
  "language_info": {
   "codemirror_mode": {
    "name": "ipython",
    "version": 3
   },
   "file_extension": ".py",
   "mimetype": "text/x-python",
   "name": "python",
   "nbconvert_exporter": "python",
   "pygments_lexer": "ipython3",
   "version": "3.10.9"
  }
 },
 "nbformat": 4,
 "nbformat_minor": 5
}
