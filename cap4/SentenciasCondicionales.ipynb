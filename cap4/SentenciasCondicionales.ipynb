{
 "cells": [
  {
   "attachments": {},
   "cell_type": "markdown",
   "id": "80cebcc6",
   "metadata": {},
   "source": [
    "# Sentencias Condicionales Anidadas"
   ]
  },
  {
   "cell_type": "code",
   "execution_count": 3,
   "id": "f2d14026",
   "metadata": {},
   "outputs": [
    {
     "name": "stdout",
     "output_type": "stream",
     "text": [
      "Programa para calcular la resolucion de la ecuacion ax + b = 0\n",
      "La ecuacion no tiene solucion\n"
     ]
    }
   ],
   "source": [
    "#56\n",
    "print(\"Programa para calcular la resolucion de la ecuacion ax + b = 0\")\n",
    "\n",
    "a = float(input(\"Valor de a: \"))\n",
    "b = float(input(\"Valor de b: \"))\n",
    "\n",
    "if a != 0:\n",
    "   x = -b/a\n",
    "   print(f\"solucion: {x}\")\n",
    "\n",
    "if a == 0:\n",
    "   if b != 0:\n",
    "      print(\"La ecuacion no tiene solucion\")\n",
    "   if b == 0:\n",
    "      print(\"La ecuacion tiene infinitas soluciones\")"
   ]
  },
  {
   "cell_type": "code",
   "execution_count": 6,
   "id": "8db0ac34",
   "metadata": {},
   "outputs": [
    {
     "name": "stdout",
     "output_type": "stream",
     "text": [
      "El numero es negativo: -4\n"
     ]
    }
   ],
   "source": [
    "#57\n",
    "#Programa que determina si un numero es negativo\n",
    "num = int(input(\"Ingrese un numero: \"))\n",
    "\n",
    "if num < 0:\n",
    "    print(f\"El numero es negativo: {num}\")"
   ]
  },
  {
   "cell_type": "code",
   "execution_count": 8,
   "id": "834d49d6",
   "metadata": {},
   "outputs": [],
   "source": [
    "#58\n",
    "#Programa que determina si el numero es positivo\n",
    "num = int(input(\"Ingrese un numero: \"))\n",
    "\n",
    "if num >= 0:\n",
    "   print(f\"EL numero es positivo: {num}\")"
   ]
  },
  {
   "cell_type": "code",
   "execution_count": 10,
   "id": "537ff09d",
   "metadata": {},
   "outputs": [
    {
     "name": "stdout",
     "output_type": "stream",
     "text": [
      "3 == 3 tienen las mismas edades\n"
     ]
    }
   ],
   "source": [
    "#59\n",
    "#programa que determina la edad de dos personas\n",
    "per1 = int(input(\"Edad de la Primera Persona: \"))\n",
    "per2 = int(input(\"Edad de la Segunda Persona: \"))\n",
    "\n",
    "if per1 > per2:\n",
    "   print(f\"Segunda Persona: {per2} es mas joven que la Primera persona: {per1}\")\n",
    "elif per2 > per1:\n",
    "   print(f\"Primer Persona: {per1} es mas joven que La segunda persona: {per2}\")\n",
    "else:\n",
    "   print(f\"{per1} == {per2} tienen las mismas edades\")\n"
   ]
  },
  {
   "cell_type": "code",
   "execution_count": 17,
   "id": "aa189ffc",
   "metadata": {},
   "outputs": [
    {
     "name": "stdout",
     "output_type": "stream",
     "text": [
      "( es un caracter de parentesis abierto: \n"
     ]
    }
   ],
   "source": [
    "#60\n",
    "#Pragrama que determina si es un caracter si es parentisis\n",
    "car = input(\"Ingrese un Caracter: \")\n",
    "\n",
    "if car == ')':\n",
    "   print(f\"{car} es un caracter de cierre parentesis\")\n",
    "if car == '(':\n",
    "   print(f\"{car} es un caracter de parentesis abierto: \")"
   ]
  },
  {
   "cell_type": "code",
   "execution_count": 18,
   "id": "49745e26",
   "metadata": {},
   "outputs": [
    {
     "name": "stdout",
     "output_type": "stream",
     "text": [
      "Es de las ultimas del alfabeto \n"
     ]
    }
   ],
   "source": [
    "#61\n",
    "letra = input(\"Dame una letra minuscula: \")\n",
    "\n",
    "if letra <= 'k':\n",
    "   print(\"Es de las primeras del alfabeto\")\n",
    "if letra >= 'l':\n",
    "   print(\"Es de las ultimas del alfabeto \")"
   ]
  },
  {
   "cell_type": "code",
   "execution_count": 2,
   "id": "0133f650",
   "metadata": {},
   "outputs": [
    {
     "name": "stdout",
     "output_type": "stream",
     "text": [
      "0\n",
      "Primer cuadrante\n"
     ]
    }
   ],
   "source": [
    "from math import floor #la funcion redondea hacia abajo\n",
    "\n",
    "grados = float(input('Dame un angulo (en grados: ): '))\n",
    "\n",
    "cuadrante = floor(grados)%360 //90\n",
    "print(cuadrante)\n",
    "if cuadrante == 0:\n",
    "   print(\"Primer cuadrante\")\n",
    "if cuadrante == 1:\n",
    "   print(\"Segundo Cuadrante\")\n",
    "if cuadrante == 2:\n",
    "   print(\"Tercer cuadrante\")\n",
    "if cuadrante == 3:\n",
    "   print(\"Cuarte cuadrante\")\n"
   ]
  },
  {
   "cell_type": "code",
   "execution_count": 4,
   "id": "8d0a9337",
   "metadata": {},
   "outputs": [
    {
     "name": "stdout",
     "output_type": "stream",
     "text": [
      "Primer saludo\n",
      "Segundo saludo\n"
     ]
    }
   ],
   "source": [
    "#62\n",
    "if 14 < 120:\n",
    "   print('Primer saludo')\n",
    "if '11' < '120':\n",
    "   print('Segundo saludo')"
   ]
  },
  {
   "cell_type": "code",
   "execution_count": 5,
   "id": "23e35535",
   "metadata": {},
   "outputs": [
    {
     "name": "stdout",
     "output_type": "stream",
     "text": [
      "El producto 10x10 es igual a 100\n"
     ]
    }
   ],
   "source": [
    "#63\n",
    "n = int(input(\"Dame un numero: \"))\n",
    "m = int(input(\"Dame otro numero: \"))\n",
    "\n",
    "if n*m == 100:\n",
    "   print(f\"El producto {n}x{m} es igual a 100\")\n",
    "if n*m != 100:\n",
    "   print(f\"El producto {n}x{m} es distinto de 100\")"
   ]
  },
  {
   "cell_type": "code",
   "execution_count": 6,
   "id": "ca0df86d",
   "metadata": {},
   "outputs": [
    {
     "name": "stdout",
     "output_type": "stream",
     "text": [
      "El numero es par\n"
     ]
    }
   ],
   "source": [
    "#63\n",
    "numero = int(input(\"Ingrese un numero: \"))\n",
    "if numero%2 == 0:\n",
    "   print(\"El numero es par\")\n",
    "if numero%2 != 0:\n",
    "   print(\"El numero es impar\")"
   ]
  },
  {
   "cell_type": "code",
   "execution_count": 3,
   "id": "0dcfce4c",
   "metadata": {},
   "outputs": [
    {
     "name": "stdout",
     "output_type": "stream",
     "text": [
      "18 es el doble de 9, que es impar\n"
     ]
    }
   ],
   "source": [
    "#64\n",
    "#Programa que determina si un numero es el doble del otro\n",
    "\n",
    "num_entero = int(input(\"Ingrese un numero entero: \"))\n",
    "mitad = num_entero/2\n",
    "\n",
    "if mitad % 2 != 0:\n",
    "   print(f\"{num_entero} es el doble de {int(mitad)}, que es impar\")"
   ]
  },
  {
   "cell_type": "code",
   "execution_count": 7,
   "id": "761e8d5a",
   "metadata": {},
   "outputs": [
    {
     "name": "stdout",
     "output_type": "stream",
     "text": [
      "El segundo numero : 4 es el cuadrado del primero 2**2 = 4\n"
     ]
    }
   ],
   "source": [
    "#65\n",
    "primero = int(input(\"Ingrese el primer numero: \"))\n",
    "segundo = int(input(\"Ingrese el segundo numero: \"))\n",
    "if segundo == primero*primero:\n",
    "   print(f\"El segundo numero : {segundo} es el cuadrado del primero {primero}**2 = {primero*primero}\")\n",
    "if segundo > primero*primero:\n",
    "   print(f\"El segundo numero {segundo} es mayor que el cuadrado del primero {primero}**2 = {primero*primero}\")\n",
    "if segundo < primero*primero:\n",
    "   print(f\"El segundo numero {segundo} es menor que el cuadrado del primero {primero}**2 = {primero*primero}\")"
   ]
  },
  {
   "cell_type": "code",
   "execution_count": 8,
   "id": "b38e6082",
   "metadata": {},
   "outputs": [
    {
     "name": "stdout",
     "output_type": "stream",
     "text": [
      "11025.0 Euros\n"
     ]
    }
   ],
   "source": [
    "#66\n",
    "#Programa que determina el interes anual de un capital en n años\n",
    "capital = int(input(\"Ingrese la capital: \"))\n",
    "year = int(input(\"Ingrese los años: \"))\n",
    "interes = float(input(\"Ingrese la tasa de interes: \"))\n",
    "if capital > 0:\n",
    "   print(f\"{capital*(1+interes/100)**year} Euros\")"
   ]
  },
  {
   "cell_type": "code",
   "execution_count": 16,
   "id": "1f9aa241",
   "metadata": {},
   "outputs": [
    {
     "name": "stdout",
     "output_type": "stream",
     "text": [
      "2 billetes de 500 euros\n",
      "1 billetes de 200 euros\n",
      "1 billetes de 50 euros\n",
      "1 billetes de 5 euros\n",
      "1 modenas de 2 monedas\n",
      "1 monedas de 1 monedas\n"
     ]
    }
   ],
   "source": [
    "#67\n",
    "monto = float(input(\"Ingrese el fardo de billetes: \"))\n",
    "if monto >= 500:\n",
    "   billetes = monto//500\n",
    "   monto %= 500\n",
    "   print(f\"{int(billetes)} billetes de 500 euros\")\n",
    "if monto >= 200:\n",
    "   billetes = monto//200\n",
    "   monto %= 200\n",
    "   print(f\"{int(billetes)} billetes de 200 euros\")\n",
    "if monto >= 100:\n",
    "   billetes = monto//100\n",
    "   monto %= 100\n",
    "   print(f\"{int(billetes)} billetes de 100 euros\")\n",
    "if monto >= 50:\n",
    "   billetes = monto//50\n",
    "   monto %= 50\n",
    "   print(f\"{int(billetes)} billetes de 50 euros\")\n",
    "if monto >= 20:\n",
    "   billetes = monto//20\n",
    "   monto %= 20\n",
    "   print(f\"{int(billetes)} billetes de 20 euros\")\n",
    "if monto >= 10:\n",
    "   billetes = monto//10\n",
    "   monto %= 10\n",
    "   print(f\"{int(billetes)} billetes de 10 euros\")\n",
    "if monto >= 5:\n",
    "   billetes = monto//5\n",
    "   monto %= 5\n",
    "   print(f\"{int(billetes)} billetes de 5 euros\")\n",
    "if monto >= 2:\n",
    "   billetes = monto//2\n",
    "   monto %= 2\n",
    "   print(f\"{int(billetes)} modenas de 2 monedas\")\n",
    "if monto >= 1:\n",
    "   billetes = monto//1\n",
    "   monto %= 1\n",
    "   print(f\"{int(billetes)} monedas de 1 monedas\")\n",
    " "
   ]
  },
  {
   "attachments": {},
   "cell_type": "markdown",
   "id": "47fd6b41",
   "metadata": {},
   "source": [
    "# 4.1.5 En caso contrario ELSE"
   ]
  },
  {
   "cell_type": "code",
   "execution_count": 1,
   "id": "9eeaf731",
   "metadata": {},
   "outputs": [
    {
     "name": "stdout",
     "output_type": "stream",
     "text": [
      "Programa para la resolucion de la ecuacion a x*x + b*x + c = 0\n",
      "Soluciones x1=-1.0 ----- x2=-2.0\n"
     ]
    }
   ],
   "source": [
    "#68\n",
    "from math import sqrt #la funcion sqrt calcula la raiz cuadrada de un numero\n",
    "\n",
    "print(\"Programa para la resolucion de la ecuacion a x*x + b*x + c = 0\")\n",
    "\n",
    "a = float(input(\"Valor de a: \"))\n",
    "b = float(input(\"Valor de b: \"))\n",
    "c = float(input(\"Valor de c: \"))\n",
    "\n",
    "if a == 0:\n",
    "   if b == 0:\n",
    "      if c == 0:\n",
    "         print(\"La ecuacion tiene infinitas soluciones\")\n",
    "      else:\n",
    "         print(\"La ecuacion no tiene solucion\")\n",
    "   else:\n",
    "      x = -c/b\n",
    "      print(f\"Solucion x={x}\")\n",
    "else:\n",
    "   x1 = (-b+sqrt(b**2-4*a*c)) / (2*a)\n",
    "   x2 = (-b-sqrt(b**2-4*a*c)) / (2*a)\n",
    "   print(f\"Soluciones x1={x1} ----- x2={x2}\")\n"
   ]
  },
  {
   "cell_type": "code",
   "execution_count": 3,
   "id": "d63def84",
   "metadata": {},
   "outputs": [
    {
     "name": "stdout",
     "output_type": "stream",
     "text": [
      "Programa para la resolucion de la ecuacion a x*x + b*x + c = 0\n",
      "Soluciones x1=-1.0 ----- x2=-2.0\n"
     ]
    }
   ],
   "source": [
    "#69\n",
    "from math import sqrt\n",
    "\n",
    "print(\"Programa para la resolucion de la ecuacion a x*x + b*x + c = 0\")\n",
    "\n",
    "a = float(input(\"Valor de a: \"))\n",
    "b = float(input(\"Valor de b: \"))\n",
    "c = float(input(\"Valor de c: \"))\n",
    "\n",
    "if a == 0 and b == 0 and c == 0:\n",
    "   print(\"La ecuacion tiene infinitas soluciones\")\n",
    "else:\n",
    "   if a == 0 and b == 0:\n",
    "      print(\"La ecuaciones no tiene solucion\")\n",
    "   else:\n",
    "      if a == 0:\n",
    "         x == -c/b\n",
    "      else:\n",
    "         x1 = (-b+sqrt(b**2-4*a*c)) / (2*a)\n",
    "         x2 = (-b-sqrt(b**2-4*a*c)) / (2*a)\n",
    "         print(f\"Soluciones x1={x1} ----- x2={x2}\")"
   ]
  },
  {
   "cell_type": "code",
   "execution_count": 15,
   "id": "3ff79283",
   "metadata": {},
   "outputs": [
    {
     "name": "stdout",
     "output_type": "stream",
     "text": [
      "Ñ MAYUSCULA\n"
     ]
    }
   ],
   "source": [
    "#70 71 72 Programa que determina si un caracter esta en Mayuscula y Minuscula\n",
    "car = input(\"Ingrese un caracter alfabetico: \")\n",
    "if car.isnumeric():\n",
    "   print(f\"{car} este caracter es numerico\")\n",
    "else:\n",
    "   if car.isalpha():\n",
    "      if car == car.lower():\n",
    "         print(f\"{car} minuscula\")\n",
    "      else:\n",
    "         print(f\"{car} MAYUSCULA\")\n",
    "   else:\n",
    "      print(f\"{car} Me pusiste cualquier webada\")"
   ]
  },
  {
   "cell_type": "code",
   "execution_count": 2,
   "id": "86b7d2ad",
   "metadata": {},
   "outputs": [
    {
     "name": "stdout",
     "output_type": "stream",
     "text": [
      "El segundo numero : 4 es el cuadrado del primero 2**2 = 4\n"
     ]
    }
   ],
   "source": [
    "#73 \n",
    "primero = int(input(\"Ingrese el primer numero: \"))\n",
    "segundo = int(input(\"Ingrese el segundo numero: \"))\n",
    "if segundo == primero*primero:\n",
    "   print(f\"El segundo numero : {segundo} es el cuadrado del primero {primero}**2 = {primero*primero}\")\n",
    "else:\n",
    "   if segundo > primero*primero:\n",
    "      print(f\"El segundo numero {segundo} es mayor que el cuadrado del primero {primero}**2 = {primero*primero}\")\n",
    "   else:\n",
    "      print(f\"El segundo numero {segundo} es menor que el cuadrado del primero {primero}**2 = {primero*primero}\")"
   ]
  },
  {
   "cell_type": "code",
   "execution_count": 6,
   "id": "2052e0e6",
   "metadata": {},
   "outputs": [
    {
     "name": "stdout",
     "output_type": "stream",
     "text": [
      "Programa para la resolucion de la ecuacion a*x*x + b*x + c = 0\n",
      "Soluciones x1=1.0  -------- x2=1.0\n"
     ]
    }
   ],
   "source": [
    "#74\n",
    "from math import sqrt\n",
    "\n",
    "print(\"Programa para la resolucion de la ecuacion a*x*x + b*x + c = 0\")\n",
    "\n",
    "a = float(input(\"Valor de a: \"))\n",
    "b = float(input(\"Valor de b: \"))\n",
    "c = float(input(\"Valor de c: \"))\n",
    "\n",
    "if a != 0:\n",
    "   if b**2 -4*a*c >= 0:\n",
    "      x1 = (-b + sqrt(b**2 -4*a*c))/(2*a)\n",
    "      x2 = (-b - sqrt(b**2 -4*a*c))/(2*a)\n",
    "      print(f\"Soluciones x1={x1}  -------- x2={x2}\")\n",
    "   else:\n",
    "      print(\"No hay soluciones reales\")\n",
    "else:\n",
    "   if b != 0:\n",
    "      x = -c / b\n",
    "      print(f\"Solucion x={x}\")\n",
    "   else:\n",
    "      if c != 0:\n",
    "         print(\"La ecuacion no tiene solucion\")\n",
    "      else:\n",
    "         print(\"La ecuaciones no tienen soluciones\")"
   ]
  },
  {
   "cell_type": "code",
   "execution_count": 9,
   "id": "abc0c067",
   "metadata": {},
   "outputs": [
    {
     "name": "stdout",
     "output_type": "stream",
     "text": [
      "El maximo es: 10\n"
     ]
    }
   ],
   "source": [
    "#75 Programa que determina el numero maximo de dos numeros\n",
    "a = int(input(\"Dame el primer numero: \"))\n",
    "b = int(input(\"Dame el segundo numero: \"))\n",
    "\n",
    "if a > b:\n",
    "   maximo = a \n",
    "else:\n",
    "   maximo = b\n",
    "\n",
    "print(f\"El maximo es: {maximo}\")\n",
    "\n"
   ]
  },
  {
   "cell_type": "code",
   "execution_count": 14,
   "id": "cd1853bf",
   "metadata": {},
   "outputs": [
    {
     "name": "stdout",
     "output_type": "stream",
     "text": [
      "El maximo es: 30\n"
     ]
    }
   ],
   "source": [
    "#76 \n",
    "a = int(input(\"Dame el primer numero: \"))\n",
    "b = int(input(\"Dame el segundo numero: \"))\n",
    "\n",
    "if a > b:\n",
    "   maximo = a \n",
    "if b > a:\n",
    "   maximo = b\n",
    "\n",
    "print(f\"El maximo es: {maximo}\")\n"
   ]
  },
  {
   "cell_type": "code",
   "execution_count": 16,
   "id": "67718704",
   "metadata": {},
   "outputs": [
    {
     "name": "stdout",
     "output_type": "stream",
     "text": [
      "El maximo es: 1\n"
     ]
    }
   ],
   "source": [
    "#77\n",
    "a = int(input(\"Dame el primer numero: \"))\n",
    "b = int(input(\"Dame el segundo numero: \"))\n",
    "c = int(input(\"Dame el tercer numero: \"))\n",
    "\n",
    "if a > b:\n",
    "   if a > c:\n",
    "      maximo = a\n",
    "   else:\n",
    "      maximo = c\n",
    "else:\n",
    "   if b > c: \n",
    "      maximo = b\n",
    "   else:\n",
    "      maximo = c\n",
    "\n",
    "print(f\"El maximo es: {maximo}\")"
   ]
  },
  {
   "cell_type": "code",
   "execution_count": 1,
   "id": "11df45fe",
   "metadata": {},
   "outputs": [
    {
     "name": "stdout",
     "output_type": "stream",
     "text": [
      "El maximo es: 5\n"
     ]
    }
   ],
   "source": [
    "a = int(input(\"Dame el primer numero: \"))\n",
    "b = int(input(\"Dame el segundo numero: \"))\n",
    "c = int(input(\"Dame el tercer numero: \"))\n",
    "\n",
    "candidato = a\n",
    "if b > candidato:\n",
    "   candidato = b\n",
    "if c > candidato:\n",
    "   candidato = c\n",
    "\n",
    "print(f\"El maximo es: {candidato}\")"
   ]
  },
  {
   "cell_type": "code",
   "execution_count": 3,
   "id": "c6071801",
   "metadata": {},
   "outputs": [
    {
     "name": "stdout",
     "output_type": "stream",
     "text": [
      "10\n"
     ]
    }
   ],
   "source": [
    "#78 Programa que determina el maximo de 5 numeros\n",
    "num1 = int(input(\"Primer Numero: \"))\n",
    "num2 = int(input(\"Segundo Numero: \"))\n",
    "num3 = int(input(\"Tercer Numero: \"))\n",
    "num4 = int(input(\"Cuarto Numero: \"))\n",
    "num5 = int(input(\"Quinto Numero: \"))\n",
    "\n",
    "mayor = num1\n",
    "if num2 > mayor:\n",
    "   mayor = num2\n",
    "if num3 > mayor:\n",
    "   mayor = num3\n",
    "if num4 > mayor:\n",
    "   mayor = num4\n",
    "if num5 > mayor:\n",
    "   mayor = num5\n",
    "\n",
    "print(mayor)\n"
   ]
  },
  {
   "cell_type": "code",
   "execution_count": 9,
   "id": "d7e1127a",
   "metadata": {},
   "outputs": [
    {
     "name": "stdout",
     "output_type": "stream",
     "text": [
      "1\n"
     ]
    }
   ],
   "source": [
    "#79 Programa que deterima el minimo de 5 numeros\n",
    "num1 = int(input(\"Primer Numero: \"))\n",
    "num2 = int(input(\"Segundo Numero: \"))\n",
    "num3 = int(input(\"Tercer Numero: \"))\n",
    "num4 = int(input(\"Cuarto Numero: \"))\n",
    "num5 = int(input(\"Quinto Numero: \"))\n",
    "\n",
    "menor = num1\n",
    "\n",
    "if num2 < menor:\n",
    "   menor = num2\n",
    "if num3 < menor:\n",
    "   menor = num3\n",
    "if num4 < menor:\n",
    "   menor = num4\n",
    "if num5 < menor:\n",
    "   menor = num5\n",
    "\n",
    "print(menor)\n"
   ]
  },
  {
   "cell_type": "code",
   "execution_count": null,
   "id": "4f0f21c8",
   "metadata": {},
   "outputs": [],
   "source": [
    "#80 "
   ]
  }
 ],
 "metadata": {
  "kernelspec": {
   "display_name": "base",
   "language": "python",
   "name": "python3"
  },
  "language_info": {
   "codemirror_mode": {
    "name": "ipython",
    "version": 3
   },
   "file_extension": ".py",
   "mimetype": "text/x-python",
   "name": "python",
   "nbconvert_exporter": "python",
   "pygments_lexer": "ipython3",
   "version": "3.10.9"
  }
 },
 "nbformat": 4,
 "nbformat_minor": 5
}
