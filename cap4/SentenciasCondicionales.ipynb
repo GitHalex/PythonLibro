{
 "cells": [
  {
   "attachments": {},
   "cell_type": "markdown",
   "id": "80cebcc6",
   "metadata": {},
   "source": [
    "# Sentencias Condicionales Anidadas"
   ]
  },
  {
   "cell_type": "code",
   "execution_count": 1,
   "id": "f2d14026",
   "metadata": {},
   "outputs": [
    {
     "name": "stdout",
     "output_type": "stream",
     "text": [
      "Programa para calcular la resolucion de la ecuacion ax + b = 0\n",
      "solucion: -2.0\n"
     ]
    }
   ],
   "source": [
    "#56\n",
    "print(\"Programa para calcular la resolucion de la ecuacion ax + b = 0\")\n",
    "\n",
    "a = float(input(\"Valor de a: \"))\n",
    "b = float(input(\"Valor de b: \"))\n",
    "\n",
    "if a != 0:\n",
    "   x = -b/a\n",
    "   print(f\"solucion: {x}\")\n",
    "\n",
    "if a == 0:\n",
    "   if b != 0:\n",
    "      print(\"La ecuacion no tiene solucion\")\n",
    "   if b == 0:\n",
    "      print(\"La ecuacion tiene infinitas soluciones\")\n",
    "\n"
   ]
  },
  {
   "cell_type": "code",
   "execution_count": 6,
   "id": "8db0ac34",
   "metadata": {},
   "outputs": [
    {
     "name": "stdout",
     "output_type": "stream",
     "text": [
      "El numero es negativo: -4\n"
     ]
    }
   ],
   "source": [
    "#57\n",
    "#Programa que determina si un numero es negativo\n",
    "num = int(input(\"Ingrese un numero: \"))\n",
    "\n",
    "if num < 0:\n",
    "    print(f\"El numero es negativo: {num}\")"
   ]
  },
  {
   "cell_type": "code",
   "execution_count": 1,
   "id": "834d49d6",
   "metadata": {},
   "outputs": [
    {
     "name": "stdout",
     "output_type": "stream",
     "text": [
      "EL numero es positivo: 12.5\n"
     ]
    }
   ],
   "source": [
    "#58\n",
    "#Programa que determina si el numero es positivo\n",
    "num = float(input(\"Ingrese un numero: \"))\n",
    "\n",
    "if num >= 0:\n",
    "   print(f\"EL numero es positivo: {num}\")"
   ]
  },
  {
   "cell_type": "code",
   "execution_count": 5,
   "id": "537ff09d",
   "metadata": {},
   "outputs": [
    {
     "name": "stdout",
     "output_type": "stream",
     "text": [
      "Segunda Persona: 2 es mas joven que la Primera persona: 23\n"
     ]
    }
   ],
   "source": [
    "#59\n",
    "#programa que determina la edad de dos personas\n",
    "per1 = int(input(\"Edad de la Primera Persona: \"))\n",
    "per2 = int(input(\"Edad de la Segunda Persona: \"))\n",
    "\n",
    "if per1 > per2:\n",
    "   print(f\"Segunda Persona: {per2} es mas joven que la Primera persona: {per1}\")\n",
    "if per2 > per1:\n",
    "   print(f\"Primer Persona: {per1} es mas joven que La segunda persona: {per2}\")\n",
    "if (per1 == per2):\n",
    "   print(f\"{per1} == {per2} tienen las mismas edades\")\n"
   ]
  },
  {
   "cell_type": "code",
   "execution_count": 2,
   "id": "aa189ffc",
   "metadata": {},
   "outputs": [
    {
     "name": "stdout",
     "output_type": "stream",
     "text": [
      "a no es un caracter de parentesis\n"
     ]
    }
   ],
   "source": [
    "#60\n",
    "#Pragrama que determina si es un caracter si es parentisis\n",
    "car = input(\"Ingrese un Caracter: \")\n",
    "\n",
    "if car == '(' or car  == ')':\n",
    "  if car == ')':\n",
    "   print(f\"{car} es un caracter de cierre parentesis\")\n",
    "  if car == '(':\n",
    "   print(f\"{car} es un caracter de parentesis abierto: \")\n",
    "else:\n",
    "  print(f\"{car} no es un caracter de parentesis\")"
   ]
  },
  {
   "cell_type": "code",
   "execution_count": 18,
   "id": "49745e26",
   "metadata": {},
   "outputs": [
    {
     "name": "stdout",
     "output_type": "stream",
     "text": [
      "Es de las ultimas del alfabeto \n"
     ]
    }
   ],
   "source": [
    "#61\n",
    "letra = input(\"Dame una letra minuscula: \")\n",
    "\n",
    "if letra <= 'k':\n",
    "   print(\"Es de las primeras del alfabeto\")\n",
    "if letra >= 'l':\n",
    "   print(\"Es de las ultimas del alfabeto \")"
   ]
  },
  {
   "cell_type": "code",
   "execution_count": 6,
   "id": "0133f650",
   "metadata": {},
   "outputs": [
    {
     "name": "stdout",
     "output_type": "stream",
     "text": [
      "El angulo no es valido\n"
     ]
    }
   ],
   "source": [
    "from math import floor #la funcion redondea hacia abajo\n",
    "\n",
    "grados = float(input('Dame un angulo (en grados: ): '))\n",
    "\n",
    "if grados < 0 or grados > 360:\n",
    "   print(\"El angulo no es valido\")\n",
    "else:\n",
    "  cuadrante = floor(grados) % 360 // 90\n",
    "  print(cuadrante)\n",
    "  if cuadrante == 0:\n",
    "    print(\"Primer cuadrante\")\n",
    "  if cuadrante == 1:\n",
    "    print(\"Segundo Cuadrante\")\n",
    "  if cuadrante == 2:\n",
    "    print(\"Tercer cuadrante\")\n",
    "  if cuadrante == 3:\n",
    "    print(\"Cuarte cuadrante\")"
   ]
  },
  {
   "cell_type": "code",
   "execution_count": 7,
   "id": "8d0a9337",
   "metadata": {},
   "outputs": [
    {
     "name": "stdout",
     "output_type": "stream",
     "text": [
      "Primer saludo\n"
     ]
    }
   ],
   "source": [
    "#62\n",
    "if 14 < 120:\n",
    "   print('Primer saludo')\n",
    "if '14' < '120':\n",
    "   print('Segundo saludo')\n"
   ]
  },
  {
   "cell_type": "code",
   "execution_count": 1,
   "id": "23e35535",
   "metadata": {},
   "outputs": [
    {
     "name": "stdout",
     "output_type": "stream",
     "text": [
      "El producto 10 x 10 es igual a 100\n"
     ]
    }
   ],
   "source": [
    "#63\n",
    "n = int(input(\"Dame un numero: \"))\n",
    "m = int(input(\"Dame otro numero: \"))\n",
    "\n",
    "if n*m == 100:\n",
    "   print(f\"El producto {n} x {m} es igual a 100\")\n",
    "if n*m != 100:\n",
    "   print(f\"El producto {n} x {m} es distinto de 100\")"
   ]
  },
  {
   "cell_type": "code",
   "execution_count": 9,
   "id": "ca0df86d",
   "metadata": {},
   "outputs": [
    {
     "name": "stdout",
     "output_type": "stream",
     "text": [
      "El numero es => 3 impar\n"
     ]
    }
   ],
   "source": [
    "#63\n",
    "numero = int(input(\"Ingrese un numero: \"))\n",
    "if numero%2 == 0:\n",
    "   print(f\"El numero => {numero} es par\")\n",
    "if numero%2 != 0:\n",
    "   print(f\"El numero => {numero} impar\")"
   ]
  },
  {
   "cell_type": "code",
   "execution_count": 17,
   "id": "0dcfce4c",
   "metadata": {},
   "outputs": [
    {
     "name": "stdout",
     "output_type": "stream",
     "text": [
      "22 es el doble de 11, que es impar\n"
     ]
    }
   ],
   "source": [
    "#64\n",
    "#Programa que determina si un numero es el doble del otro\n",
    "\n",
    "num_entero = int(input(\"Ingrese un numero entero: \"))\n",
    "mitad = num_entero//2\n",
    "\n",
    "if mitad % 2 != 0:\n",
    "   print(f\"{num_entero} es el doble de {int(mitad)}, que es impar\")"
   ]
  },
  {
   "cell_type": "code",
   "execution_count": 7,
   "id": "761e8d5a",
   "metadata": {},
   "outputs": [
    {
     "name": "stdout",
     "output_type": "stream",
     "text": [
      "El segundo numero : 4 es el cuadrado del primero 2**2 = 4\n"
     ]
    }
   ],
   "source": [
    "#65\n",
    "primero = int(input(\"Ingrese el primer numero: \"))\n",
    "segundo = int(input(\"Ingrese el segundo numero: \"))\n",
    "\n",
    "if segundo == primero*primero:\n",
    "   print(f\"El segundo numero : {segundo} es el cuadrado del primero {primero}**2 = {primero*primero}\")\n",
    "if segundo > primero*primero:\n",
    "   print(f\"El segundo numero {segundo} es mayor que el cuadrado del primero {primero}**2 = {primero*primero}\")\n",
    "if segundo < primero*primero:\n",
    "   print(f\"El segundo numero {segundo} es menor que el cuadrado del primero {primero}**2 = {primero*primero}\")"
   ]
  },
  {
   "cell_type": "code",
   "execution_count": 8,
   "id": "b38e6082",
   "metadata": {},
   "outputs": [
    {
     "name": "stdout",
     "output_type": "stream",
     "text": [
      "11025.0 Euros\n"
     ]
    }
   ],
   "source": [
    "#66\n",
    "#Programa que determina el interes anual de un capital en n años\n",
    "capital = int(input(\"Ingrese la capital: \"))\n",
    "year = int(input(\"Ingrese los años: \"))\n",
    "interes = float(input(\"Ingrese la tasa de interes: \"))\n",
    "\n",
    "if capital > 0:\n",
    "   print(f\"{capital*(1+interes/100)**year} Euros\")"
   ]
  },
  {
   "cell_type": "code",
   "execution_count": 18,
   "id": "1f9aa241",
   "metadata": {},
   "outputs": [
    {
     "name": "stdout",
     "output_type": "stream",
     "text": [
      "monto ingresado 645.0\n",
      "1 billetes de 500 euros\n",
      "1 billetes de 100 euros\n",
      "2 billetes de 20 euros\n",
      "1 billetes de 5 euros\n"
     ]
    }
   ],
   "source": [
    "#67\n",
    "monto = float(input(\"Ingrese el fardo de billetes: \"))\n",
    "print(f\"monto ingresado {monto}\")\n",
    "\n",
    "if monto >= 500:\n",
    "   billetes = monto//500\n",
    "   monto %= 500\n",
    "   print(f\"{int(billetes)} billetes de 500 euros\")\n",
    "if monto >= 200:\n",
    "   billetes = monto//200\n",
    "   monto %= 200\n",
    "   print(f\"{int(billetes)} billetes de 200 euros\")\n",
    "if monto >= 100:\n",
    "   billetes = monto//100\n",
    "   monto %= 100\n",
    "   print(f\"{int(billetes)} billetes de 100 euros\")\n",
    "if monto >= 50:\n",
    "   billetes = monto//50\n",
    "   monto %= 50\n",
    "   print(f\"{int(billetes)} billetes de 50 euros\")\n",
    "if monto >= 20:\n",
    "   billetes = monto//20\n",
    "   monto %= 20\n",
    "   print(f\"{int(billetes)} billetes de 20 euros\")\n",
    "if monto >= 10:\n",
    "   billetes = monto//10\n",
    "   monto %= 10\n",
    "   print(f\"{int(billetes)} billetes de 10 euros\")\n",
    "if monto >= 5:\n",
    "   billetes = monto//5\n",
    "   monto %= 5\n",
    "   print(f\"{int(billetes)} billetes de 5 euros\")\n",
    "if monto >= 2:\n",
    "   billetes = monto//2\n",
    "   monto %= 2\n",
    "   print(f\"{int(billetes)} modenas de 2 monedas\")\n",
    "if monto >= 1:\n",
    "   billetes = monto//1\n",
    "   monto %= 1\n",
    "   print(f\"{int(billetes)} monedas de 1 monedas\")\n",
    " "
   ]
  },
  {
   "attachments": {},
   "cell_type": "markdown",
   "id": "47fd6b41",
   "metadata": {},
   "source": [
    "# 4.1.5 En caso contrario ELSE"
   ]
  },
  {
   "cell_type": "code",
   "execution_count": 1,
   "id": "9eeaf731",
   "metadata": {},
   "outputs": [
    {
     "name": "stdout",
     "output_type": "stream",
     "text": [
      "Programa para la resolucion de la ecuacion a x*x + b*x + c = 0\n"
     ]
    },
    {
     "ename": "ValueError",
     "evalue": "math domain error",
     "output_type": "error",
     "traceback": [
      "\u001b[0;31m---------------------------------------------------------------------------\u001b[0m",
      "\u001b[0;31mValueError\u001b[0m                                Traceback (most recent call last)",
      "Cell \u001b[0;32mIn[1], line 20\u001b[0m\n\u001b[1;32m     18\u001b[0m       \u001b[38;5;28mprint\u001b[39m(\u001b[38;5;124mf\u001b[39m\u001b[38;5;124m\"\u001b[39m\u001b[38;5;124mSolucion x=\u001b[39m\u001b[38;5;132;01m{\u001b[39;00mx\u001b[38;5;132;01m}\u001b[39;00m\u001b[38;5;124m\"\u001b[39m)\n\u001b[1;32m     19\u001b[0m \u001b[38;5;28;01melse\u001b[39;00m:\n\u001b[0;32m---> 20\u001b[0m    x1 \u001b[38;5;241m=\u001b[39m (\u001b[38;5;241m-\u001b[39mb\u001b[38;5;241m+\u001b[39m\u001b[43msqrt\u001b[49m\u001b[43m(\u001b[49m\u001b[43mb\u001b[49m\u001b[38;5;241;43m*\u001b[39;49m\u001b[38;5;241;43m*\u001b[39;49m\u001b[38;5;241;43m2\u001b[39;49m\u001b[38;5;241;43m-\u001b[39;49m\u001b[38;5;241;43m4\u001b[39;49m\u001b[38;5;241;43m*\u001b[39;49m\u001b[43ma\u001b[49m\u001b[38;5;241;43m*\u001b[39;49m\u001b[43mc\u001b[49m\u001b[43m)\u001b[49m) \u001b[38;5;241m/\u001b[39m (\u001b[38;5;241m2\u001b[39m\u001b[38;5;241m*\u001b[39ma)\n\u001b[1;32m     21\u001b[0m    x2 \u001b[38;5;241m=\u001b[39m (\u001b[38;5;241m-\u001b[39mb\u001b[38;5;241m-\u001b[39msqrt(b\u001b[38;5;241m*\u001b[39m\u001b[38;5;241m*\u001b[39m\u001b[38;5;241m2\u001b[39m\u001b[38;5;241m-\u001b[39m\u001b[38;5;241m4\u001b[39m\u001b[38;5;241m*\u001b[39ma\u001b[38;5;241m*\u001b[39mc)) \u001b[38;5;241m/\u001b[39m (\u001b[38;5;241m2\u001b[39m\u001b[38;5;241m*\u001b[39ma)\n\u001b[1;32m     22\u001b[0m    \u001b[38;5;28mprint\u001b[39m(\u001b[38;5;124mf\u001b[39m\u001b[38;5;124m\"\u001b[39m\u001b[38;5;124mSoluciones x1 = \u001b[39m\u001b[38;5;132;01m{\u001b[39;00mx1\u001b[38;5;132;01m}\u001b[39;00m\u001b[38;5;124m ----- x2 = \u001b[39m\u001b[38;5;132;01m{\u001b[39;00mx2\u001b[38;5;132;01m}\u001b[39;00m\u001b[38;5;124m\"\u001b[39m)\n",
      "\u001b[0;31mValueError\u001b[0m: math domain error"
     ]
    }
   ],
   "source": [
    "#68\n",
    "from math import sqrt #la funcion sqrt calcula la raiz cuadrada de un numero\n",
    "\n",
    "print(\"Programa para la resolucion de la ecuacion a x*x + b*x + c = 0\")\n",
    "\n",
    "a = float(input(\"Valor de a: \"))\n",
    "b = float(input(\"Valor de b: \"))\n",
    "c = float(input(\"Valor de c: \"))\n",
    "\n",
    "if a == 0:\n",
    "   if b == 0:\n",
    "      if c == 0:\n",
    "         print(\"La ecuacion tiene infinitas soluciones\")\n",
    "      else:\n",
    "         print(\"La ecuacion no tiene solucion\")\n",
    "   else:\n",
    "      x = -c/b\n",
    "      print(f\"Solucion x={x}\")\n",
    "else:\n",
    "   x1 = (-b+sqrt(b**2-4*a*c)) / (2*a)\n",
    "   x2 = (-b-sqrt(b**2-4*a*c)) / (2*a)\n",
    "   print(f\"Soluciones x1 = {x1} ----- x2 = {x2}\")\n"
   ]
  },
  {
   "cell_type": "code",
   "execution_count": 3,
   "id": "d63def84",
   "metadata": {},
   "outputs": [
    {
     "name": "stdout",
     "output_type": "stream",
     "text": [
      "Programa para la resolucion de la ecuacion a x*x + b*x + c = 0\n",
      "Soluciones x1=-1.0 ----- x2=-2.0\n"
     ]
    }
   ],
   "source": [
    "#69\n",
    "from math import sqrt\n",
    "\n",
    "print(\"Programa para la resolucion de la ecuacion a x*x + b*x + c = 0\")\n",
    "\n",
    "a = float(input(\"Valor de a: \"))\n",
    "b = float(input(\"Valor de b: \"))\n",
    "c = float(input(\"Valor de c: \"))\n",
    "\n",
    "if a == 0 and b == 0 and c == 0:\n",
    "   print(\"La ecuacion tiene infinitas soluciones\")\n",
    "else:\n",
    "   if a == 0 and b == 0:\n",
    "      print(\"La ecuaciones no tiene solucion\")\n",
    "   else:\n",
    "      if a == 0:\n",
    "         x = -c/b\n",
    "      else:\n",
    "         x1 = (-b+sqrt(b**2-4*a*c)) / (2*a)\n",
    "         x2 = (-b-sqrt(b**2-4*a*c)) / (2*a)\n",
    "         print(f\"Soluciones x1={x1} ----- x2={x2}\")"
   ]
  },
  {
   "cell_type": "code",
   "execution_count": 3,
   "id": "3ff79283",
   "metadata": {},
   "outputs": [
    {
     "name": "stdout",
     "output_type": "stream",
     "text": [
      "w minuscula\n"
     ]
    }
   ],
   "source": [
    "#70 71 72 Programa que determina si un caracter esta en Mayuscula y Minuscula\n",
    "car = input(\"Ingrese un caracter alfabetico: \")\n",
    "if car.isnumeric():\n",
    "   print(f\"{car} este caracter es numerico\")\n",
    "else:\n",
    "   if car.isalpha():\n",
    "      if car == car.lower():\n",
    "         print(f\"{car} minuscula\")\n",
    "      else:\n",
    "         print(f\"{car} MAYUSCULA\")\n",
    "   else:\n",
    "      print(f\"{car} Me pusiste cualquier webada\")"
   ]
  },
  {
   "cell_type": "code",
   "execution_count": 2,
   "id": "86b7d2ad",
   "metadata": {},
   "outputs": [
    {
     "name": "stdout",
     "output_type": "stream",
     "text": [
      "El segundo numero : 4 es el cuadrado del primero 2**2 = 4\n"
     ]
    }
   ],
   "source": [
    "#73 \n",
    "primero = int(input(\"Ingrese el primer numero: \"))\n",
    "segundo = int(input(\"Ingrese el segundo numero: \"))\n",
    "if segundo == primero*primero:\n",
    "   print(f\"El segundo numero : {segundo} es el cuadrado del primero {primero}**2 = {primero*primero}\")\n",
    "else:\n",
    "   if segundo > primero*primero:\n",
    "      print(f\"El segundo numero {segundo} es mayor que el cuadrado del primero {primero}**2 = {primero*primero}\")\n",
    "   else:\n",
    "      print(f\"El segundo numero {segundo} es menor que el cuadrado del primero {primero}**2 = {primero*primero}\")"
   ]
  },
  {
   "cell_type": "code",
   "execution_count": 6,
   "id": "2052e0e6",
   "metadata": {},
   "outputs": [
    {
     "name": "stdout",
     "output_type": "stream",
     "text": [
      "Programa para la resolucion de la ecuacion a*x*x + b*x + c = 0\n",
      "Soluciones x1=1.0  -------- x2=1.0\n"
     ]
    }
   ],
   "source": [
    "#74\n",
    "from math import sqrt\n",
    "\n",
    "print(\"Programa para la resolucion de la ecuacion a*x*x + b*x + c = 0\")\n",
    "\n",
    "a = float(input(\"Valor de a: \"))\n",
    "b = float(input(\"Valor de b: \"))\n",
    "c = float(input(\"Valor de c: \"))\n",
    "\n",
    "if a != 0: \n",
    "   if b**2 -4*a*c >= 0:\n",
    "      x1 = (-b + sqrt(b**2 -4*a*c))/(2*a)\n",
    "      x2 = (-b - sqrt(b**2 -4*a*c))/(2*a)\n",
    "      print(f\"Soluciones x1={x1}  -------- x2={x2}\")\n",
    "   else:\n",
    "      print(\"No hay soluciones reales\")\n",
    "else:\n",
    "   if b != 0:\n",
    "      x = -c / b\n",
    "      print(f\"Solucion x={x}\")\n",
    "   else:\n",
    "      if c != 0:\n",
    "         print(\"La ecuacion no tiene solucion\")\n",
    "      else:\n",
    "         print(\"La ecuaciones no tienen soluciones\")"
   ]
  },
  {
   "cell_type": "code",
   "execution_count": 5,
   "id": "abc0c067",
   "metadata": {},
   "outputs": [
    {
     "name": "stdout",
     "output_type": "stream",
     "text": [
      "El maximo es: 9\n"
     ]
    }
   ],
   "source": [
    "#75 Programa que determina el numero maximo de dos numeros\n",
    "a = int(input(\"Dame el primer numero: \"))\n",
    "b = int(input(\"Dame el segundo numero: \"))\n",
    "\n",
    "if a > b:\n",
    "   maximo = a \n",
    "else:\n",
    "   maximo = b\n",
    "\n",
    "print(f\"El maximo es: {maximo}\")\n",
    "\n"
   ]
  },
  {
   "cell_type": "code",
   "execution_count": 14,
   "id": "cd1853bf",
   "metadata": {},
   "outputs": [
    {
     "name": "stdout",
     "output_type": "stream",
     "text": [
      "El maximo es: 30\n"
     ]
    }
   ],
   "source": [
    "#76 \n",
    "a = int(input(\"Dame el primer numero: \"))\n",
    "b = int(input(\"Dame el segundo numero: \"))\n",
    "\n",
    "if a > b:\n",
    "   maximo = a \n",
    "if b > a:\n",
    "   maximo = b\n",
    "\n",
    "print(f\"El maximo es: {maximo}\")\n"
   ]
  },
  {
   "cell_type": "code",
   "execution_count": 16,
   "id": "67718704",
   "metadata": {},
   "outputs": [
    {
     "name": "stdout",
     "output_type": "stream",
     "text": [
      "El maximo es: 1\n"
     ]
    }
   ],
   "source": [
    "#77\n",
    "a = int(input(\"Dame el primer numero: \"))\n",
    "b = int(input(\"Dame el segundo numero: \"))\n",
    "c = int(input(\"Dame el tercer numero: \"))\n",
    "\n",
    "if a > b:\n",
    "   if a > c:\n",
    "      maximo = a\n",
    "   else:\n",
    "      maximo = c\n",
    "else:\n",
    "   if b > c: \n",
    "      maximo = b\n",
    "   else:\n",
    "      maximo = c\n",
    "\n",
    "print(f\"El maximo es: {maximo}\")"
   ]
  },
  {
   "cell_type": "code",
   "execution_count": 1,
   "id": "11df45fe",
   "metadata": {},
   "outputs": [
    {
     "name": "stdout",
     "output_type": "stream",
     "text": [
      "El maximo es: 5\n"
     ]
    }
   ],
   "source": [
    "a = int(input(\"Dame el primer numero: \"))\n",
    "b = int(input(\"Dame el segundo numero: \"))\n",
    "c = int(input(\"Dame el tercer numero: \"))\n",
    "\n",
    "candidato = a\n",
    "if b > candidato:\n",
    "   candidato = b\n",
    "if c > candidato:\n",
    "   candidato = c\n",
    "\n",
    "print(f\"El maximo es: {candidato}\")"
   ]
  },
  {
   "cell_type": "code",
   "execution_count": 3,
   "id": "c6071801",
   "metadata": {},
   "outputs": [
    {
     "name": "stdout",
     "output_type": "stream",
     "text": [
      "10\n"
     ]
    }
   ],
   "source": [
    "#78 Programa que determina el maximo de 5 numeros\n",
    "num1 = int(input(\"Primer Numero: \"))\n",
    "num2 = int(input(\"Segundo Numero: \"))\n",
    "num3 = int(input(\"Tercer Numero: \"))\n",
    "num4 = int(input(\"Cuarto Numero: \"))\n",
    "num5 = int(input(\"Quinto Numero: \"))\n",
    "\n",
    "mayor = num1\n",
    "if num2 > mayor:\n",
    "   mayor = num2\n",
    "if num3 > mayor:\n",
    "   mayor = num3\n",
    "if num4 > mayor:\n",
    "   mayor = num4\n",
    "if num5 > mayor:\n",
    "   mayor = num5\n",
    "\n",
    "print(mayor)\n"
   ]
  },
  {
   "cell_type": "code",
   "execution_count": 6,
   "id": "d7e1127a",
   "metadata": {},
   "outputs": [
    {
     "name": "stdout",
     "output_type": "stream",
     "text": [
      "-5\n"
     ]
    }
   ],
   "source": [
    "#79 Programa que deterima el minimo de 5 numeros\n",
    "num1 = int(input(\"Primer Numero: \"))\n",
    "num2 = int(input(\"Segundo Numero: \"))\n",
    "num3 = int(input(\"Tercer Numero: \"))\n",
    "num4 = int(input(\"Cuarto Numero: \"))\n",
    "num5 = int(input(\"Quinto Numero: \"))\n",
    "\n",
    "menor = num1\n",
    "\n",
    "if num2 < menor:\n",
    "   menor = num2\n",
    "if num3 < menor:\n",
    "   menor = num3\n",
    "if num4 < menor:\n",
    "   menor = num4\n",
    "if num5 < menor:\n",
    "   menor = num5\n",
    "\n",
    "print(menor)\n"
   ]
  },
  {
   "cell_type": "code",
   "execution_count": 7,
   "id": "4f0f21c8",
   "metadata": {},
   "outputs": [
    {
     "name": "stdout",
     "output_type": "stream",
     "text": [
      "Primer caracter: A\n",
      "Segundo caracter: B\n",
      "Tercer caracter: C\n",
      "Cuarto caracter: D\n",
      "Quinto caracter: E\n",
      "A\n"
     ]
    }
   ],
   "source": [
    "#80 Programa que calcula el menor de 5 letras\n",
    "\n",
    "pal1 = input(\"Ingrese la primera palabra: \")\n",
    "print(f\"Primer caracter: {pal1}\")\n",
    "pal2 = input(\"Ingrese la segunda palabra: \")\n",
    "print(f\"Segundo caracter: {pal2}\")\n",
    "pal3 = input(\"Ingrese la tercera palabra: \")\n",
    "print(f\"Tercer caracter: {pal3}\")\n",
    "pal4 = input(\"Ingrese la cuarta palabra: \")\n",
    "print(f\"Cuarto caracter: {pal4}\")\n",
    "pal5 = input(\"Ingrese la quinta palabra: \")\n",
    "print(f\"Quinto caracter: {pal5}\")\n",
    "\n",
    "menor = pal1\n",
    "if pal2 < menor:\n",
    "   menor = pal2\n",
    "if pal3 < menor:\n",
    "   menor = pal3\n",
    "if pal4 < menor:\n",
    "   menor = pal4\n",
    "if pal5 < menor:\n",
    "   menor = pal5\n",
    "\n",
    "print(menor)\n"
   ]
  },
  {
   "cell_type": "code",
   "execution_count": 4,
   "id": "44277655",
   "metadata": {},
   "outputs": [
    {
     "name": "stdout",
     "output_type": "stream",
     "text": [
      "El numero mas cercano es 10 es 11\n"
     ]
    }
   ],
   "source": [
    "#81 Programa que determina el numero mas cercano al primer numero de cinco numeros dados\n",
    "num_1 = int(input(\"primer numero: \"))\n",
    "num_2 = int(input(\"segundo numero: \"))\n",
    "num_3 = int(input(\"tercer numero: \"))\n",
    "num_4 = int(input(\"cuarto numero: \"))\n",
    "num_5 = int(input(\"quinto numero: \"))\n",
    "\n",
    "res1 = abs(num_1 - num_2)\n",
    "res2 = abs(num_1 - num_3)\n",
    "res3 = abs(num_1 - num_4)\n",
    "res4 = abs(num_1 - num_5)\n",
    "\n",
    "candidato = res1\n",
    "numero = num_2\n",
    "\n",
    "if res2 < candidato:\n",
    "   candidato = res2\n",
    "   numero = num_3\n",
    "if res3 < candidato:\n",
    "   candidato = res3\n",
    "   numero = num_4\n",
    "if res4 < candidato:\n",
    "   candidato = res4\n",
    "   numero = num_5\n",
    "\n",
    "print(f\"El numero mas cercano es {num_1} es {numero}\")\n",
    "\n"
   ]
  },
  {
   "cell_type": "code",
   "execution_count": 6,
   "id": "3aff90b8",
   "metadata": {},
   "outputs": [
    {
     "name": "stdout",
     "output_type": "stream",
     "text": [
      "Primer punto 8.48528137423857\n",
      "Segundo punto 1.4142135623730951\n",
      "Tercer punto 4.242640687119285\n",
      "Cuarto punto 22.627416997969522\n",
      "El punto mas cercano a 4--4 es el punto 3--3\n"
     ]
    }
   ],
   "source": [
    "#82 Programa que dados cinco puntos en el plano determine cual de los cuatro ultimos puntos es el mas cercano\n",
    "from math import sqrt\n",
    "x1 = int(input(\"valor x1: \"))\n",
    "y1 = int(input(\"valor y1: \"))\n",
    "\n",
    "x2 = int(input(\"valor x2: \"))\n",
    "y2 = int(input(\"valor y2: \"))\n",
    "\n",
    "x3 = int(input(\"valor x3: \"))\n",
    "y3 = int(input(\"valor y3: \"))\n",
    "\n",
    "x4 = int(input(\"valor x4: \"))\n",
    "y4 = int(input(\"valor y4: \"))\n",
    "\n",
    "x5 = int(input(\"valor x5: \"))\n",
    "y5 = int(input(\"valor y5: \"))\n",
    "\n",
    "primer_punto = sqrt(abs((x1-x2)**2 + (y1-y2)**2))\n",
    "print(f\"Primer punto {primer_punto}\")\n",
    "segundo_punto = sqrt(abs((x1-x3)**2 + (y1-y3)**2))\n",
    "print(f\"Segundo punto {segundo_punto}\")\n",
    "tercer_punto = sqrt(abs((x1-x4)**2 + (y1-y4)**2))\n",
    "print(f\"Tercer punto {tercer_punto}\")\n",
    "cuarto_punto = sqrt(abs((x1-x5)**2 + (y1-y5)**2))\n",
    "print(f\"Cuarto punto {cuarto_punto}\")\n",
    "\n",
    "punto_candidato = primer_punto\n",
    "punto = f\"{x2}--{y3}\"\n",
    "\n",
    "if segundo_punto < punto_candidato:\n",
    "   punto_candidato = segundo_punto\n",
    "   punto = f\"{x3}--{y3}\"\n",
    "if tercer_punto < punto_candidato:\n",
    "   punto_candidato = tercer_punto\n",
    "   punto = f\"{x4}--{y4}\"\n",
    "if cuarto_punto < punto_candidato:\n",
    "   punto_candidato = cuarto_punto\n",
    "   punto = f\"{x5}--{y5}\"\n",
    "\n",
    "print(f\"El punto mas cercano a {x1}--{y1} es el punto {punto}\")"
   ]
  },
  {
   "cell_type": "code",
   "execution_count": 5,
   "id": "58fb2359",
   "metadata": {},
   "outputs": [
    {
     "name": "stdout",
     "output_type": "stream",
     "text": [
      "Puedes aparcar en el lado derecho de la calle\n"
     ]
    }
   ],
   "source": [
    "#83 programas para mostrar vistas\n",
    "dia = int(input(\"Dime que dia es hoy: \"))\n",
    "\n",
    "if 0 < dia <= 15:\n",
    "   print(\"Puedes aparcar en el lado izquierdo de la calle\")\n",
    "else:\n",
    "   if dia < 32:\n",
    "      print(\"Puedes aparcar en el lado derecho de la calle\")\n",
    "   else:\n",
    "      print(\"Ningun mes tiene {dia} dias\")"
   ]
  },
  {
   "cell_type": "code",
   "execution_count": 15,
   "id": "ff37fa09",
   "metadata": {},
   "outputs": [
    {
     "name": "stdout",
     "output_type": "stream",
     "text": [
      "Ningun año tiene -2 meses\n"
     ]
    }
   ],
   "source": [
    "mes = int(input(\"Dame un mes: \"))\n",
    "\n",
    "if 1 <= mes <= 3:\n",
    "   print(\"Invierno\")\n",
    "else:\n",
    "   if mes == 4 or mes == 5 or mes == 6:\n",
    "      print(\"Primera\")\n",
    "   else:\n",
    "      if not (mes < 7 or 9 < mes):\n",
    "         print(\"Verano\")\n",
    "      else:\n",
    "         if not (mes != 10 and mes != 11 and mes != 12):\n",
    "            print(\"Otoño\")\n",
    "         else:\n",
    "            print(f\"Ningun año tiene {mes} meses\")"
   ]
  },
  {
   "cell_type": "code",
   "execution_count": 16,
   "id": "6e1f7523",
   "metadata": {},
   "outputs": [
    {
     "name": "stdout",
     "output_type": "stream",
     "text": [
      "Este caracter es valido en un identificador em Python 3\n"
     ]
    }
   ],
   "source": [
    "car = input(\"Dame un caracter: \")\n",
    "if 'a' <= car.lower() or car <= 'z' or car == \"_\":\n",
    "   print(\"Este caracter es valido en un identificador em Python 3\")\n",
    "else:\n",
    "   if not (car < '0' or '9' < car):\n",
    "      print(f\"un digito no es valido en un identificar \", end=\"\")\n",
    "      print(\"siempre que no sea el primer caracter\")\n",
    "   else:\n",
    "      print(\"Caracter no valido para formar un identificador en python3\")\n",
    "\n"
   ]
  },
  {
   "cell_type": "code",
   "execution_count": 19,
   "id": "482d0e5b",
   "metadata": {},
   "outputs": [
    {
     "name": "stdout",
     "output_type": "stream",
     "text": [
      "El año 2444 es biciesto\n"
     ]
    }
   ],
   "source": [
    "year = int(input(\"Dame un año: \"))\n",
    "\n",
    "if year % 4 == 0 and (year % 100 != 0 or year % 400 == 0):\n",
    "   print(f\"El año {year} es biciesto\")\n",
    "else:\n",
    "   print(f\"El año {year} no es biciesto\")\n"
   ]
  },
  {
   "cell_type": "code",
   "execution_count": 9,
   "id": "af67f00d",
   "metadata": {},
   "outputs": [
    {
     "name": "stdout",
     "output_type": "stream",
     "text": [
      "Nota: -3.0    Suspenso\n"
     ]
    }
   ],
   "source": [
    "#85 Programa que dado un numero que representa la nota de un estudiante\n",
    "nota = float(input(\"Ingrese una nota: \"))\n",
    "\n",
    "if nota < 5:\n",
    "   print(f\"Nota: {nota}    Suspenso\")\n",
    "if nota >= 5 and nota < 7:\n",
    "   print(f\"Nota: {nota}    Aprobados\")\n",
    "if nota >= 7 and nota < 9:\n",
    "   print(f\"Nota: {nota}    Notables\")\n",
    "if nota >= 9 and nota < 10:\n",
    "   print(f\"Nota: {nota}    Sobresalientes\")\n",
    "if nota == 10:\n",
    "   print(f\"Nota: {nota}    Matricula de Honor\")"
   ]
  },
  {
   "cell_type": "code",
   "execution_count": 11,
   "id": "6f961729",
   "metadata": {},
   "outputs": [
    {
     "name": "stdout",
     "output_type": "stream",
     "text": [
      "A es MAYUSCULA\n"
     ]
    }
   ],
   "source": [
    "#86 Programa que determina si un caracter es minuscula o Mayuscula\n",
    "vocal = input(\"Ingrese una vocal: a,e,i,o,u\")\n",
    "if vocal == \"a\" or vocal == 'e' or vocal == \"i\" or vocal == \"o\" or vocal == \"u\":\n",
    "   print(f\"{vocal} es minuscula\")\n",
    "if vocal == \"A\" or vocal == 'E' or vocal == \"I\" or vocal == \"O\" or vocal == \"U\":\n",
    "   print(f\"{vocal} es MAYUSCULA\")"
   ]
  },
  {
   "cell_type": "code",
   "execution_count": 15,
   "id": "7245453f",
   "metadata": {},
   "outputs": [
    {
     "name": "stdout",
     "output_type": "stream",
     "text": [
      "Escoge una opcion: \n",
      "a) Calcular el diametro\n",
      "b) Calcular el perimetro\n",
      "c) Calcular el area\n",
      "Solo hay tres opciones a, b, c\n",
      "Tu has tecleado y\n"
     ]
    }
   ],
   "source": [
    "#90 Programa de mune para seleccionar el diametro, perimtro o area del circulo\n",
    "from math import pi\n",
    "\n",
    "radio = float(input(\"Dame el radio de un circulo: \"))\n",
    "\n",
    "#Menu\n",
    "print(\"Escoge una opcion: \")\n",
    "print(\"a) Calcular el diametro\")\n",
    "print(\"b) Calcular el perimetro\")\n",
    "print(\"c) Calcular el area\")\n",
    "\n",
    "opcion = input(\"Teclea a, b ,c y pulsa el retorno de carro: \")\n",
    "\n",
    "if opcion == 'a' or opcion == \"A\":\n",
    "   diametro = 2*radio\n",
    "   print(f\"El diametro es {diametro}\")\n",
    "elif opcion == 'b' or opcion == 'B':\n",
    "   perimetro = 2*pi*radio\n",
    "   print(f\"El perimetro es {perimetro}\")\n",
    "elif opcion == 'c' or opcion == \"C\":\n",
    "   area = pi*radio**2\n",
    "   print(f\"El area es {area}\")\n",
    "else:\n",
    "   print(\"Solo hay tres opciones a, b, c\")\n",
    "   print(f\"Tu has tecleado {opcion}\")"
   ]
  }
 ],
 "metadata": {
  "kernelspec": {
   "display_name": "base",
   "language": "python",
   "name": "python3"
  },
  "language_info": {
   "codemirror_mode": {
    "name": "ipython",
    "version": 3
   },
   "file_extension": ".py",
   "mimetype": "text/x-python",
   "name": "python",
   "nbconvert_exporter": "python",
   "pygments_lexer": "ipython3",
   "version": "3.10.9"
  }
 },
 "nbformat": 4,
 "nbformat_minor": 5
}
