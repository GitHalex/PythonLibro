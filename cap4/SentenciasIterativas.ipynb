{
 "cells": [
  {
   "cell_type": "code",
   "execution_count": 2,
   "id": "a480f13f",
   "metadata": {},
   "outputs": [
    {
     "name": "stdout",
     "output_type": "stream",
     "text": [
      "Salio\n"
     ]
    }
   ],
   "source": [
    "#98 Programa de repitacion dada un inicio y limite\n",
    "i = int(input(\"Valor inicial: \"))\n",
    "limite = int(input(\"Limite: \"))\n",
    "while i < limite:\n",
    "   print(i)\n",
    "   i += 1\n",
    "print(\"Salio\")"
   ]
  },
  {
   "cell_type": "code",
   "execution_count": 6,
   "id": "0af3fdd4",
   "metadata": {},
   "outputs": [
    {
     "name": "stdout",
     "output_type": "stream",
     "text": [
      "1\n",
      "2\n",
      "3\n",
      "4\n",
      "5\n",
      "6\n",
      "7\n",
      "8\n",
      "9\n",
      "10\n"
     ]
    }
   ],
   "source": [
    "#99 Programa que determine el inicio y limite de los valores y dado tambien un incremento\n",
    "i = int(input(\"Valor inicial: \"))\n",
    "limite = int(input(\"Limite: \"))\n",
    "incremento = int(input(\"Incremento: \"))\n",
    "while i <= limite:\n",
    "   print(i)\n",
    "   i += incremento"
   ]
  },
  {
   "cell_type": "code",
   "execution_count": 8,
   "id": "8ed7fa1c",
   "metadata": {},
   "outputs": [
    {
     "name": "stdout",
     "output_type": "stream",
     "text": [
      "6\n",
      "12\n",
      "18\n",
      "24\n",
      "30\n",
      "36\n",
      "42\n",
      "48\n",
      "54\n",
      "60\n",
      "66\n",
      "72\n",
      "78\n",
      "84\n",
      "90\n",
      "96\n",
      "102\n",
      "108\n",
      "114\n",
      "120\n",
      "126\n",
      "132\n",
      "138\n",
      "144\n",
      "150\n"
     ]
    }
   ],
   "source": [
    "#100 Programa que muestra los numeros multiplos de 6 desde el 6 hasta el 150 inclusive\n",
    "i = 6\n",
    "final = 150\n",
    "while i <= 150:\n",
    "   if i % 6 == 0:\n",
    "      print(i)\n",
    "   i += 1"
   ]
  },
  {
   "cell_type": "code",
   "execution_count": 10,
   "id": "0167a1b6",
   "metadata": {},
   "outputs": [
    {
     "name": "stdout",
     "output_type": "stream",
     "text": [
      "10\n"
     ]
    }
   ],
   "source": [
    "#101 Programa que dado n, m mostrar los multiplos de n entre n y m inclusive\n",
    "n = int(input(\"Valor de n: \"))\n",
    "m = int(input(\"Valor de m: \"))\n",
    "while n <= m:\n",
    "   if n % n == 0 and n % m == 0:\n",
    "      print(n)\n",
    "   n += 1"
   ]
  },
  {
   "cell_type": "code",
   "execution_count": 11,
   "id": "4737c9d4",
   "metadata": {},
   "outputs": [
    {
     "name": "stdout",
     "output_type": "stream",
     "text": [
      "2^0 = 1\n",
      "2^1 = 2\n",
      "2^2 = 4\n",
      "2^3 = 8\n",
      "2^4 = 16\n",
      "2^5 = 32\n",
      "2^6 = 64\n",
      "2^7 = 128\n",
      "2^8 = 256\n",
      "2^9 = 512\n",
      "2^10 = 1024\n",
      "2^11 = 2048\n",
      "2^12 = 4096\n",
      "2^13 = 8192\n",
      "2^14 = 16384\n",
      "2^15 = 32768\n",
      "2^16 = 65536\n",
      "2^17 = 131072\n",
      "2^18 = 262144\n",
      "2^19 = 524288\n",
      "2^20 = 1048576\n",
      "2^21 = 2097152\n",
      "2^22 = 4194304\n",
      "2^23 = 8388608\n",
      "2^24 = 16777216\n",
      "2^25 = 33554432\n",
      "2^26 = 67108864\n",
      "2^27 = 134217728\n",
      "2^28 = 268435456\n",
      "2^29 = 536870912\n",
      "2^30 = 1073741824\n"
     ]
    }
   ],
   "source": [
    "#102 program que muestra todos los numeros potencia de 2 entre 2⁰ y 2³0, ambos inclusive\n",
    "exponente = 0\n",
    "while exponente <= 30:\n",
    "   print(f\"2^{exponente} = {2**exponente}\")\n",
    "   exponente += 1\n"
   ]
  },
  {
   "cell_type": "code",
   "execution_count": 3,
   "id": "5d1fb695",
   "metadata": {},
   "outputs": [
    {
     "name": "stdout",
     "output_type": "stream",
     "text": [
      "5050\n"
     ]
    }
   ],
   "source": [
    "sumatorio = 0\n",
    "i = 1\n",
    "while i <= 100:\n",
    "   sumatorio += i\n",
    "   i += 1\n",
    "\n",
    "print(sumatorio)"
   ]
  },
  {
   "cell_type": "code",
   "execution_count": 4,
   "id": "50ba5707",
   "metadata": {},
   "outputs": [
    {
     "name": "stdout",
     "output_type": "stream",
     "text": [
      "5050\n"
     ]
    }
   ],
   "source": [
    "#103 programa qu va a comparar con el anterior codigo si votan el mismo resultado\n",
    "sumatorio = 0\n",
    "i = 0\n",
    "while i < 100:\n",
    "   i += 1\n",
    "   sumatorio += i\n",
    "print(sumatorio)"
   ]
  },
  {
   "cell_type": "code",
   "execution_count": 13,
   "id": "84c28cb6",
   "metadata": {},
   "outputs": [
    {
     "name": "stdout",
     "output_type": "stream",
     "text": [
      "18\n"
     ]
    }
   ],
   "source": [
    "#104 Programa que dado un numero entero suma la cantidad con valor inicial 0\n",
    "numero = int(input(\"ingresa un numero: \"))\n",
    "suma = 0\n",
    "inicio = int(input(\"Ingresa el valor de n: \"))\n",
    "while inicio <= numero:\n",
    "   suma += inicio\n",
    "   inicio += 1 \n",
    "print(suma)"
   ]
  },
  {
   "cell_type": "code",
   "execution_count": 18,
   "id": "bb9951be",
   "metadata": {},
   "outputs": [
    {
     "name": "stdout",
     "output_type": "stream",
     "text": [
      "n: 1\n",
      "m: 100\n",
      "5050\n"
     ]
    }
   ],
   "source": [
    "#105 Programa que va a controlar que n sea menor o igual a m\n",
    "n = int(input(\"ingrese un valor de n: \"))\n",
    "print(f\"n: {n}\")\n",
    "m = int(input(\"ingrese el valor de m: \"))\n",
    "print(f\"m: {m}\")\n",
    "suma = 0\n",
    "if n < m:\n",
    "   while n <= m:\n",
    "      suma += n\n",
    "      n += 1\n",
    "else:\n",
    "   print(f\"ingresaste m: {m} es mayor que n: {n} o los numeros son iguales\") \n",
    "\n",
    "print(suma)"
   ]
  },
  {
   "cell_type": "code",
   "execution_count": 24,
   "id": "f936b142",
   "metadata": {},
   "outputs": [
    {
     "name": "stdout",
     "output_type": "stream",
     "text": [
      "1307674368000\n"
     ]
    }
   ],
   "source": [
    "#106 Programa que calcula el factorial de un numero\n",
    "suma += inicio\n",
    "num = int(input(\"ingrese el numero que quieres sacar el factorial de un numero: \"))\n",
    "factorial = 1\n",
    "fact = 1\n",
    "while factorial <= num:\n",
    "   fact *= factorial\n",
    "   factorial += 1\n",
    "print(fact)"
   ]
  },
  {
   "cell_type": "code",
   "execution_count": 28,
   "id": "65184839",
   "metadata": {},
   "outputs": [
    {
     "name": "stdout",
     "output_type": "stream",
     "text": [
      "1307674368000\n",
      "3628800\n",
      "120\n",
      "Combinatoria: 3003\n"
     ]
    }
   ],
   "source": [
    "#107 progrma que desarrolla el numero de combinaciones\n",
    "n = int(input(\"Valor de n: \"))\n",
    "m = int(input(\"Valor de m: \"))\n",
    "\n",
    "factorial_n = 1\n",
    "fact_n = 1\n",
    "while factorial_n <= n:\n",
    "   fact_n *= factorial_n\n",
    "   factorial_n += 1\n",
    "print(fact_n)\n",
    "\n",
    "factorial_m = 1\n",
    "fact_m = 1\n",
    "while factorial_m <= m:\n",
    "   fact_m *= factorial_m\n",
    "   factorial_m +=  1\n",
    "print(fact_m)\n",
    "\n",
    "resta = n-m\n",
    "factorial_resta = 1\n",
    "fact_resta = 1\n",
    "\n",
    "while factorial_resta <= resta:\n",
    "   fact_resta *= factorial_resta\n",
    "   factorial_resta += 1\n",
    "print(fact_resta)\n",
    "\n",
    "#Aqui vamos a  aplicar la formula\n",
    "\n",
    "combinatoria = fact_n/(fact_resta*fact_m)\n",
    "print(f\"Combinatoria: {int(combinatoria)}\")\n"
   ]
  },
  {
   "cell_type": "code",
   "execution_count": 30,
   "id": "7b7d6f43",
   "metadata": {},
   "outputs": [
    {
     "name": "stdout",
     "output_type": "stream",
     "text": [
      "La raiz cuadrada de 9.0 es 3.0\n"
     ]
    }
   ],
   "source": [
    "#108 programa que calcula la raiz cuadrada\n",
    "from math import sqrt\n",
    "\n",
    "x = float(input(\"Introduce un numero positivo: \"))\n",
    "while x < 0:\n",
    "   x = float(input(\"Introduce un numero positivo: \"))\n",
    "\n",
    "print(f\"La raiz cuadrada de {x} es {sqrt(x)}\")"
   ]
  },
  {
   "cell_type": "code",
   "execution_count": 33,
   "id": "dd5882a5",
   "metadata": {},
   "outputs": [
    {
     "name": "stdout",
     "output_type": "stream",
     "text": [
      "4\n"
     ]
    }
   ],
   "source": [
    "#109 programa que solicita la lectura de un numero entre 0 y 10\n",
    "numero = int(input(\"Ingrese un numero entre 0-10\"))\n",
    "\n",
    "while numero < 0 or numero > 10:\n",
    "   numero = int(input(\"Ingrese un numero entre 0-10\"))\n",
    "\n",
    "print(numero)"
   ]
  },
  {
   "cell_type": "code",
   "execution_count": 24,
   "id": "fd88b156",
   "metadata": {},
   "outputs": [
    {
     "name": "stdout",
     "output_type": "stream",
     "text": [
      "hola\n"
     ]
    }
   ],
   "source": [
    "#110 programa que determina si en un texto hay una letra en Mayuscula\n",
    "texto = input(\"Ingrese un texto: \")\n",
    "print(texto)\n",
    "bandera = True\n",
    "i = 0\n",
    "tamanio = len(texto)\n",
    "while bandera:\n",
    "   if texto[i] == texto[i].upper():\n",
    "      print(f\"{texto[i]}\")\n",
    "      texto = input(\"ingrese un texto sin mayuscula: \")\n",
    "      bandera = True\n",
    "   else:\n",
    "      bandera = False\n",
    "\n",
    "   i += 1\n",
    "      \n",
    "\n",
    "\n",
    "\n",
    "      "
   ]
  },
  {
   "cell_type": "code",
   "execution_count": 27,
   "id": "017e5eb6",
   "metadata": {},
   "outputs": [],
   "source": [
    "#111 programa que lea numeros positivos y mostrandolos en pantalla\n",
    "num_positivo = int(input(\"ingrese un numero: \"))\n",
    "while num_positivo >= 0:\n",
    "   print(num_positivo)\n",
    "   num_positivo = int(input(\"Este bucle no va a terminar hasta que introduzcas un numero negativo\"))"
   ]
  },
  {
   "cell_type": "code",
   "execution_count": 3,
   "id": "6ac9264d",
   "metadata": {},
   "outputs": [
    {
     "name": "stdout",
     "output_type": "stream",
     "text": [
      "2\n",
      "12\n",
      "4\n",
      "5\n",
      "El numero mayor es 12\n"
     ]
    }
   ],
   "source": [
    "#112 programa que lea numero positivos y al introducir un numero negativo salir del bucle pero prostanto el numero mayor\n",
    "num_positivo = int(input(\"Ingrese un numero: \"))\n",
    "candidato = 0\n",
    "while num_positivo >= 0:\n",
    "   print(num_positivo)\n",
    "   if num_positivo > candidato:\n",
    "      candidato = num_positivo\n",
    "   num_positivo = int(input(\"Ingrese otro numero para salir un numero negativo\"))\n",
    "\n",
    "print(f\"El numero mayor es {candidato}\")\n"
   ]
  },
  {
   "cell_type": "code",
   "execution_count": 3,
   "id": "f4bd2f1d",
   "metadata": {},
   "outputs": [
    {
     "name": "stdout",
     "output_type": "stream",
     "text": [
      "\n",
      "   Escoge una opcion\n",
      "   a) calcular el diametro:\n",
      "   b) calcular el perimetro:\n",
      "   c) calcular el area\n",
      "   \n",
      "Solo hay tres opciones a, b, c\n",
      "Tu has tecleado p\n",
      "\n",
      "   Escoge una opcion\n",
      "   a) calcular el diametro:\n",
      "   b) calcular el perimetro:\n",
      "   c) calcular el area\n",
      "   \n",
      "Solo hay tres opciones a, b, c\n",
      "Tu has tecleado o\n",
      "\n",
      "   Escoge una opcion\n",
      "   a) calcular el diametro:\n",
      "   b) calcular el perimetro:\n",
      "   c) calcular el area\n",
      "   \n",
      "El diametro es 6.0\n"
     ]
    }
   ],
   "source": [
    "#Programa de menu\n",
    "from math import pi\n",
    "\n",
    "radio = float(input(\"Dame el radio de un circulo: \"))\n",
    "\n",
    "opcion = ''\n",
    "while opcion < \"a\" or opcion > \"c\":\n",
    "   print(\"\"\"\n",
    "   Escoge una opcion\n",
    "   a) calcular el diametro:\n",
    "   b) calcular el perimetro:\n",
    "   c) calcular el area\n",
    "   \"\"\")\n",
    "\n",
    "   opcion = input(\"Teclea a, b, c pulsa enter: \")\n",
    "   if opcion == 'a':\n",
    "      diametro = 2*radio\n",
    "      print(f\"El diametro es {diametro}\")\n",
    "   elif opcion == 'b':\n",
    "      perimetro = 2*pi*radio\n",
    "      print(f\"El perimetro es {perimetro}\")\n",
    "   elif opcion == 'c':\n",
    "      area = pi*radio**2\n",
    "      print(f\"El area es {area}\")\n",
    "   else:\n",
    "      print(\"Solo hay tres opciones a, b, c\")\n",
    "      print(f\"Tu has tecleado {opcion}\")"
   ]
  },
  {
   "cell_type": "code",
   "execution_count": 4,
   "id": "de114ac7",
   "metadata": {},
   "outputs": [
    {
     "name": "stdout",
     "output_type": "stream",
     "text": [
      "\n",
      "   Escoge una opcion\n",
      "   a) calcular el diametro:\n",
      "   b) calcular el perimetro:\n",
      "   c) calcular el area\n",
      "   \n",
      "Solo hay tres opciones a, b, c Tu as tecleado: p\n",
      "\n",
      "   Escoge una opcion\n",
      "   a) calcular el diametro:\n",
      "   b) calcular el perimetro:\n",
      "   c) calcular el area\n",
      "   \n",
      "Solo hay tres opciones a, b, c Tu as tecleado: r\n",
      "\n",
      "   Escoge una opcion\n",
      "   a) calcular el diametro:\n",
      "   b) calcular el perimetro:\n",
      "   c) calcular el area\n",
      "   \n",
      "El diametro es 6.0\n"
     ]
    }
   ],
   "source": [
    "#113 Este es su otra derivada del programa de arriba\n",
    "from math import pi\n",
    "\n",
    "radio = float(input(\"Dame el radio de un circulo: \"))\n",
    "\n",
    "opcion = ''\n",
    "while opcion < 'a' or opcion > 'c':\n",
    "   print(\"\"\"\n",
    "   Escoge una opcion\n",
    "   a) calcular el diametro:\n",
    "   b) calcular el perimetro:\n",
    "   c) calcular el area\n",
    "   \"\"\")\n",
    "\n",
    "   opcion = input(\"Teclea a, b, c pulsa enter: \")\n",
    "   if opcion < 'a' or opcion > 'c':\n",
    "      print(f\"Solo hay tres opciones a, b, c Tu as tecleado: {opcion}\")\n",
    "\n",
    "if opcion == 'a':\n",
    "      diametro = 2*radio\n",
    "      print(f\"El diametro es {diametro}\")\n",
    "elif opcion == 'b':\n",
    "      perimetro = 2*pi*radio\n",
    "      print(f\"El perimetro es {perimetro}\")\n",
    "elif opcion == 'c':\n",
    "      area = pi*radio**2\n",
    "      print(f\"El area es {area}\")"
   ]
  },
  {
   "cell_type": "code",
   "execution_count": 12,
   "id": "0dfa4abb",
   "metadata": {},
   "outputs": [
    {
     "name": "stdout",
     "output_type": "stream",
     "text": [
      "\n",
      "   Escoge una opcion\n",
      "   a) calcular el diametro:\n",
      "   b) calcular el perimetro:\n",
      "   c) calcular el area\n",
      "   d) presione 'f' para finalizar\n",
      "   \n",
      "El diametro es 6.0\n",
      "\n",
      "   Escoge una opcion\n",
      "   a) calcular el diametro:\n",
      "   b) calcular el perimetro:\n",
      "   c) calcular el area\n",
      "   d) presione 'f' para finalizar\n",
      "   \n",
      "Gracias por usar el programa\n"
     ]
    }
   ],
   "source": [
    "#114 programa que finaliza cuando el usuario desea salir prosionando la tecla\n",
    "from math import pi\n",
    "radio = float(input(\"Dame el radio de un circulo: \"))\n",
    "\n",
    "opcion = ''\n",
    "while opcion != 'f':\n",
    "   print(\"\"\"\n",
    "   Escoge una opcion\n",
    "   a) calcular el diametro:\n",
    "   b) calcular el perimetro:\n",
    "   c) calcular el area\n",
    "   d) presione 'f' para finalizar\n",
    "   \"\"\")\n",
    "\n",
    "   opcion = input(\"Teclea a, b, c pulsa enter: \")\n",
    "   if opcion == 'a':\n",
    "      diametro = 2*radio\n",
    "      print(f\"El diametro es {diametro}\")\n",
    "   elif opcion == 'b':\n",
    "      perimetro = 2*pi*radio\n",
    "      print(f\"El perimetro es {perimetro}\")\n",
    "   elif opcion == 'c':\n",
    "      area = pi*radio**2\n",
    "      print(f\"El area es {area}\")\n",
    "   elif opcion != 'f':\n",
    "      print(f\"Solo hay 4 opciones a b c y f tu as tecleado: {opcion}\")\n",
    "\n",
    "print(\"Gracias por usar el programa\")"
   ]
  },
  {
   "cell_type": "code",
   "execution_count": 18,
   "id": "5ec37b61",
   "metadata": {},
   "outputs": [
    {
     "name": "stdout",
     "output_type": "stream",
     "text": [
      "\n",
      "   Escoge una opcion\n",
      "   a) calcular el diametro:\n",
      "   b) calcular el perimetro:\n",
      "   c) calcular el area\n",
      "   d) presione 'f' para finalizar\n",
      "   \n",
      "Gracias por usar el programa\n"
     ]
    }
   ],
   "source": [
    "from math import pi\n",
    "\n",
    "opcion = ''\n",
    "while opcion != 'f':\n",
    "   print(\"\"\"\n",
    "   Escoge una opcion\n",
    "   a) calcular el diametro:\n",
    "   b) calcular el perimetro:\n",
    "   c) calcular el area\n",
    "   d) presione 'f' para finalizar\n",
    "   \"\"\")\n",
    "\n",
    "   opcion = input(\"Teclea a, b, c y \\'f\\' para salir pulsa enter: \")\n",
    "   if opcion == 'a':\n",
    "      radio = float(input(\"Dame el radio de un circulo: \"))\n",
    "      diametro = 2*radio\n",
    "      print(f\"El diametro es {diametro}\")\n",
    "   elif opcion == 'b':\n",
    "      radio = float(input(\"Dame el radio de un circulo: \"))\n",
    "      perimetro = 2*pi*radio\n",
    "      print(f\"El perimetro es {perimetro}\")\n",
    "   elif opcion == 'c':\n",
    "      radio = float(input(\"Dame el radio de un circulo: \"))\n",
    "      area = pi*radio**2\n",
    "      print(f\"El area es {area}\")\n",
    "   elif opcion != 'f':\n",
    "      print(f\"Solo hay 4 opciones a b c y f tu as tecleado: {opcion}\")\n",
    "\n",
    "print(\"Gracias por usar el programa\")"
   ]
  },
  {
   "cell_type": "code",
   "execution_count": null,
   "id": "6e85f9c4",
   "metadata": {},
   "outputs": [],
   "source": []
  }
 ],
 "metadata": {
  "kernelspec": {
   "display_name": "Python 3 (ipykernel)",
   "language": "python",
   "name": "python3"
  },
  "language_info": {
   "codemirror_mode": {
    "name": "ipython",
    "version": 3
   },
   "file_extension": ".py",
   "mimetype": "text/x-python",
   "name": "python",
   "nbconvert_exporter": "python",
   "pygments_lexer": "ipython3",
   "version": "3.10.9"
  }
 },
 "nbformat": 4,
 "nbformat_minor": 5
}
