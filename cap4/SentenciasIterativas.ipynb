{
 "cells": [
  {
   "cell_type": "code",
   "execution_count": 1,
   "id": "a480f13f",
   "metadata": {},
   "outputs": [
    {
     "name": "stdout",
     "output_type": "stream",
     "text": [
      "1\n",
      "2\n",
      "3\n",
      "4\n",
      "Salio\n"
     ]
    }
   ],
   "source": [
    "#98 Programa de repitacion dada un inicio y limite\n",
    "i = int(input(\"Valor inicial: \"))\n",
    "limite = int(input(\"Limite: \"))\n",
    "while i < limite:\n",
    "   print(i)\n",
    "   i += 1\n",
    "print(\"Salio\")"
   ]
  },
  {
   "cell_type": "code",
   "execution_count": 1,
   "id": "0af3fdd4",
   "metadata": {},
   "outputs": [
    {
     "name": "stdout",
     "output_type": "stream",
     "text": [
      "valor de i: 0\n",
      "calor de limite 10\n",
      "valor de incremento: 1\n",
      "0\n",
      "1\n",
      "2\n",
      "3\n",
      "4\n",
      "5\n",
      "6\n",
      "7\n",
      "8\n",
      "9\n",
      "10\n"
     ]
    }
   ],
   "source": [
    "#99 Programa que determine el inicio y limite de los valores y dado tambien un incremento\n",
    "i = int(input(\"Valor inicial: \"))\n",
    "print(f\"valor de i: {i}\")\n",
    "limite = int(input(\"Limite: \"))\n",
    "print(f\"calor de limite {limite}\")\n",
    "incremento = int(input(\"Incremento: \"))\n",
    "print(f\"valor de incremento: {incremento}\")\n",
    "while i <= limite:\n",
    "   print(i)\n",
    "   i += incremento"
   ]
  },
  {
   "cell_type": "code",
   "execution_count": 8,
   "id": "8ed7fa1c",
   "metadata": {},
   "outputs": [
    {
     "name": "stdout",
     "output_type": "stream",
     "text": [
      "6\n",
      "12\n",
      "18\n",
      "24\n",
      "30\n",
      "36\n",
      "42\n",
      "48\n",
      "54\n",
      "60\n",
      "66\n",
      "72\n",
      "78\n",
      "84\n",
      "90\n",
      "96\n",
      "102\n",
      "108\n",
      "114\n",
      "120\n",
      "126\n",
      "132\n",
      "138\n",
      "144\n",
      "150\n"
     ]
    }
   ],
   "source": [
    "#100 Programa que muestra los numeros multiplos de 6 desde el 6 hasta el 150 inclusive\n",
    "i = 6\n",
    "final = 150\n",
    "while i <= 150:\n",
    "   if i % 6 == 0:\n",
    "      print(i)\n",
    "   i += 1"
   ]
  },
  {
   "cell_type": "code",
   "execution_count": 11,
   "id": "4737c9d4",
   "metadata": {},
   "outputs": [
    {
     "name": "stdout",
     "output_type": "stream",
     "text": [
      "2^0 = 1\n",
      "2^1 = 2\n",
      "2^2 = 4\n",
      "2^3 = 8\n",
      "2^4 = 16\n",
      "2^5 = 32\n",
      "2^6 = 64\n",
      "2^7 = 128\n",
      "2^8 = 256\n",
      "2^9 = 512\n",
      "2^10 = 1024\n",
      "2^11 = 2048\n",
      "2^12 = 4096\n",
      "2^13 = 8192\n",
      "2^14 = 16384\n",
      "2^15 = 32768\n",
      "2^16 = 65536\n",
      "2^17 = 131072\n",
      "2^18 = 262144\n",
      "2^19 = 524288\n",
      "2^20 = 1048576\n",
      "2^21 = 2097152\n",
      "2^22 = 4194304\n",
      "2^23 = 8388608\n",
      "2^24 = 16777216\n",
      "2^25 = 33554432\n",
      "2^26 = 67108864\n",
      "2^27 = 134217728\n",
      "2^28 = 268435456\n",
      "2^29 = 536870912\n",
      "2^30 = 1073741824\n"
     ]
    }
   ],
   "source": [
    "#102 program que muestra todos los numeros potencia de 2 entre 2⁰ y 2³0, ambos inclusive\n",
    "exponente = 0\n",
    "while exponente <= 30:\n",
    "   print(f\"2^{exponente} = {2**exponente}\")\n",
    "   exponente += 1\n"
   ]
  },
  {
   "cell_type": "code",
   "execution_count": 3,
   "id": "5d1fb695",
   "metadata": {},
   "outputs": [
    {
     "name": "stdout",
     "output_type": "stream",
     "text": [
      "5050\n"
     ]
    }
   ],
   "source": [
    "sumatorio = 0\n",
    "i = 1\n",
    "while i <= 100:\n",
    "   sumatorio += i\n",
    "   i += 1\n",
    "\n",
    "print(sumatorio)"
   ]
  },
  {
   "cell_type": "code",
   "execution_count": 4,
   "id": "50ba5707",
   "metadata": {},
   "outputs": [
    {
     "name": "stdout",
     "output_type": "stream",
     "text": [
      "5050\n"
     ]
    }
   ],
   "source": [
    "#103 programa qu va a comparar con el anterior codigo si votan el mismo resultado\n",
    "sumatorio = 0\n",
    "i = 0\n",
    "while i < 100:\n",
    "   i += 1\n",
    "   sumatorio += i\n",
    "print(sumatorio)"
   ]
  },
  {
   "cell_type": "code",
   "execution_count": 13,
   "id": "84c28cb6",
   "metadata": {},
   "outputs": [
    {
     "name": "stdout",
     "output_type": "stream",
     "text": [
      "18\n"
     ]
    }
   ],
   "source": [
    "#104 Programa que dado un numero entero suma la cantidad con valor inicial 0\n",
    "numero = int(input(\"ingresa un numero: \"))\n",
    "suma = 0\n",
    "inicio = int(input(\"Ingresa el valor de n: \"))\n",
    "while inicio <= numero:\n",
    "   suma += inicio\n",
    "   inicio += 1 \n",
    "print(suma)"
   ]
  },
  {
   "cell_type": "code",
   "execution_count": 3,
   "id": "bb9951be",
   "metadata": {},
   "outputs": [
    {
     "name": "stdout",
     "output_type": "stream",
     "text": [
      "n: 39\n",
      "m: 1\n",
      "ingresaste m: 1 es mayor que n: 39 o los numeros son iguales\n",
      "0\n"
     ]
    }
   ],
   "source": [
    "#105 Programa que va a controlar que n sea menor o igual a m\n",
    "n = int(input(\"ingrese un valor de n: \"))\n",
    "print(f\"n: {n}\")\n",
    "m = int(input(\"ingrese el valor de m: \"))\n",
    "print(f\"m: {m}\")\n",
    "suma = 0\n",
    "if n < m:\n",
    "   while n <= m:\n",
    "      suma += n\n",
    "      n += 1\n",
    "else:\n",
    "   print(f\"ingresaste m: {m} es mayor que n: {n} o los numeros son iguales\") \n",
    "\n",
    "print(suma)"
   ]
  },
  {
   "cell_type": "code",
   "execution_count": 1,
   "id": "f936b142",
   "metadata": {},
   "outputs": [
    {
     "name": "stdout",
     "output_type": "stream",
     "text": [
      "1\n"
     ]
    }
   ],
   "source": [
    "#106 Programa que calcula el factorial de un numero\n",
    "num = int(input(\"ingrese el numero que quieres sacar el factorial de un numero: \"))\n",
    "factorial = 1\n",
    "fact = 1\n",
    "while factorial <= num:\n",
    "   fact *= factorial\n",
    "   factorial += 1\n",
    "print(fact)"
   ]
  },
  {
   "cell_type": "code",
   "execution_count": 28,
   "id": "65184839",
   "metadata": {},
   "outputs": [
    {
     "name": "stdout",
     "output_type": "stream",
     "text": [
      "1307674368000\n",
      "3628800\n",
      "120\n",
      "Combinatoria: 3003\n"
     ]
    }
   ],
   "source": [
    "#107 progrma que desarrolla el numero de combinaciones\n",
    "n = int(input(\"Valor de n: \"))\n",
    "m = int(input(\"Valor de m: \"))\n",
    "\n",
    "factorial_n = 1\n",
    "fact_n = 1\n",
    "while factorial_n <= n:\n",
    "   fact_n *= factorial_n\n",
    "   factorial_n += 1\n",
    "print(fact_n)\n",
    "\n",
    "factorial_m = 1\n",
    "fact_m = 1\n",
    "while factorial_m <= m:\n",
    "   fact_m *= factorial_m\n",
    "   factorial_m +=  1\n",
    "print(fact_m)\n",
    "\n",
    "resta = n-m\n",
    "factorial_resta = 1\n",
    "fact_resta = 1\n",
    "\n",
    "while factorial_resta <= resta:\n",
    "   fact_resta *= factorial_resta\n",
    "   factorial_resta += 1\n",
    "print(fact_resta)\n",
    "\n",
    "#Aqui vamos a  aplicar la formula\n",
    "\n",
    "combinatoria = fact_n/(fact_resta*fact_m)\n",
    "print(f\"Combinatoria: {int(combinatoria)}\")\n"
   ]
  },
  {
   "cell_type": "code",
   "execution_count": 30,
   "id": "7b7d6f43",
   "metadata": {},
   "outputs": [
    {
     "name": "stdout",
     "output_type": "stream",
     "text": [
      "La raiz cuadrada de 9.0 es 3.0\n"
     ]
    }
   ],
   "source": [
    "#108 programa que calcula la raiz cuadrada\n",
    "from math import sqrt\n",
    "\n",
    "x = float(input(\"Introduce un numero positivo: \"))\n",
    "while x < 0:\n",
    "   x = float(input(\"Introduce un numero positivo: \"))\n",
    "\n",
    "print(f\"La raiz cuadrada de {x} es {sqrt(x)}\")"
   ]
  },
  {
   "cell_type": "code",
   "execution_count": 3,
   "id": "dd5882a5",
   "metadata": {},
   "outputs": [
    {
     "name": "stdout",
     "output_type": "stream",
     "text": [
      "4\n"
     ]
    }
   ],
   "source": [
    "#109 programa que solicita la lectura de un numero entre 0 y 10\n",
    "numero = int(input(\"Ingrese un numero entre 0-10\"))\n",
    "\n",
    "while numero < 0 or numero > 10:\n",
    "   numero = int(input(\"Ingrese un numero entre 0-10\"))\n",
    "\n",
    "print(numero)"
   ]
  },
  {
   "cell_type": "code",
   "execution_count": 4,
   "id": "fd88b156",
   "metadata": {},
   "outputs": [
    {
     "name": "stdout",
     "output_type": "stream",
     "text": [
      "El texto contiene letras mayusculas. Inténtalo de nuevo.\n",
      "El texto contiene letras mayusculas. Inténtalo de nuevo.\n",
      "Texto válido: hola\n"
     ]
    }
   ],
   "source": [
    "#110 Diseña un programa que solicite la lectura de un texto que no contenga letras mayusculas. Si el usuario teclea una letra mayuscula el programa solicitara nuevamente la introduccon del texto cuantas veces sea preciso\n",
    "texto = input(\"Introduce un texto que no contenga letras mayusculas: \")\n",
    "while any(letra.isupper() for letra in texto):\n",
    "    print(\"El texto contiene letras mayusculas. Inténtalo de nuevo.\")\n",
    "    texto = input(\"Introduce un texto que no contenga letras mayusculas: \")\n",
    "print(\"Texto válido:\", texto)"
   ]
  },
  {
   "cell_type": "code",
   "execution_count": 27,
   "id": "017e5eb6",
   "metadata": {},
   "outputs": [],
   "source": [
    "#111 programa que lea numeros positivos y mostrandolos en pantalla\n",
    "num_positivo = int(input(\"ingrese un numero: \"))\n",
    "while num_positivo >= 0:\n",
    "   print(num_positivo)\n",
    "   num_positivo = int(input(\"Este bucle no va a terminar hasta que introduzcas un numero negativo\"))"
   ]
  },
  {
   "cell_type": "code",
   "execution_count": 3,
   "id": "6ac9264d",
   "metadata": {},
   "outputs": [
    {
     "name": "stdout",
     "output_type": "stream",
     "text": [
      "2\n",
      "12\n",
      "4\n",
      "5\n",
      "El numero mayor es 12\n"
     ]
    }
   ],
   "source": [
    "#112 programa que lea numero positivos y al introducir un numero negativo salir del bucle pero prostanto el numero mayor\n",
    "num_positivo = int(input(\"Ingrese un numero: \"))\n",
    "candidato = 0\n",
    "while num_positivo >= 0:\n",
    "   print(num_positivo)\n",
    "   if num_positivo > candidato:\n",
    "      candidato = num_positivo\n",
    "   num_positivo = int(input(\"Ingrese otro numero para salir un numero negativo\"))\n",
    "\n",
    "print(f\"El numero mayor es {candidato}\")\n"
   ]
  },
  {
   "cell_type": "code",
   "execution_count": 5,
   "id": "f4bd2f1d",
   "metadata": {},
   "outputs": [
    {
     "name": "stdout",
     "output_type": "stream",
     "text": [
      "\n",
      "   Escoge una opcion\n",
      "   a) calcular el diametro:\n",
      "   b) calcular el perimetro:\n",
      "   c) calcular el area\n",
      "   \n",
      "El diametro es 6.0\n"
     ]
    }
   ],
   "source": [
    "#Programa de menu\n",
    "from math import pi\n",
    "\n",
    "radio = float(input(\"Dame el radio de un circulo: \"))\n",
    "\n",
    "opcion = ''\n",
    "while opcion < \"a\" or opcion > \"c\":\n",
    "   print(\"\"\"\n",
    "   Escoge una opcion\n",
    "   a) calcular el diametro:\n",
    "   b) calcular el perimetro:\n",
    "   c) calcular el area\n",
    "   \"\"\")\n",
    "\n",
    "   opcion = input(\"Teclea a, b, c pulsa enter: \")\n",
    "   if opcion == 'a':\n",
    "      diametro = 2*radio\n",
    "      print(f\"El diametro es {diametro}\")\n",
    "   elif opcion == 'b':\n",
    "      perimetro = 2*pi*radio\n",
    "      print(f\"El perimetro es {perimetro}\")\n",
    "   elif opcion == 'c':\n",
    "      area = pi*radio**2\n",
    "      print(f\"El area es {area}\")\n",
    "   else:\n",
    "      print(\"Solo hay tres opciones a, b, c\")\n",
    "      print(f\"Tu has tecleado {opcion}\")"
   ]
  },
  {
   "cell_type": "code",
   "execution_count": 4,
   "id": "de114ac7",
   "metadata": {},
   "outputs": [
    {
     "name": "stdout",
     "output_type": "stream",
     "text": [
      "\n",
      "   Escoge una opcion\n",
      "   a) calcular el diametro:\n",
      "   b) calcular el perimetro:\n",
      "   c) calcular el area\n",
      "   \n",
      "Solo hay tres opciones a, b, c Tu as tecleado: p\n",
      "\n",
      "   Escoge una opcion\n",
      "   a) calcular el diametro:\n",
      "   b) calcular el perimetro:\n",
      "   c) calcular el area\n",
      "   \n",
      "Solo hay tres opciones a, b, c Tu as tecleado: r\n",
      "\n",
      "   Escoge una opcion\n",
      "   a) calcular el diametro:\n",
      "   b) calcular el perimetro:\n",
      "   c) calcular el area\n",
      "   \n",
      "El diametro es 6.0\n"
     ]
    }
   ],
   "source": [
    "#113 Este es su otra derivada del programa de arriba\n",
    "from math import pi\n",
    "\n",
    "radio = float(input(\"Dame el radio de un circulo: \"))\n",
    "\n",
    "opcion = ''\n",
    "while opcion < 'a' or opcion > 'c':\n",
    "   print(\"\"\"\n",
    "   Escoge una opcion\n",
    "   a) calcular el diametro:\n",
    "   b) calcular el perimetro:\n",
    "   c) calcular el area\n",
    "   \"\"\")\n",
    "\n",
    "   opcion = input(\"Teclea a, b, c pulsa enter: \")\n",
    "   if opcion < 'a' or opcion > 'c':\n",
    "      print(f\"Solo hay tres opciones a, b, c Tu as tecleado: {opcion}\")\n",
    "\n",
    "if opcion == 'a':\n",
    "      diametro = 2*radio\n",
    "      print(f\"El diametro es {diametro}\")\n",
    "elif opcion == 'b':\n",
    "      perimetro = 2*pi*radio\n",
    "      print(f\"El perimetro es {perimetro}\")\n",
    "elif opcion == 'c':\n",
    "      area = pi*radio**2\n",
    "      print(f\"El area es {area}\")"
   ]
  },
  {
   "cell_type": "code",
   "execution_count": 12,
   "id": "0dfa4abb",
   "metadata": {},
   "outputs": [
    {
     "name": "stdout",
     "output_type": "stream",
     "text": [
      "\n",
      "   Escoge una opcion\n",
      "   a) calcular el diametro:\n",
      "   b) calcular el perimetro:\n",
      "   c) calcular el area\n",
      "   d) presione 'f' para finalizar\n",
      "   \n",
      "El diametro es 6.0\n",
      "\n",
      "   Escoge una opcion\n",
      "   a) calcular el diametro:\n",
      "   b) calcular el perimetro:\n",
      "   c) calcular el area\n",
      "   d) presione 'f' para finalizar\n",
      "   \n",
      "Gracias por usar el programa\n"
     ]
    }
   ],
   "source": [
    "#114 programa que finaliza cuando el usuario desea salir prosionando la tecla\n",
    "from math import pi\n",
    "radio = float(input(\"Dame el radio de un circulo: \"))\n",
    "\n",
    "opcion = ''\n",
    "while opcion != 'f':\n",
    "   print(\"\"\"\n",
    "   Escoge una opcion\n",
    "   a) calcular el diametro:\n",
    "   b) calcular el perimetro:\n",
    "   c) calcular el area\n",
    "   d) presione 'f' para finalizar\n",
    "   \"\"\")\n",
    "\n",
    "   opcion = input(\"Teclea a, b, c pulsa enter: \")\n",
    "   if opcion == 'a':\n",
    "      diametro = 2*radio\n",
    "      print(f\"El diametro es {diametro}\")\n",
    "   elif opcion == 'b':\n",
    "      perimetro = 2*pi*radio\n",
    "      print(f\"El perimetro es {perimetro}\")\n",
    "   elif opcion == 'c':\n",
    "      area = pi*radio**2\n",
    "      print(f\"El area es {area}\")\n",
    "   elif opcion != 'f':\n",
    "      print(f\"Solo hay 4 opciones a b c y f tu as tecleado: {opcion}\")\n",
    "\n",
    "print(\"Gracias por usar el programa\")"
   ]
  },
  {
   "cell_type": "code",
   "execution_count": 18,
   "id": "5ec37b61",
   "metadata": {},
   "outputs": [
    {
     "name": "stdout",
     "output_type": "stream",
     "text": [
      "\n",
      "   Escoge una opcion\n",
      "   a) calcular el diametro:\n",
      "   b) calcular el perimetro:\n",
      "   c) calcular el area\n",
      "   d) presione 'f' para finalizar\n",
      "   \n",
      "Gracias por usar el programa\n"
     ]
    }
   ],
   "source": [
    "from math import pi\n",
    "\n",
    "opcion = ''\n",
    "while opcion != 'f':\n",
    "   print(\"\"\"\n",
    "   Escoge una opcion\n",
    "   a) calcular el diametro:\n",
    "   b) calcular el perimetro:\n",
    "   c) calcular el area\n",
    "   d) presione 'f' para finalizar\n",
    "   \"\"\")\n",
    "\n",
    "   opcion = input(\"Teclea a, b, c y \\'f\\' para salir pulsa enter: \")\n",
    "   if opcion == 'a':\n",
    "      radio = float(input(\"Dame el radio de un circulo: \"))\n",
    "      diametro = 2*radio\n",
    "      print(f\"El diametro es {diametro}\")\n",
    "   elif opcion == 'b':\n",
    "      radio = float(input(\"Dame el radio de un circulo: \"))\n",
    "      perimetro = 2*pi*radio\n",
    "      print(f\"El perimetro es {perimetro}\")\n",
    "   elif opcion == 'c':\n",
    "      radio = float(input(\"Dame el radio de un circulo: \"))\n",
    "      area = pi*radio**2\n",
    "      print(f\"El area es {area}\")\n",
    "   elif opcion != 'f':\n",
    "      print(f\"Solo hay 4 opciones a b c y f tu as tecleado: {opcion}\")\n",
    "\n",
    "print(\"Gracias por usar el programa\")"
   ]
  },
  {
   "cell_type": "markdown",
   "id": "f6a062c3",
   "metadata": {},
   "source": [
    "# 4.2.5 El bucle for-in"
   ]
  },
  {
   "cell_type": "code",
   "execution_count": 2,
   "id": "2fdb9ffd",
   "metadata": {},
   "outputs": [
    {
     "name": "stdout",
     "output_type": "stream",
     "text": [
      "2 x 1 = 2\n",
      "2 x 2 = 4\n",
      "2 x 3 = 6\n",
      "2 x 4 = 8\n",
      "2 x 5 = 10\n",
      "2 x 6 = 12\n",
      "2 x 7 = 14\n",
      "2 x 8 = 16\n",
      "2 x 9 = 18\n",
      "2 x 10 = 20\n"
     ]
    }
   ],
   "source": [
    "#116 programa que muestra la tabla de multiplicar introduciendo un numero por el teclado\n",
    "valor = int(input(\"Numero: \"))\n",
    "for i in [1,2,3,4,5,6,7,8,9,10]:\n",
    "   print(f\"{valor} x {i} = {valor*i}\")"
   ]
  },
  {
   "cell_type": "code",
   "execution_count": 13,
   "id": "049e7909",
   "metadata": {},
   "outputs": [
    {
     "name": "stdout",
     "output_type": "stream",
     "text": [
      "24 billetes de 500 euros\n",
      "1 billetes de 200 euros\n",
      "1 billetes de 100 euros\n",
      "2 billetes de 20 euros\n"
     ]
    }
   ],
   "source": [
    "#Programa que da cambios de billetes\n",
    "monto = float(input(\"Ingrese el fardo de billetes: \"))\n",
    "for i in [500,200,100,50,20,10,5,2,1]:\n",
    "   if monto >= i:\n",
    "      billetes = monto//i\n",
    "      monto %= i\n",
    "      if i == 500:\n",
    "         print(f\"{int(billetes)} billetes de 500 euros\")\n",
    "      if i == 200:\n",
    "         print(f\"{int(billetes)} billetes de 200 euros\")\n",
    "      if i == 100:\n",
    "         print(f\"{int(billetes)} billetes de 100 euros\")\n",
    "      if i == 50:\n",
    "         print(f\"{int(billetes)} billetes de 50 euros\")\n",
    "      if i == 20:\n",
    "         print(f\"{int(billetes)} billetes de 20 euros\")\n",
    "      if i == 10:\n",
    "         print(f\"{int(billetes)} billetes de 10 euros\")\n",
    "      if i == 5:\n",
    "         print(f\"{int(billetes)} billetes de 5 euros\")\n",
    "      if i == 2:\n",
    "         print(f\"{int(billetes)} monedas de 2 euros\")\n",
    "      if i == 1:\n",
    "         print(f\"{int(billetes)} monedas de 1 euros\")"
   ]
  },
  {
   "cell_type": "code",
   "execution_count": 17,
   "id": "65bbda1f",
   "metadata": {},
   "outputs": [
    {
     "name": "stdout",
     "output_type": "stream",
     "text": [
      "La raíz 2-ésima de 34.0 es: 5.830951894845301\n",
      "La raíz 3-ésima de 34.0 es: 3.239611801277483\n",
      "La raíz 4-ésima de 34.0 es: 2.414736402766418\n",
      "La raíz 5-ésima de 34.0 es: 2.024397458499885\n",
      "La raíz 6-ésima de 34.0 es: 1.7998921637913432\n",
      "La raíz 7-ésima de 34.0 es: 1.6549417125915038\n",
      "La raíz 8-ésima de 34.0 es: 1.5539422134578937\n",
      "La raíz 9-ésima de 34.0 es: 1.4796681446837605\n",
      "La raíz 10-ésima de 34.0 es: 1.4228132198218728\n",
      "La raíz 11-ésima de 34.0 es: 1.3779242905143858\n",
      "La raíz 12-ésima de 34.0 es: 1.3416005977157819\n",
      "La raíz 13-ésima de 34.0 es: 1.311614081288841\n",
      "La raíz 14-ésima de 34.0 es: 1.2864453787827541\n",
      "La raíz 15-ésima de 34.0 es: 1.2650235032372543\n",
      "La raíz 16-ésima de 34.0 es: 1.246572185418034\n",
      "La raíz 17-ésima de 34.0 es: 1.2305152351452517\n",
      "La raíz 18-ésima de 34.0 es: 1.2164161067183221\n",
      "La raíz 19-ésima de 34.0 es: 1.2039380864477056\n",
      "La raíz 20-ésima de 34.0 es: 1.1928173455403275\n",
      "La raíz 21-ésima de 34.0 es: 1.182844262088229\n",
      "La raíz 22-ésima de 34.0 es: 1.1738501993501496\n",
      "La raíz 23-ésima de 34.0 es: 1.1656979691958722\n",
      "La raíz 24-ésima de 34.0 es: 1.1582748368654918\n",
      "La raíz 25-ésima de 34.0 es: 1.1514873113529194\n",
      "La raíz 26-ésima de 34.0 es: 1.1452572118475575\n",
      "La raíz 27-ésima de 34.0 es: 1.1395186602088694\n",
      "La raíz 28-ésima de 34.0 es: 1.1342157549526255\n",
      "La raíz 29-ésima de 34.0 es: 1.129300753279918\n",
      "La raíz 30-ésima de 34.0 es: 1.1247326363350778\n",
      "La raíz 31-ésima de 34.0 es: 1.1204759667107875\n",
      "La raíz 32-ésima de 34.0 es: 1.1164999710783847\n",
      "La raíz 33-ésima de 34.0 es: 1.1127777978693048\n",
      "La raíz 34-ésima de 34.0 es: 1.1092859122630432\n",
      "La raíz 35-ésima de 34.0 es: 1.1060035997549706\n",
      "La raíz 36-ésima de 34.0 es: 1.1029125562429336\n",
      "La raíz 37-ésima de 34.0 es: 1.099996547547087\n",
      "La raíz 38-ésima de 34.0 es: 1.097241125025719\n",
      "La raíz 39-ésima de 34.0 es: 1.0946333867981355\n",
      "La raíz 40-ésima de 34.0 es: 1.0921617762677502\n",
      "La raíz 41-ésima de 34.0 es: 1.0898159113230714\n",
      "La raíz 42-ésima de 34.0 es: 1.0875864389041585\n",
      "La raíz 43-ésima de 34.0 es: 1.0854649106476824\n",
      "La raíz 44-ésima de 34.0 es: 1.0834436761318742\n",
      "La raíz 45-ésima de 34.0 es: 1.081515790883417\n",
      "La raíz 46-ésima de 34.0 es: 1.0796749368193521\n",
      "La raíz 47-ésima de 34.0 es: 1.0779153532068935\n",
      "La raíz 48-ésima de 34.0 es: 1.076231776554424\n",
      "La raíz 49-ésima de 34.0 es: 1.0746193881146688\n",
      "La raíz 50-ésima de 34.0 es: 1.0730737678989826\n",
      "La raíz 51-ésima de 34.0 es: 1.0715908542799746\n",
      "La raíz 52-ésima de 34.0 es: 1.070166908406141\n",
      "La raíz 53-ésima de 34.0 es: 1.068798482772994\n",
      "La raíz 54-ésima de 34.0 es: 1.0674823933952584\n",
      "La raíz 55-ésima de 34.0 es: 1.066215695107916\n",
      "La raíz 56-ésima de 34.0 es: 1.064995659593327\n",
      "La raíz 57-ésima de 34.0 es: 1.0638197557898341\n",
      "La raíz 58-ésima de 34.0 es: 1.0626856323861342\n",
      "La raíz 59-ésima de 34.0 es: 1.0615911021469298\n",
      "La raíz 60-ésima de 34.0 es: 1.060534127850244\n",
      "La raíz 61-ésima de 34.0 es: 1.0595128096463666\n",
      "La raíz 62-ésima de 34.0 es: 1.0585253736735778\n",
      "La raíz 63-ésima de 34.0 es: 1.0575701617872841\n",
      "La raíz 64-ésima de 34.0 es: 1.056645622277585\n",
      "La raíz 65-ésima de 34.0 es: 1.0557503014660712\n",
      "La raíz 66-ésima de 34.0 es: 1.054882836086219\n",
      "La raíz 67-ésima de 34.0 es: 1.0540419463634576\n",
      "La raíz 68-ésima de 34.0 es: 1.0532264297210943\n",
      "La raíz 69-ésima de 34.0 es: 1.0524351550470525\n",
      "La raíz 70-ésima de 34.0 es: 1.0516670574639917\n",
      "La raíz 71-ésima de 34.0 es: 1.050921133551993\n",
      "La raíz 72-ésima de 34.0 es: 1.0501964369787842\n",
      "La raíz 73-ésima de 34.0 es: 1.0494920744975136\n",
      "La raíz 74-ésima de 34.0 es: 1.0488072022765134\n",
      "La raíz 75-ésima de 34.0 es: 1.0481410225293648\n",
      "La raíz 76-ésima de 34.0 es: 1.0474927804169913\n",
      "La raíz 77-ésima de 34.0 es: 1.0468617611965012\n",
      "La raíz 78-ésima de 34.0 es: 1.0462472875941593\n",
      "La raíz 79-ésima de 34.0 es: 1.0456487173821967\n",
      "La raíz 80-ésima de 34.0 es: 1.0450654411412474\n",
      "La raíz 81-ésima de 34.0 es: 1.0444968801920322\n",
      "La raíz 82-ésima de 34.0 es: 1.043942484681542\n",
      "La raíz 83-ésima de 34.0 es: 1.0434017318104243\n",
      "La raíz 84-ésima de 34.0 es: 1.042874124189568\n",
      "La raíz 85-ésima de 34.0 es: 1.042359188315033\n",
      "La raíz 86-ésima de 34.0 es: 1.0418564731515\n",
      "La raíz 87-ésima de 34.0 es: 1.0413655488153408\n",
      "La raíz 88-ésima de 34.0 es: 1.0408860053492286\n",
      "La raíz 89-ésima de 34.0 es: 1.0404174515809526\n",
      "La raíz 90-ésima de 34.0 es: 1.0399595140597624\n",
      "La raíz 91-ésima de 34.0 es: 1.0395118360641664\n",
      "La raíz 92-ésima de 34.0 es: 1.0390740766756488\n",
      "La raíz 93-ésima de 34.0 es: 1.0386459099132483\n",
      "La raíz 94-ésima de 34.0 es: 1.038227023924389\n",
      "La raíz 95-ésima de 34.0 es: 1.037817120227739\n",
      "La raíz 96-ésima de 34.0 es: 1.0374159130042415\n",
      "La raíz 97-ésima de 34.0 es: 1.0370231284327733\n",
      "La raíz 98-ésima de 34.0 es: 1.0366385040671935\n",
      "La raíz 99-ésima de 34.0 es: 1.0362617882518037\n"
     ]
    }
   ],
   "source": [
    "#118 programa que al ingresar un numero muestre la raiz n-esima de un numero tomando valores entre 2 y 100\n",
    "numero = float(input(\"Ingrese un número: \"))\n",
    "for i in range(2,100):\n",
    "    resultado = numero ** (1/i)\n",
    "    print(f\"La raíz {i}-ésima de {numero} es: {resultado}\")\n",
    "\n"
   ]
  },
  {
   "cell_type": "code",
   "execution_count": 20,
   "id": "b1803e03",
   "metadata": {},
   "outputs": [
    {
     "name": "stdout",
     "output_type": "stream",
     "text": [
      "[0, 2, 4, 6, 8, 10, 12, 14, 16, 18, 20, 22, 24, 26, 28, 30, 32, 34, 36, 38, 40, 42, 44, 46, 48, 50, 52, 54, 56, 58, 60, 62, 64, 66, 68, 70, 72, 74, 76, 78, 80, 82, 84, 86, 88, 90, 92, 94, 96, 98, 100, 102, 104, 106, 108, 110, 112, 114, 116, 118, 120, 122, 124, 126, 128, 130, 132, 134, 136, 138, 140, 142, 144, 146, 148, 150, 152, 154, 156, 158, 160, 162, 164, 166, 168, 170, 172, 174, 176, 178, 180, 182, 184, 186, 188, 190, 192, 194, 196, 198]\n"
     ]
    }
   ],
   "source": [
    "#119 Program que muestre, en lineas independientes todos los numeros pares comprendidos entre 0 y 200 ambos inclusive\n",
    "vacia = []\n",
    "for i in range(0, 200):\n",
    "   if i % 2 == 0:\n",
    "      vacia.append(i)\n",
    "print(vacia)"
   ]
  },
  {
   "cell_type": "code",
   "execution_count": 23,
   "id": "c55bcfa1",
   "metadata": {},
   "outputs": [
    {
     "name": "stdout",
     "output_type": "stream",
     "text": [
      "[200, 198, 196, 194, 192, 190, 188, 186, 184, 182, 180, 178, 176, 174, 172, 170, 168, 166, 164, 162, 160, 158, 156, 154, 152, 150, 148, 146, 144, 142, 140, 138, 136, 134, 132, 130, 128, 126, 124, 122, 120, 118, 116, 114, 112, 110, 108, 106, 104, 102, 100, 98, 96, 94, 92, 90, 88, 86, 84, 82, 80, 78, 76, 74, 72, 70, 68, 66, 64, 62, 60, 58, 56, 54, 52, 50, 48, 46, 44, 42, 40, 38, 36, 34, 32, 30, 28, 26, 24, 22, 20, 18, 16, 14, 12, 10, 8, 6, 4, 2, 0]\n"
     ]
    }
   ],
   "source": [
    "#120 Programa que muestre, en lineas independientes y en orden inverso todos los numeros pares comprendidos entre 0 y 200\n",
    "reversa = []\n",
    "for i in range(200,-1,-1):\n",
    "   if i % 2 == 0:\n",
    "      reversa.append(i)\n",
    "print(reversa)\n"
   ]
  },
  {
   "cell_type": "code",
   "execution_count": 24,
   "id": "caa0a957",
   "metadata": {},
   "outputs": [
    {
     "name": "stdout",
     "output_type": "stream",
     "text": [
      "2\n",
      "4\n",
      "6\n"
     ]
    }
   ],
   "source": [
    "#121 programa en la que asignas un numero al rango\n",
    "rango = int(input(\"Hasta donde:\"))\n",
    "for i in range(2, rango):\n",
    "   if i % 2 == 0:\n",
    "      print(i)"
   ]
  },
  {
   "cell_type": "code",
   "execution_count": 26,
   "id": "0eb3daf3",
   "metadata": {},
   "outputs": [
    {
     "name": "stdout",
     "output_type": "stream",
     "text": [
      "5050\n"
     ]
    }
   ],
   "source": [
    "#122 Programa que pida dos valores n y m y muestre la sumatoria\n",
    "n = int(input(\"Valor de n: \"))\n",
    "m = int(input(\"Valor de m: \"))\n",
    "suma = 0\n",
    "for i in range(n, m+1):\n",
    "   suma += i\n",
    "print(suma)"
   ]
  },
  {
   "cell_type": "code",
   "execution_count": 1,
   "id": "9dabb922",
   "metadata": {},
   "outputs": [
    {
     "name": "stdout",
     "output_type": "stream",
     "text": [
      "338065\n"
     ]
    }
   ],
   "source": [
    "#123 Programa que pida dos valores n y m y muestre la el producto elevadoa 2\n",
    "n = int(input(\"Valor de n: \"))\n",
    "m = int(input(\"Valor de m: \"))\n",
    "producto = 0\n",
    "for i in range(n, m+1):\n",
    "   producto += i**2\n",
    "print(producto)"
   ]
  },
  {
   "cell_type": "code",
   "execution_count": 3,
   "id": "c617dd82",
   "metadata": {},
   "outputs": [
    {
     "name": "stdout",
     "output_type": "stream",
     "text": [
      "30\n"
     ]
    }
   ],
   "source": [
    "#124 Programa el sumatorio de todos los numeros pares que tu ingreses un n y m\n",
    "n = int(input(\"Valor de n: \"))\n",
    "m = int(input(\"Valor de m: \"))\n",
    "suma = 0\n",
    "for i in range(n, m+1):\n",
    "   if i % 2 == 0:\n",
    "      suma += i\n",
    "print(suma)"
   ]
  },
  {
   "cell_type": "code",
   "execution_count": 1,
   "id": "1a94e70a",
   "metadata": {},
   "outputs": [
    {
     "name": "stdout",
     "output_type": "stream",
     "text": [
      "7 entre 2 es 3 con resto 1\n",
      "7 entre 3 es 2 con resto 1\n",
      "7 entre 4 es 1 con resto 3\n",
      "7 entre 5 es 1 con resto 2\n",
      "7 entre 6 es 1 con resto 1\n"
     ]
    }
   ],
   "source": [
    "numero = 7\n",
    "for divisor in range(2, numero):\n",
    "   print(f\"{numero} entre {divisor} es {numero//divisor} con resto {numero%divisor}\")"
   ]
  },
  {
   "cell_type": "code",
   "execution_count": 10,
   "id": "41dff3ef",
   "metadata": {},
   "outputs": [
    {
     "name": "stdout",
     "output_type": "stream",
     "text": [
      "El numero 2 es primo\n"
     ]
    }
   ],
   "source": [
    "#125 Programa que determina si es un numero es primo\n",
    "numero = 2\n",
    "creo_que_es_primo = True\n",
    "for i in range(2, numero):\n",
    "   if numero % i == 0:\n",
    "      creo_que_es_primo = False\n",
    "if creo_que_es_primo:\n",
    "   print(f\"El numero {numero} es primo\")\n",
    "else:\n",
    "   print(f\"El numero {numero} no es primo\")"
   ]
  },
  {
   "cell_type": "code",
   "execution_count": 6,
   "id": "604c97ed",
   "metadata": {},
   "outputs": [
    {
     "name": "stdout",
     "output_type": "stream",
     "text": [
      "El numero 4 es primo\n"
     ]
    }
   ],
   "source": [
    "numero = 4\n",
    "creo_que_es_primo = True\n",
    "for i in range(2, numero):\n",
    "   if numero % i == 0:\n",
    "      creo_que_es_primo = False\n",
    "   #Este else esta demas por que al final toma este valor y numero como 4 y 8 ponen que son numeros primos\n",
    "   else:\n",
    "      creo_que_es_primo = True\n",
    "if creo_que_es_primo:\n",
    "   print(f\"El numero {numero} es primo\")\n",
    "else:\n",
    "   print(f\"El numero {numero} no es primo\")"
   ]
  },
  {
   "cell_type": "code",
   "execution_count": 14,
   "id": "3d639c22",
   "metadata": {},
   "outputs": [
    {
     "name": "stdout",
     "output_type": "stream",
     "text": [
      "el numero 5 es primo\n"
     ]
    }
   ],
   "source": [
    "#126 Otro programa que determina si es primo y que el numero que se introduzca sea mayor de 1\n",
    "numero = int(input(\"Dame un numero: \"))\n",
    "if numero > 1:\n",
    "   creo_que_es_primo = True\n",
    "else:\n",
    "   creo_que_es_primo = False\n",
    "\n",
    "for i in range(2, numero):\n",
    "   if numero % 2 == 0:\n",
    "      creo_que_es_primo = False\n",
    "\n",
    "if creo_que_es_primo:\n",
    "   print(f\"el numero {numero} es primo\")\n",
    "else:\n",
    "   print(f\"El numero {numero} no es primo\")"
   ]
  },
  {
   "cell_type": "code",
   "execution_count": 2,
   "id": "ca619d6a",
   "metadata": {},
   "outputs": [
    {
     "name": "stdout",
     "output_type": "stream",
     "text": [
      "El numero 125 no es primo\n"
     ]
    }
   ],
   "source": [
    "#127 - 128 Programa que haremos una trasa para el numero 125\n",
    "numero = int(input(\"Dame un numero: \"))\n",
    "if numero > 1:\n",
    "   creo_que_es_primo = True\n",
    "   divisor = 2\n",
    "   while divisor < numero:\n",
    "      if numero % divisor == 0:\n",
    "         creo_que_es_primo = False\n",
    "      divisor += 1\n",
    "else:\n",
    "   creo_que_es_primo = False\n",
    "\n",
    "if creo_que_es_primo:\n",
    "   print(f\"El numero {numero} es primo\")\n",
    "else:\n",
    "   print(f\"El numero {numero} no es primo\")"
   ]
  },
  {
   "cell_type": "code",
   "execution_count": 1,
   "id": "c087257e",
   "metadata": {},
   "outputs": [
    {
     "name": "stdout",
     "output_type": "stream",
     "text": [
      "Seg 0\n",
      "Resultado 4\n"
     ]
    }
   ],
   "source": [
    "#129 Programa que calcula el maximo comun divisor entre dos numeros enteros positivos\n",
    "pri = int(input(\"Primer Numero: \"))\n",
    "seg = int(input(\"Segundo Numero: \"))\n",
    "\n",
    "while seg != 0:\n",
    "   temp = seg\n",
    "   seg = pri % seg\n",
    "   print(f\"Seg {seg}\")\n",
    "   # 8\n",
    "   # 4\n",
    "   # 0\n",
    "   pri = temp\n",
    "\n",
    "\n",
    "print(f\"Resultado {pri}\")"
   ]
  },
  {
   "cell_type": "markdown",
   "id": "21ed039e",
   "metadata": {},
   "source": [
    "# 4.2.8 Rotura de bucles: break"
   ]
  },
  {
   "cell_type": "code",
   "execution_count": 4,
   "id": "13c8ff5c",
   "metadata": {},
   "outputs": [
    {
     "name": "stdout",
     "output_type": "stream",
     "text": [
      "El numero -10 no es primo\n"
     ]
    }
   ],
   "source": [
    "#131 programa que se hara una traza para el valor de 125\n",
    "numero = int(input(\"Ingrese un numero: \"))\n",
    "if numero > 0:\n",
    "   creo_que_es_primo = True\n",
    "   for divisor in range(2, numero):\n",
    "      if (numero % divisor == 0):\n",
    "         creo_que_es_primo = False\n",
    "         break\n",
    "else:\n",
    "   creo_que_es_primo = False\n",
    "\n",
    "if creo_que_es_primo:\n",
    "   print(f\"El numero {numero} es primo\")\n",
    "else:\n",
    "   print(f\"El numero {numero} no es primo\")\n"
   ]
  },
  {
   "cell_type": "code",
   "execution_count": 6,
   "id": "e5c01bff",
   "metadata": {},
   "outputs": [
    {
     "name": "stdout",
     "output_type": "stream",
     "text": [
      "El numero 5 es primo\n"
     ]
    }
   ],
   "source": [
    "#132 Programa que con saber en la mitad del numero ya nos podemos dar cuenta que no es primo\n",
    "#Por que no hace falta recorrer todo\n",
    "numero = int(input(\"Ingrese un numero: \"))\n",
    "if numero > 0:\n",
    "   creo_que_es_primo = True\n",
    "   for divisor in range(2, numero//2):\n",
    "      if (numero % divisor == 0):\n",
    "         creo_que_es_primo = False\n",
    "         break\n",
    "else:\n",
    "   creo_que_es_primo = False\n",
    "\n",
    "if creo_que_es_primo:\n",
    "   print(f\"El numero {numero} es primo\")\n",
    "else:\n",
    "   print(f\"El numero {numero} no es primo\")"
   ]
  },
  {
   "cell_type": "code",
   "execution_count": 10,
   "id": "d74fc64b",
   "metadata": {},
   "outputs": [
    {
     "name": "stdout",
     "output_type": "stream",
     "text": [
      "El numero 8 es primo\n"
     ]
    }
   ],
   "source": [
    "#133 program que explora el rango de numeros entre 2 y la parte entera de raiz de n\n",
    "from math import sqrt\n",
    "numero = int(input(\"Ingrese un numero: \"))\n",
    "n = sqrt(numero)\n",
    "if n > 0:\n",
    "   creo_que_es_primo = True\n",
    "   for divisor in range(2,  int(n)):\n",
    "      if (n % divisor == 0):\n",
    "         creo_que_es_primo = False\n",
    "         break\n",
    "if creo_que_es_primo:\n",
    "   print(f\"El numero {numero} es primo\")\n",
    "else:\n",
    "   print(f\"El numero {numero} no es primo\")\n"
   ]
  },
  {
   "cell_type": "code",
   "execution_count": 11,
   "id": "8baa0351",
   "metadata": {},
   "outputs": [
    {
     "name": "stdout",
     "output_type": "stream",
     "text": [
      "16\n",
      "2\n",
      "3\n",
      "5\n",
      "7\n",
      "11\n",
      "13\n"
     ]
    }
   ],
   "source": [
    "limite = int(input(\"Dame un numero: \"))\n",
    "print(limite)\n",
    "for numero in range(2, limite+1):\n",
    "   creo_que_es_primo = True\n",
    "   for divisor in range(2, numero):\n",
    "      if numero % divisor == 0:\n",
    "         creo_que_es_primo = False\n",
    "         break\n",
    "   if creo_que_es_primo:\n",
    "      print(numero)\n",
    "\n"
   ]
  },
  {
   "cell_type": "code",
   "execution_count": 29,
   "id": "9bc6b2db",
   "metadata": {},
   "outputs": [
    {
     "name": "stdout",
     "output_type": "stream",
     "text": [
      "0 0\n",
      "0 1\n",
      "0 2\n",
      "1 0\n",
      "1 1\n",
      "1 2\n",
      "2 0\n",
      "2 1\n",
      "2 2\n",
      "3 0\n",
      "3 1\n",
      "3 2\n",
      "4 0\n",
      "4 1\n",
      "4 2\n"
     ]
    }
   ],
   "source": [
    "#134 Programa con mas de dos for\n",
    "for i in range(0, 5):\n",
    "   for j in range(0, 3):\n",
    "      print(i, j)"
   ]
  },
  {
   "cell_type": "code",
   "execution_count": 13,
   "id": "70206eac",
   "metadata": {},
   "outputs": [
    {
     "name": "stdout",
     "output_type": "stream",
     "text": [
      "0\n",
      "1\n",
      "2\n",
      "0\n",
      "1\n",
      "2\n",
      "0\n",
      "1\n",
      "2\n",
      "0\n",
      "1\n",
      "2\n",
      "0\n",
      "1\n",
      "2\n"
     ]
    }
   ],
   "source": [
    "for i in range(0, 5):\n",
    "   for i in range(0, 3):\n",
    "      print(i)"
   ]
  },
  {
   "cell_type": "code",
   "execution_count": 34,
   "id": "47570650",
   "metadata": {},
   "outputs": [
    {
     "name": "stdout",
     "output_type": "stream",
     "text": [
      "0 0\n",
      "0 1\n",
      "0 2\n",
      "1 0\n",
      "1 1\n",
      "1 2\n",
      "2 0\n",
      "2 1\n",
      "2 2\n",
      "3 0\n",
      "3 1\n",
      "3 2\n",
      "4 0\n",
      "4 1\n",
      "4 2\n"
     ]
    }
   ],
   "source": [
    "# 2) \n",
    "for i in range(0, 5):\n",
    "   for j in range(0, 3):\n",
    "      print(i, j)"
   ]
  },
  {
   "cell_type": "code",
   "execution_count": 35,
   "id": "733259d2",
   "metadata": {},
   "outputs": [
    {
     "name": "stdout",
     "output_type": "stream",
     "text": [
      "1 0\n",
      "2 0\n",
      "2 1\n",
      "3 0\n",
      "3 1\n",
      "3 2\n",
      "4 0\n",
      "4 1\n",
      "4 2\n",
      "4 3\n"
     ]
    }
   ],
   "source": [
    "# 3)\n",
    "for i in range(0, 5):\n",
    "   for j in range(0, i):\n",
    "      print(i, j)"
   ]
  },
  {
   "cell_type": "code",
   "execution_count": 36,
   "id": "8e392af2",
   "metadata": {},
   "outputs": [
    {
     "name": "stdout",
     "output_type": "stream",
     "text": [
      "0 0 0\n",
      "0 0 1\n",
      "0 1 0\n",
      "0 1 1\n",
      "0 2 0\n",
      "0 2 1\n",
      "0 3 0\n",
      "0 3 1\n",
      "1 0 0\n",
      "1 0 1\n",
      "1 1 0\n",
      "1 1 1\n",
      "1 2 0\n",
      "1 2 1\n",
      "1 3 0\n",
      "1 3 1\n",
      "2 0 0\n",
      "2 0 1\n",
      "2 1 0\n",
      "2 1 1\n",
      "2 2 0\n",
      "2 2 1\n",
      "2 3 0\n",
      "2 3 1\n",
      "3 0 0\n",
      "3 0 1\n",
      "3 1 0\n",
      "3 1 1\n",
      "3 2 0\n",
      "3 2 1\n",
      "3 3 0\n",
      "3 3 1\n"
     ]
    }
   ],
   "source": [
    "# 4)\n",
    "for i in range(0, 4):\n",
    "   for j in range(0, 4):\n",
    "      for k in range(0, 2):\n",
    "         print(i, j, k)"
   ]
  },
  {
   "cell_type": "code",
   "execution_count": 37,
   "id": "d65ba643",
   "metadata": {},
   "outputs": [
    {
     "name": "stdout",
     "output_type": "stream",
     "text": [
      "0 1 0\n",
      "0 2 0\n",
      "0 2 1\n",
      "0 3 0\n",
      "0 3 1\n",
      "0 3 2\n",
      "1 2 1\n",
      "1 3 1\n",
      "1 3 2\n",
      "2 3 2\n"
     ]
    }
   ],
   "source": [
    "# 5)\n",
    "for i in range(0, 4):\n",
    "   for j in range(0,4):\n",
    "      for k in range(i, j):\n",
    "         print(i, j, k)"
   ]
  },
  {
   "cell_type": "code",
   "execution_count": 1,
   "id": "2f952f0f",
   "metadata": {},
   "outputs": [
    {
     "name": "stdout",
     "output_type": "stream",
     "text": [
      "1 0\n",
      "1 1\n",
      "1 2\n",
      "1 3\n",
      "1 4\n",
      "1 5\n",
      "1 6\n",
      "1 7\n",
      "1 8\n",
      "1 9\n",
      "2 0\n",
      "2 2\n",
      "2 4\n",
      "2 6\n",
      "2 8\n",
      "3 0\n",
      "3 3\n",
      "3 6\n",
      "3 9\n",
      "4 0\n",
      "4 4\n",
      "4 8\n"
     ]
    }
   ],
   "source": [
    "# 6)\n",
    "for i in range(1, 5):\n",
    "   for j in range(0, 10, i):\n",
    "      print(i, j)"
   ]
  },
  {
   "cell_type": "code",
   "execution_count": 4,
   "id": "b330a2ce",
   "metadata": {},
   "outputs": [
    {
     "name": "stdout",
     "output_type": "stream",
     "text": [
      "La ecuacion tiene infinitas soluciones\n"
     ]
    }
   ],
   "source": [
    "a = float(input(\"Valor de a: \"))\n",
    "b = float(input(\"Valor de b: \"))\n",
    "try:\n",
    "   x = -b/a\n",
    "   print(f\"Solucion: {x}\")\n",
    "except:\n",
    "   if b != 0:\n",
    "      print(\"La ecuacion no tiene solucion\")\n",
    "   else:\n",
    "      print(\"La ecuacion tiene infinitas soluciones\")"
   ]
  },
  {
   "cell_type": "code",
   "execution_count": 7,
   "id": "5861b25b",
   "metadata": {},
   "outputs": [
    {
     "name": "stdout",
     "output_type": "stream",
     "text": [
      "Soluciones: x1=-1.0 y x2=-2.0\n"
     ]
    }
   ],
   "source": [
    "from math import sqrt\n",
    "\n",
    "a = float(input(\"Valor de a: \"))\n",
    "b = float(input(\"Valor de b: \"))\n",
    "c = float(input(\"Valor de c: \"))\n",
    "\n",
    "try:\n",
    "   x1 = (-b+sqrt(b**2-4*a*c))/(2*a)\n",
    "   x2 = (-b-sqrt(b**2-4*a*c))/(2*a)\n",
    "   if x1 == x2:\n",
    "      print(f\"Solucion: {x1}\")\n",
    "   else:\n",
    "      print(f\"Soluciones: x1={x1} y x2={x2}\")\n",
    "except ZeroDivisionError:\n",
    "   if b != 0:\n",
    "      print(\"La ecuacion no tiene solucion\")\n",
    "   else:\n",
    "      print(\"La ecuacion tiene infinitas soluciones\")\n",
    "except ValueError:\n",
    "   print(\"No hay soluciones reales\")\n",
    "\n",
    "\n"
   ]
  }
 ],
 "metadata": {
  "kernelspec": {
   "display_name": "Python 3 (ipykernel)",
   "language": "python",
   "name": "python3"
  },
  "language_info": {
   "codemirror_mode": {
    "name": "ipython",
    "version": 3
   },
   "file_extension": ".py",
   "mimetype": "text/x-python",
   "name": "python",
   "nbconvert_exporter": "python",
   "pygments_lexer": "ipython3",
   "version": "3.1.undefined"
  }
 },
 "nbformat": 4,
 "nbformat_minor": 5
}
