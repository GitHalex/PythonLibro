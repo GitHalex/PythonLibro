{
 "cells": [
  {
   "cell_type": "code",
   "execution_count": 2,
   "id": "a480f13f",
   "metadata": {},
   "outputs": [
    {
     "name": "stdout",
     "output_type": "stream",
     "text": [
      "Salio\n"
     ]
    }
   ],
   "source": [
    "#98 Programa de repitacion dada un inicio y limite\n",
    "i = int(input(\"Valor inicial: \"))\n",
    "limite = int(input(\"Limite: \"))\n",
    "while i < limite:\n",
    "   print(i)\n",
    "   i += 1\n",
    "print(\"Salio\")"
   ]
  },
  {
   "cell_type": "code",
   "execution_count": null,
   "id": "0af3fdd4",
   "metadata": {},
   "outputs": [],
   "source": [
    "#99 Programa que determine el inicio y limite de los valores y dado tambien un incremento\n"
   ]
  }
 ],
 "metadata": {
  "kernelspec": {
   "display_name": "Python 3 (ipykernel)",
   "language": "python",
   "name": "python3"
  },
  "language_info": {
   "codemirror_mode": {
    "name": "ipython",
    "version": 3
   },
   "file_extension": ".py",
   "mimetype": "text/x-python",
   "name": "python",
   "nbconvert_exporter": "python",
   "pygments_lexer": "ipython3",
   "version": "3.10.9"
  }
 },
 "nbformat": 4,
 "nbformat_minor": 5
}
