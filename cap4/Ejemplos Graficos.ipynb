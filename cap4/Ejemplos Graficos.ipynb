{
 "cells": [
  {
   "cell_type": "code",
   "execution_count": 1,
   "id": "4433969c",
   "metadata": {},
   "outputs": [],
   "source": [
    "from turtle import Screen, Turtle\n",
    "from math import sin, pi\n",
    "\n",
    "pantalla = Screen()\n",
    "pantalla.setup(825, 425)\n",
    "pantalla.screensize(800, 400)\n",
    "pantalla.setworldcoordinates(-2*pi, -1, 2*pi, 1)\n",
    "\n",
    "tortuga = Turtle()\n",
    "tortuga.penup()\n",
    "tortuga.goto(-2*pi, sin(-2*pi))\n",
    "tortuga.pendown()\n",
    "tortuga.goto(-1.5*pi, sin(-1.5*pi))\n",
    "tortuga.goto(-1*pi, sin(-1*pi))\n",
    "tortuga.goto(-0.5*pi, sin(-0.5*pi))\n",
    "\n",
    "tortuga.goto(0, sin(0))\n",
    "\n",
    "tortuga.goto(0.5*pi, sin(0.5*pi))\n",
    "tortuga.goto(1*pi, sin(1*pi))\n",
    "tortuga.goto(1.5*pi, sin(1.5*pi))\n",
    "tortuga.goto(2*pi, sin(2*pi))\n",
    "\n",
    "pantalla.exitonclick()"
   ]
  },
  {
   "cell_type": "code",
   "execution_count": 1,
   "id": "613e918b",
   "metadata": {},
   "outputs": [],
   "source": [
    "from turtle import Screen, Turtle\n",
    "from math import sin, pi\n",
    "\n",
    "pantalla = Screen()\n",
    "pantalla.setup(825, 425)\n",
    "pantalla.screensize(800, 400)\n",
    "pantalla.setworldcoordinates(-2*pi, -1, 2*pi, 1)\n",
    "\n",
    "tortuga = Turtle()\n",
    "\n",
    "x = -2*pi\n",
    "dx = 4*pi / 800\n",
    "tortuga.penup()\n",
    "tortuga.goto(x, sin(x))\n",
    "tortuga.pendown()\n",
    "while x <= 2*pi:\n",
    "   tortuga.goto(x, sin(x))\n",
    "   x += dx\n",
    "\n",
    "pantalla.exitonclick()"
   ]
  },
  {
   "cell_type": "code",
   "execution_count": 1,
   "id": "7692688c",
   "metadata": {},
   "outputs": [],
   "source": [
    "from turtle import Screen, Turtle\n",
    "from math import sin, pi\n",
    "\n",
    "x1 = float(input(\"Dime el limite inferior del intervalo: \"))\n",
    "x2 = float(input(\"Dime el limite superior del intervalo: \"))\n",
    "puntos = int(input(\"Dime cuantos puntos he de mostrar: \"))\n",
    "\n",
    "pantalla = Screen()\n",
    "pantalla.setup(825, 425)\n",
    "pantalla.screensize(800, 400)\n",
    "pantalla.setworldcoordinates(x1, -1, x2, 1)\n",
    "\n",
    "tortuga = Turtle()\n",
    "\n",
    "x = x1\n",
    "dx = (x2-x1)/ 800\n",
    "tortuga.penup()\n",
    "tortuga.goto(x, sin(x))\n",
    "tortuga.pendown()\n",
    "while x <= x2:\n",
    "   tortuga.goto(x, sin(x))\n",
    "   x += dx\n",
    "\n",
    "pantalla.exitonclick()"
   ]
  },
  {
   "cell_type": "code",
   "execution_count": null,
   "id": "87dd63f8",
   "metadata": {},
   "outputs": [],
   "source": []
  }
 ],
 "metadata": {
  "kernelspec": {
   "display_name": "Python 3 (ipykernel)",
   "language": "python",
   "name": "python3"
  },
  "language_info": {
   "codemirror_mode": {
    "name": "ipython",
    "version": 3
   },
   "file_extension": ".py",
   "mimetype": "text/x-python",
   "name": "python",
   "nbconvert_exporter": "python",
   "pygments_lexer": "ipython3",
   "version": "3.10.9"
  }
 },
 "nbformat": 4,
 "nbformat_minor": 5
}
