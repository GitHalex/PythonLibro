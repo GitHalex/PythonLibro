{
 "cells": [
  {
   "cell_type": "code",
   "execution_count": 3,
   "id": "216ba2d4",
   "metadata": {},
   "outputs": [
    {
     "name": "stdout",
     "output_type": "stream",
     "text": [
      "Perimetro 12\n",
      "Area: 9\n"
     ]
    }
   ],
   "source": [
    "#32\n",
    "lado = 3\n",
    "perimetro = lado + lado + lado + lado\n",
    "area = lado*lado\n",
    "\n",
    "print(f\"Perimetro {perimetro}\")\n",
    "print(f\"Area: {area}\")"
   ]
  },
  {
   "cell_type": "code",
   "execution_count": 2,
   "id": "ac3bb1ad",
   "metadata": {},
   "outputs": [
    {
     "name": "stdout",
     "output_type": "stream",
     "text": [
      "7.5\n"
     ]
    }
   ],
   "source": [
    "#33\n",
    "base = 3\n",
    "altura = 5\n",
    "area_triangulo = (base*altura)/2\n",
    "\n",
    "print(area_triangulo)"
   ]
  },
  {
   "cell_type": "code",
   "execution_count": 4,
   "id": "ba0f8f5b",
   "metadata": {},
   "outputs": [
    {
     "name": "stdout",
     "output_type": "stream",
     "text": [
      "Perimetro: 20 metros ---- Area: 24 metros cuadrados\n"
     ]
    }
   ],
   "source": [
    "#34\n",
    "ancho = 4\n",
    "alto = 6\n",
    "perimetro = ancho*2 + alto*2\n",
    "area = ancho*alto\n",
    "\n",
    "print(f\"Perimetro: {perimetro} metros ---- Area: {area} metros cuadrados\")"
   ]
  },
  {
   "attachments": {},
   "cell_type": "markdown",
   "id": "daed2dba",
   "metadata": {},
   "source": [
    "# Entrada/Salida Lectura de datos de teclado"
   ]
  },
  {
   "cell_type": "code",
   "execution_count": 1,
   "id": "c707c692",
   "metadata": {},
   "outputs": [
    {
     "name": "stdout",
     "output_type": "stream",
     "text": [
      "4.189\n",
      "1.3333333333333333\n",
      "4.188779732810879\n"
     ]
    }
   ],
   "source": [
    "from math import pi\n",
    "radio = 1\n",
    "volumen = 4/3*pi*radio**3\n",
    "\n",
    "print(round(volumen, 3))\n",
    "print(4/3)\n",
    "print(1.33333*pi*radio**3)"
   ]
  },
  {
   "cell_type": "code",
   "execution_count": 14,
   "id": "7dcbdea4",
   "metadata": {},
   "outputs": [
    {
     "name": "stdout",
     "output_type": "stream",
     "text": [
      "33.510321638291124\n"
     ]
    }
   ],
   "source": [
    "cadena_leida = input(\"Dame el radio: \")\n",
    "radio = float(cadena_leida)\n",
    "\n",
    "volumen = 4/3*pi*radio**3\n",
    "\n",
    "print(volumen)"
   ]
  },
  {
   "cell_type": "code",
   "execution_count": 5,
   "id": "b2066910",
   "metadata": {},
   "outputs": [
    {
     "name": "stdout",
     "output_type": "stream",
     "text": [
      "Perimetro: 8.0--- Area: 4.0\n"
     ]
    }
   ],
   "source": [
    "#35\n",
    "lado = float(input(\"Ingrese un lado del cuadrado: \"))\n",
    "\n",
    "perimetro = lado + lado +lado +lado\n",
    "area = lado*lado\n",
    "\n",
    "print(f\"Perimetro: {perimetro}--- Area: {area}\")"
   ]
  },
  {
   "cell_type": "code",
   "execution_count": 6,
   "id": "8412b3e4",
   "metadata": {},
   "outputs": [
    {
     "name": "stdout",
     "output_type": "stream",
     "text": [
      "Perimetro: 10.0--- Area: 6.0\n"
     ]
    }
   ],
   "source": [
    "#36\n",
    "base = float(input(\"Ingrese un base: \"))\n",
    "altura = float(input(\"Ingrese su altura: \"))\n",
    "\n",
    "per = base*2 + altura*2\n",
    "area = base*altura\n",
    "\n",
    "print(f\"Perimetro: {per}--- Area: {area}\")"
   ]
  },
  {
   "cell_type": "code",
   "execution_count": 20,
   "id": "cdc14ffb",
   "metadata": {},
   "outputs": [
    {
     "name": "stdout",
     "output_type": "stream",
     "text": [
      "Area del triangulo: 500.0\n"
     ]
    }
   ],
   "source": [
    "#37\n",
    "base = float(input(\"Ingrese un base: \"))\n",
    "altura = float(input(\"Ingrese su altura: \"))\n",
    "\n",
    "area_triangulo = base*altura/2\n",
    "\n",
    "print(f\"Area del triangulo: {area_triangulo}\")"
   ]
  },
  {
   "cell_type": "code",
   "execution_count": 7,
   "id": "6048959d",
   "metadata": {},
   "outputs": [
    {
     "name": "stdout",
     "output_type": "stream",
     "text": [
      "Perimetro: 14.0 ------ Area: (7.896835553756964e-15+128.96511156122807j)\n",
      "3.0\n"
     ]
    }
   ],
   "source": [
    "#38\n",
    "from math import sqrt\n",
    "\n",
    "# Programa que calcula el area y perimetro de un triangulo\n",
    "a = float(input(\"a: \"))\n",
    "b = float(input(\"b: \"))\n",
    "c = float(input(\"c: \"))\n",
    "\n",
    "#formula para calcular el perimetro\n",
    "s = (a+b+c)/2\n",
    "\n",
    "#formula para calcular el area\n",
    "area = (s*(s-a)*(s-b)*(s-c))**0.5\n",
    "\n",
    "print(f\"Perimetro: {s} ------ Area: {area}\")\n",
    "print(sqrt(9))"
   ]
  },
  {
   "cell_type": "code",
   "execution_count": 2,
   "id": "ec700046",
   "metadata": {},
   "outputs": [
    {
     "name": "stdout",
     "output_type": "stream",
     "text": [
      "0.5\n"
     ]
    }
   ],
   "source": [
    "#39\n",
    "from math import sin, radians\n",
    "#Programa que culculo el area de un triangulo apartir de su angulo\n",
    "a = float(input(\"a: \"))\n",
    "b = float(input(\"b: \"))\n",
    "angulo = float(input(\"Ingresa un angulo\"))\n",
    "# radians es una metodo del modulo math\n",
    "angulo_radianes = radians(angulo)\n",
    "#furmula para calcular el area\n",
    "areaTriangulo =  (a*b*sin(angulo_radianes))/2\n",
    "print(round(areaTriangulo, 2))"
   ]
  },
  {
   "cell_type": "code",
   "execution_count": 11,
   "id": "3052cf51",
   "metadata": {},
   "outputs": [
    {
     "name": "stdout",
     "output_type": "stream",
     "text": [
      "24117.14 $\n"
     ]
    }
   ],
   "source": [
    "#40\n",
    "C = int(input(\"Cantidad de euros: \"))\n",
    "x = float(input(\"Valor de x: \"))\n",
    "n = int(input(\"Cantidad de años: \"))\n",
    "#formula para calcular la cantidad  invertida a partir de su capital\n",
    "res = C*(1+x/100)**n\n",
    "print(round(res, 2), \"$\")"
   ]
  },
  {
   "cell_type": "code",
   "execution_count": 1,
   "id": "ac9b82b6",
   "metadata": {},
   "outputs": [
    {
     "name": "stdout",
     "output_type": "stream",
     "text": [
      "alex alex alex alex \n"
     ]
    }
   ],
   "source": [
    "#41\n",
    "name = input(\"Please input your name: \")\n",
    "res = name+\" \"\n",
    "print(res*4)"
   ]
  },
  {
   "cell_type": "code",
   "execution_count": 1,
   "id": "9fb84a98",
   "metadata": {},
   "outputs": [
    {
     "name": "stdout",
     "output_type": "stream",
     "text": [
      "Area: 18.85   Perimetro: 28.27\n"
     ]
    }
   ],
   "source": [
    "#42\n",
    "from math import pi\n",
    "radio = int(input(\"Ingrese el radio de la circunferencia: \"))\n",
    "#formulas de area y perimetro de la circunferencia\n",
    "area = 2*pi*radio\n",
    "perimetro = pi*radio**2\n",
    "\n",
    "print(f\"Area: {round(area, 2)}   Perimetro: {round(perimetro, 2)}\")\n"
   ]
  },
  {
   "attachments": {},
   "cell_type": "markdown",
   "id": "d85c2d2f",
   "metadata": {},
   "source": [
    "# Graficos de Tortuga"
   ]
  },
  {
   "cell_type": "code",
   "execution_count": 1,
   "id": "07488376",
   "metadata": {},
   "outputs": [],
   "source": [
    "from turtle import Screen, Turtle\n",
    "\n",
    "pantalla = Screen()\n",
    "pantalla.setup(425, 225)\n",
    "pantalla.screensize(400, 200)\n",
    "\n",
    "tortuga = Turtle()\n",
    "tortuga.forward(100)\n",
    "\n",
    "pantalla.exitonclick()"
   ]
  },
  {
   "cell_type": "code",
   "execution_count": 1,
   "id": "d937ccae",
   "metadata": {},
   "outputs": [],
   "source": [
    "#43 Programa un triangulo para dibujar un triangulo equilatero= lados iguales\n",
    "from turtle import Screen, Turtle\n",
    "#Dimensciones de la pantalla y el tamanio de la superficie\n",
    "pantalla = Screen()\n",
    "pantalla.setup(425, 225)\n",
    "pantalla.screensize(400, 200)\n",
    "#Pasos de tortuga para graficar el triangulo\n",
    "tortuga = Turtle()\n",
    "tortuga.pensize(10)\n",
    "tortuga.forward(100)\n",
    "tortuga.left(120)\n",
    "tortuga.forward(100)\n",
    "tortuga.left(120)\n",
    "tortuga.forward(100)\n",
    "pantalla.exitonclick()\n"
   ]
  },
  {
   "cell_type": "code",
   "execution_count": 1,
   "id": "cc847c9c",
   "metadata": {},
   "outputs": [],
   "source": [
    "#44 Programa para dibujar un cuadrado y dentro del cuadrado otro cuadrado pequeño\n",
    "from turtle import Screen, Turtle\n",
    "#Dimensciones de la pantalla y el tamanio de la superficie\n",
    "pantalla = Screen()\n",
    "pantalla.setup(425, 425)\n",
    "pantalla.screensize(400, 350)\n",
    "#Cuadrado interno\n",
    "tortuga = Turtle()\n",
    "tortuga.pensize(5)\n",
    "tortuga.pencolor(\"red\")\n",
    "tortuga.forward(200)\n",
    "tortuga.left(90)\n",
    "tortuga.forward(200)\n",
    "tortuga.left(90)\n",
    "tortuga.forward(200)\n",
    "tortuga.left(90)\n",
    "tortuga.forward(200)\n",
    "#Cuadrado externo\n",
    "tortuga.penup()\n",
    "tortuga.left(135)\n",
    "tortuga.forward(70)\n",
    "tortuga.pendown()\n",
    "\n",
    "tortuga.pensize(2)\n",
    "tortuga.pencolor(\"blue\")\n",
    "tortuga.right(45)\n",
    "tortuga.forward(100)\n",
    "tortuga.left(90)\n",
    "tortuga.forward(100)\n",
    "tortuga.left(90)\n",
    "tortuga.forward(100)\n",
    "tortuga.left(90)\n",
    "tortuga.forward(100)\n",
    "\n",
    "pantalla.exitonclick()"
   ]
  },
  {
   "cell_type": "code",
   "execution_count": 1,
   "id": "422abc77",
   "metadata": {},
   "outputs": [],
   "source": [
    "#47 Programa un triangulo para dibujar un triangulo equilatero= lados iguales sin usar left y right\n",
    "from turtle import Screen, Turtle\n",
    "import math\n",
    "\n",
    "# Dimensiones de la pantalla y el tamaño de la superficie\n",
    "pantalla = Screen()\n",
    "pantalla.setup(425, 225)\n",
    "pantalla.screensize(400, 200)\n",
    "\n",
    "# Crear la tortuga\n",
    "tortuga = Turtle()\n",
    "tortuga.pensize(10)\n",
    "\n",
    "# Coordenadas para el triángulo equilátero\n",
    "side_length = 100\n",
    "height = (math.sqrt(3) / 2) * side_length\n",
    "\n",
    "# Puntos del triángulo\n",
    "point1 = (0, 0)\n",
    "point2 = (side_length, 0)\n",
    "point3 = (side_length / 2, height)\n",
    "\n",
    "# Dibujar el triángulo usando métodos sugeridos\n",
    "tortuga.penup()\n",
    "tortuga.goto(point1)\n",
    "tortuga.pendown()\n",
    "tortuga.goto(point2)\n",
    "tortuga.goto(point3)\n",
    "tortuga.goto(point1)\n",
    "\n",
    "# Esperar clic para cerrar la pantalla\n",
    "pantalla.exitonclick()"
   ]
  },
  {
   "cell_type": "code",
   "execution_count": 1,
   "id": "4a874b59",
   "metadata": {},
   "outputs": [],
   "source": [
    "#47 Programa para dibujar un cuadrado y dentro del cuadrado otro cuadrado pequeño\n",
    "from turtle import Screen, Turtle\n",
    "\n",
    "# Dimensiones de la pantalla y el tamaño de la superficie\n",
    "pantalla = Screen()\n",
    "pantalla.setup(425, 425)\n",
    "pantalla.screensize(400, 350)\n",
    "\n",
    "# Crear la tortuga\n",
    "tortuga = Turtle()\n",
    "tortuga.pensize(5)\n",
    "tortuga.pencolor(\"red\")\n",
    "\n",
    "# Coordenadas para el cuadrado grande\n",
    "cuadrado_grande = [(0, 0), (200, 0), (200, 200), (0, 200)]\n",
    "\n",
    "# Dibujar el cuadrado grande\n",
    "tortuga.penup()\n",
    "tortuga.goto(cuadrado_grande[0])\n",
    "tortuga.pendown()\n",
    "for coord in cuadrado_grande[1:]:\n",
    "    tortuga.goto(coord)\n",
    "tortuga.goto(cuadrado_grande[0])  # Cerrar el cuadrado grande\n",
    "\n",
    "# Mover la tortuga a la posición inicial para el cuadrado pequeño\n",
    "tortuga.penup()\n",
    "tortuga.goto(50, 50)\n",
    "tortuga.pendown()\n",
    "\n",
    "# Cambiar el grosor y el color del lápiz para el cuadrado pequeño\n",
    "tortuga.pensize(2)\n",
    "tortuga.pencolor(\"blue\")\n",
    "\n",
    "# Coordenadas para el cuadrado pequeño\n",
    "cuadrado_pequeno = [(50, 50), (150, 50), (150, 150), (50, 150)]\n",
    "\n",
    "# Dibujar el cuadrado pequeño\n",
    "for coord in cuadrado_pequeno[1:]:\n",
    "    tortuga.goto(coord)\n",
    "tortuga.goto(cuadrado_pequeno[0])  # Cerrar el cuadrado pequeño\n",
    "\n",
    "# Esperar clic para cerrar la pantalla\n",
    "pantalla.exitonclick()"
   ]
  },
  {
   "cell_type": "code",
   "execution_count": 2,
   "id": "a19b49bf",
   "metadata": {},
   "outputs": [],
   "source": [
    "from turtle import Screen, Turtle\n",
    "\n",
    "pantalla = Screen()\n",
    "pantalla.setup(425, 425)\n",
    "pantalla.screensize(400, 400)\n",
    "pantalla.setworldcoordinates(-50,-150, 350, 250)\n",
    "\n",
    "tortuga = Turtle()\n",
    "\n",
    "tortuga.pensize(3)\n",
    "tortuga.dot(10)\n",
    "tortuga.forward(100)\n",
    "tortuga.dot(10)\n",
    "tortuga.forward(100)\n",
    "tortuga.dot(10)\n",
    "tortuga.forward(100)\n",
    "tortuga.dot(10)\n",
    "\n",
    "tortuga.penup()\n",
    "tortuga.goto(0,100)\n",
    "tortuga.pendown()\n",
    "\n",
    "tortuga.pencolor(\"red\")\n",
    "tortuga.pensize(5)\n",
    "tortuga.circle(20)\n",
    "tortuga.forward(50)\n",
    "tortuga.pensize(4)\n",
    "tortuga.left(20)\n",
    "tortuga.circle(20)\n",
    "tortuga.forward(50)\n",
    "tortuga.pensize(3)\n",
    "tortuga.left(20)\n",
    "tortuga.circle(20)\n",
    "tortuga.forward(50)\n",
    "tortuga.pensize(2)\n",
    "tortuga.left(20)\n",
    "tortuga.circle(20)\n",
    "tortuga.forward(50)\n",
    "tortuga.pensize(1)\n",
    "tortuga.left(20)\n",
    "tortuga.circle(20)\n",
    "tortuga.forward(50)\n",
    "\n",
    "tortuga.penup()\n",
    "tortuga.goto(0, -100)\n",
    "tortuga.towards(0,0)\n",
    "\n",
    "tortuga.write('Hola.')\n",
    "tortuga.backward(20)\n",
    "tortuga.write('Adios')\n",
    "\n",
    "pantalla.exitonclick()\n"
   ]
  },
  {
   "cell_type": "code",
   "execution_count": null,
   "id": "0f487194",
   "metadata": {},
   "outputs": [],
   "source": [
    "from turtle import Screen, Turtle\n",
    "\n",
    "#Calificaciones\n",
    "suspensos = int(input(\"Ingrese el porcenteje de Suspensos: \"))\n",
    "aprobados = int(input(\"Ingrese el porcenteje de Aprobados: \"))\n",
    "notables = int(input(\"Ingrese el porcenteje de Notables: \"))\n",
    "sobresalientes = int(input(\"Ingrese el porcenteje de Sobresalientes: \"))\n",
    "\n",
    "#Radio del Circulo\n",
    "radio = 300\n",
    "\n",
    "#Inicializacion\n",
    "pantalla = Screen()\n",
    "tortuga = Turtle()\n",
    "tortuga.speed(7)\n",
    "\n",
    "#Dibujo del circulo Exterior\n",
    "tortuga.penup()\n",
    "tortuga.goto(0, -radio)\n",
    "tortuga.pendown()\n",
    "tortuga.circle(radio)\n",
    "tortuga.penup()\n",
    "tortuga.home()\n",
    "tortuga.pendown()\n",
    "\n",
    "#Dibujo de la linea para los suspensos\n",
    "angulo = 360*suspensos/100\n",
    "tortuga.left(angulo)\n",
    "tortuga.forward(radio)\n",
    "tortuga.backward(radio)\n",
    "\n",
    "#Escribir el texto para los suspensos\n",
    "tortuga.penup()\n",
    "tortuga.right(angulo/2)\n",
    "tortuga.forward(radio/2)\n",
    "tortuga.write(\"Suspensos\")\n",
    "tortuga.backward(radio/2)\n",
    "tortuga.left(angulo/2)\n",
    "tortuga.pendown()\n",
    "\n",
    "#Dibujo de la linea para los aprobados\n",
    "angulo = 360*aprobados/100\n",
    "tortuga.left(angulo)\n",
    "tortuga.forward(radio)\n",
    "tortuga.backward(radio)\n",
    "\n",
    "#Escribir el texto para los aprobados\n",
    "tortuga.penup()\n",
    "tortuga.right(angulo/2)\n",
    "tortuga.forward(radio/2)\n",
    "tortuga.write(\"Aprobados\")\n",
    "tortuga.backward(radio/2)\n",
    "tortuga.left(angulo/2)\n",
    "tortuga.pendown()\n",
    "\n",
    "#Dibujo de la linea para los notables\n",
    "angulo = 360*notables/100\n",
    "tortuga.left(angulo)\n",
    "tortuga.forward(radio)\n",
    "tortuga.backward(radio)\n",
    "\n",
    "#Escribir el texto para los notables\n",
    "tortuga.penup()\n",
    "tortuga.right(angulo/2)\n",
    "tortuga.forward(radio/2)\n",
    "tortuga.write(\"Notables\")\n",
    "tortuga.backward(radio/2)\n",
    "tortuga.left(angulo/2)\n",
    "tortuga.pendown()\n",
    "\n",
    "#Dibujo de la linea para los sobresalientes\n",
    "angulo = 360*sobresalientes/100\n",
    "tortuga.left(angulo)\n",
    "tortuga.forward(radio)\n",
    "tortuga.backward(radio)\n",
    "\n",
    "#Escribir el texto para los suspensos\n",
    "tortuga.penup()\n",
    "tortuga.right(angulo/2)\n",
    "tortuga.forward(radio/2)\n",
    "tortuga.write(\"Sobresalientes\")\n",
    "tortuga.backward(radio/2)\n",
    "tortuga.left(angulo/2)\n",
    "tortuga.pendown()\n",
    "\n",
    "#Esconder la Tortuga (puntero)\n",
    "tortuga.hideturtle()\n",
    "\n",
    "#Salir cuando se pulse el boton en la ventana\n",
    "pantalla.exitonclick()"
   ]
  },
  {
   "cell_type": "code",
   "execution_count": 3,
   "id": "578acc5e",
   "metadata": {},
   "outputs": [
    {
     "data": {
      "image/png": "[encoded data removed]",
      "text/plain": [
       "<Figure size 640x480 with 1 Axes>"
      ]
     },
     "metadata": {},
     "output_type": "display_data"
    }
   ],
   "source": [
    "import matplotlib.pyplot as plt\n",
    "\n",
    "# Calificaciones\n",
    "suspensos = int(input(\"Ingrese el porcentaje de Suspensos: \"))\n",
    "aprobados = int(input(\"Ingrese el porcentaje de Aprobados: \"))\n",
    "notables = int(input(\"Ingrese el porcentaje de Notables: \"))\n",
    "sobresalientes = int(input(\"Ingrese el porcentaje de Sobresalientes: \"))\n",
    "\n",
    "# Etiquetas para las barras\n",
    "etiquetas = ['Suspensos', 'Aprobados', 'Notables', 'Sobresalientes']\n",
    "\n",
    "# Alturas de las barras\n",
    "alturas = [suspensos, aprobados, notables, sobresalientes]\n",
    "\n",
    "plt.bar(etiquetas, alturas, color=['red', 'orange', 'yellow', 'green'])\n",
    "plt.xlabel('Calificaciones')\n",
    "plt.ylabel('Porcentaje')\n",
    "plt.title('Distribución de Calificaciones')\n",
    "plt.show()"
   ]
  },
  {
   "cell_type": "code",
   "execution_count": 1,
   "id": "0659da65",
   "metadata": {},
   "outputs": [],
   "source": [
    "from turtle import Screen, Turtle\n",
    "\n",
    "# Calificaciones\n",
    "suspensos = int(input(\"Ingrese el porcentaje de Suspensos: \"))\n",
    "aprobados = int(input(\"Ingrese el porcentaje de Aprobados: \"))\n",
    "notables = int(input(\"Ingrese el porcentaje de Notables: \"))\n",
    "sobresalientes = int(input(\"Ingrese el porcentaje de Sobresalientes: \"))\n",
    "\n",
    "# Inicialización\n",
    "pantalla = Screen()\n",
    "tortuga = Turtle()\n",
    "tortuga.speed(7)\n",
    "tortuga.penup()\n",
    "\n",
    "# Función para dibujar una barra rectangular\n",
    "\n",
    "\n",
    "def dibujar_barra(tortuga, altura, etiqueta, x, y, ancho):\n",
    "    tortuga.goto(x, y)\n",
    "    tortuga.pendown()\n",
    "    tortuga.setheading(90)\n",
    "    tortuga.forward(altura)\n",
    "    tortuga.setheading(0)\n",
    "    tortuga.forward(ancho)\n",
    "    tortuga.setheading(270)\n",
    "    tortuga.forward(altura)\n",
    "    tortuga.setheading(180)\n",
    "    tortuga.forward(ancho)\n",
    "    tortuga.penup()\n",
    "    tortuga.goto(x + ancho / 2, y + altura + 10)\n",
    "    tortuga.write(f\"{etiqueta}\", align=\"center\", font=(\"Arial\", 12, \"normal\"))\n",
    "    tortuga.goto(x, y)\n",
    "    tortuga.pendown()\n",
    "\n",
    "\n",
    "# Coordenadas iniciales\n",
    "x_inicial = -200\n",
    "y_inicial = -100\n",
    "ancho_barra = 50\n",
    "\n",
    "# Dibujar cada barra\n",
    "dibujar_barra(tortuga, suspensos * 3, \"Suspensos\",\n",
    "              x_inicial, y_inicial, ancho_barra)\n",
    "dibujar_barra(tortuga, aprobados * 3, \"Aprobados\", x_inicial +\n",
    "              ancho_barra + 10, y_inicial, ancho_barra)\n",
    "dibujar_barra(tortuga, notables * 3, \"Notables\", x_inicial +\n",
    "              2 * (ancho_barra + 10), y_inicial, ancho_barra)\n",
    "dibujar_barra(tortuga, sobresalientes * 3, \"Sobresalientes\",\n",
    "              x_inicial + 3 * (ancho_barra + 10), y_inicial, ancho_barra)\n",
    "\n",
    "# Esconder la tortuga (puntero)\n",
    "tortuga.hideturtle()\n",
    "\n",
    "# Salir cuando se pulse el botón en la ventana\n",
    "pantalla.exitonclick()"
   ]
  }
 ],
 "metadata": {
  "kernelspec": {
   "display_name": "Python 3 (ipykernel)",
   "language": "python",
   "name": "python3"
  },
  "language_info": {
   "codemirror_mode": {
    "name": "ipython",
    "version": 3
   },
   "file_extension": ".py",
   "mimetype": "text/x-python",
   "name": "python",
   "nbconvert_exporter": "python",
   "pygments_lexer": "ipython3",
   "version": "3.10.9"
  }
 },
 "nbformat": 4,
 "nbformat_minor": 5
}
