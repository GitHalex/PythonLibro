{
 "cells": [
  {
   "cell_type": "code",
   "execution_count": 3,
   "id": "216ba2d4",
   "metadata": {},
   "outputs": [
    {
     "name": "stdout",
     "output_type": "stream",
     "text": [
      "Perimetro 12\n",
      "Area: 9\n"
     ]
    }
   ],
   "source": [
    "#32\n",
    "lado = 3\n",
    "perimetro = lado + lado + lado + lado\n",
    "area = lado*lado\n",
    "print(f\"Perimetro {perimetro}\")\n",
    "print(f\"Area: {area}\")"
   ]
  },
  {
   "cell_type": "code",
   "execution_count": 4,
   "id": "ac3bb1ad",
   "metadata": {},
   "outputs": [
    {
     "name": "stdout",
     "output_type": "stream",
     "text": [
      "7.5\n"
     ]
    }
   ],
   "source": [
    "#33\n",
    "base = 3\n",
    "altura = 5\n",
    "area_triangulo = base*altura/2\n",
    "print(area_triangulo)"
   ]
  },
  {
   "cell_type": "code",
   "execution_count": 3,
   "id": "ba0f8f5b",
   "metadata": {},
   "outputs": [
    {
     "name": "stdout",
     "output_type": "stream",
     "text": [
      "Perimetro: 20 metros ---- Area: 24 metros cuadrados\n"
     ]
    }
   ],
   "source": [
    "#34\n",
    "ancho = 4\n",
    "alto = 6\n",
    "perimetro = ancho*2 + alto*2\n",
    "area = ancho*alto\n",
    "print(f\"Perimetro: {perimetro} metros ---- Area: {area} metros cuadrados\")\n",
    "\n"
   ]
  },
  {
   "attachments": {},
   "cell_type": "markdown",
   "id": "daed2dba",
   "metadata": {},
   "source": [
    "# Entrada/Salida Lectura de datos de teclado"
   ]
  },
  {
   "cell_type": "code",
   "execution_count": 11,
   "id": "c707c692",
   "metadata": {},
   "outputs": [
    {
     "name": "stdout",
     "output_type": "stream",
     "text": [
      "4.1887902047863905\n",
      "1.3333333333333333\n",
      "4.188779732810879\n"
     ]
    }
   ],
   "source": [
    "from math import pi\n",
    "radio = 1\n",
    "volumen = 4/3*pi*radio**3\n",
    "print(volumen)\n",
    "print(4/3)\n",
    "print(1.33333*pi*radio**3)"
   ]
  },
  {
   "cell_type": "code",
   "execution_count": 14,
   "id": "7dcbdea4",
   "metadata": {},
   "outputs": [
    {
     "name": "stdout",
     "output_type": "stream",
     "text": [
      "33.510321638291124\n"
     ]
    }
   ],
   "source": [
    "cadena_leida = input(\"Dame el radio: \")\n",
    "radio = float(cadena_leida)\n",
    "volumen = 4/3*pi*radio**3\n",
    "print(volumen)"
   ]
  },
  {
   "cell_type": "code",
   "execution_count": 16,
   "id": "b2066910",
   "metadata": {},
   "outputs": [
    {
     "name": "stdout",
     "output_type": "stream",
     "text": [
      "Perimetro: 12.0--- Area: 9.0\n"
     ]
    }
   ],
   "source": [
    "#35\n",
    "lado = float(input(\"Ingrese un lado del cuadrado: \"))\n",
    "perimetro = lado + lado +lado +lado\n",
    "area = lado*lado\n",
    "print(f\"Perimetro: {perimetro}--- Area: {area}\")"
   ]
  },
  {
   "cell_type": "code",
   "execution_count": 18,
   "id": "8412b3e4",
   "metadata": {},
   "outputs": [
    {
     "name": "stdout",
     "output_type": "stream",
     "text": [
      "Perimetro: 12.0--- Area: 5.0\n"
     ]
    }
   ],
   "source": [
    "#36\n",
    "base = float(input(\"Ingrese un base: \"))\n",
    "altura = float(input(\"Ingrese su altura: \"))\n",
    "per = base*2 + altura*2\n",
    "area = base*altura\n",
    "print(f\"Perimetro: {per}--- Area: {area}\")"
   ]
  },
  {
   "cell_type": "code",
   "execution_count": 20,
   "id": "cdc14ffb",
   "metadata": {},
   "outputs": [
    {
     "name": "stdout",
     "output_type": "stream",
     "text": [
      "Area del triangulo: 500.0\n"
     ]
    }
   ],
   "source": [
    "#37\n",
    "base = float(input(\"Ingrese un base: \"))\n",
    "altura = float(input(\"Ingrese su altura: \"))\n",
    "area_triangulo = base*altura/2\n",
    "print(f\"Area del triangulo: {area_triangulo}\")"
   ]
  },
  {
   "cell_type": "code",
   "execution_count": 26,
   "id": "6048959d",
   "metadata": {},
   "outputs": [
    {
     "name": "stdout",
     "output_type": "stream",
     "text": [
      "Perimetro: 15.0 ------ Area: 120.0\n",
      "3.0\n"
     ]
    }
   ],
   "source": [
    "#38\n",
    "from math import sqrt\n",
    "# Programa que calcula el area y perimetro de un triangulo\n",
    "a = float(input(\"a: \"))\n",
    "b = float(input(\"b: \"))\n",
    "c = float(input(\"c: \"))\n",
    "#formula para calcular el perimetro\n",
    "s = (a+b+c)\n",
    "#formula para calcular el area\n",
    "area = (s*(s-a)*(s-b)*(s-c))**0.5\n",
    "print(f\"Perimetro: {s} ------ Area: {area}\")\n",
    "print(sqrt(9))"
   ]
  },
  {
   "cell_type": "code",
   "execution_count": 7,
   "id": "ec700046",
   "metadata": {},
   "outputs": [
    {
     "name": "stdout",
     "output_type": "stream",
     "text": [
      "-0.9880316240928618\n"
     ]
    }
   ],
   "source": [
    "#39\n",
    "from math import sin\n",
    "#Programa que culculo el area de un triangulo apartir de su angulo\n",
    "a = float(input(\"a: \"))\n",
    "b = float(input(\"b: \"))\n",
    "angulo = float(input(\"Ingresa un angulo\"))\n",
    "#furmula para calcular el area\n",
    "areaTriangulo =  (a*b*sin(angulo))/2\n",
    "print(areaTriangulo)"
   ]
  },
  {
   "cell_type": "code",
   "execution_count": 11,
   "id": "3052cf51",
   "metadata": {},
   "outputs": [
    {
     "name": "stdout",
     "output_type": "stream",
     "text": [
      "24117.14 $\n"
     ]
    }
   ],
   "source": [
    "#40\n",
    "C = int(input(\"Cantidad de euros: \"))\n",
    "x = float(input(\"Valor de x: \"))\n",
    "n = int(input(\"Cantidad de años: \"))\n",
    "#formula para calcular la cantidad  invertida a partir de su capital\n",
    "res = C*(1+x/100)**n\n",
    "print(round(res, 2), \"$\")"
   ]
  },
  {
   "cell_type": "code",
   "execution_count": 17,
   "id": "ac9b82b6",
   "metadata": {},
   "outputs": [
    {
     "name": "stdout",
     "output_type": "stream",
     "text": [
      "alex alex \n"
     ]
    }
   ],
   "source": [
    "#41\n",
    "name = input(\"Please input your name: \")\n",
    "res = name+\" \"\n",
    "print(res*2)"
   ]
  },
  {
   "cell_type": "code",
   "execution_count": 20,
   "id": "9fb84a98",
   "metadata": {},
   "outputs": [
    {
     "name": "stdout",
     "output_type": "stream",
     "text": [
      "Area: 18.85   Perimetro: 28.27\n"
     ]
    }
   ],
   "source": [
    "#42\n",
    "from math import pi\n",
    "radio = int(input(\"Ingrese el radio de la circunferencia: \"))\n",
    "#formulas de area y perimetro de la circunferencia\n",
    "area = 2*pi*radio\n",
    "perimetro = pi*radio**2\n",
    "\n",
    "print(f\"Area: {round(area, 2)}   Perimetro: {round(perimetro, 2)}\")\n"
   ]
  },
  {
   "cell_type": "code",
   "execution_count": null,
   "id": "2d2a1180",
   "metadata": {},
   "outputs": [],
   "source": []
  }
 ],
 "metadata": {
  "kernelspec": {
   "display_name": "Python 3 (ipykernel)",
   "language": "python",
   "name": "python3"
  },
  "language_info": {
   "codemirror_mode": {
    "name": "ipython",
    "version": 3
   },
   "file_extension": ".py",
   "mimetype": "text/x-python",
   "name": "python",
   "nbconvert_exporter": "python",
   "pygments_lexer": "ipython3",
   "version": "3.10.9"
  }
 },
 "nbformat": 4,
 "nbformat_minor": 5
}
