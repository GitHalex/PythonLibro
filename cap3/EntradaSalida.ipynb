{
 "cells": [
  {
   "cell_type": "code",
   "execution_count": 3,
   "id": "216ba2d4",
   "metadata": {},
   "outputs": [
    {
     "name": "stdout",
     "output_type": "stream",
     "text": [
      "Perimetro 12\n",
      "Area: 9\n"
     ]
    }
   ],
   "source": [
    "#32\n",
    "lado = 3\n",
    "perimetro = lado + lado + lado + lado\n",
    "area = lado*lado\n",
    "print(f\"Perimetro {perimetro}\")\n",
    "print(f\"Area: {area}\")"
   ]
  },
  {
   "cell_type": "code",
   "execution_count": 4,
   "id": "ac3bb1ad",
   "metadata": {},
   "outputs": [
    {
     "name": "stdout",
     "output_type": "stream",
     "text": [
      "7.5\n"
     ]
    }
   ],
   "source": [
    "#33\n",
    "base = 3\n",
    "altura = 5\n",
    "area_triangulo = base*altura/2\n",
    "print(area_triangulo)"
   ]
  },
  {
   "cell_type": "code",
   "execution_count": 3,
   "id": "ba0f8f5b",
   "metadata": {},
   "outputs": [
    {
     "name": "stdout",
     "output_type": "stream",
     "text": [
      "Perimetro: 20 metros ---- Area: 24 metros cuadrados\n"
     ]
    }
   ],
   "source": [
    "#34\n",
    "ancho = 4\n",
    "alto = 6\n",
    "perimetro = ancho*2 + alto*2\n",
    "area = ancho*alto\n",
    "print(f\"Perimetro: {perimetro} metros ---- Area: {area} metros cuadrados\")\n",
    "\n"
   ]
  },
  {
   "cell_type": "code",
   "execution_count": 7,
   "id": "2197b97b",
   "metadata": {},
   "outputs": [
    {
     "name": "stdout",
     "output_type": "stream",
     "text": [
      "8.0\n"
     ]
    }
   ],
   "source": [
    "\n",
    "\n"
   ]
  },
  {
   "cell_type": "code",
   "execution_count": null,
   "id": "c707c692",
   "metadata": {},
   "outputs": [],
   "source": []
  }
 ],
 "metadata": {
  "kernelspec": {
   "display_name": "Python 3 (ipykernel)",
   "language": "python",
   "name": "python3"
  },
  "language_info": {
   "codemirror_mode": {
    "name": "ipython",
    "version": 3
   },
   "file_extension": ".py",
   "mimetype": "text/x-python",
   "name": "python",
   "nbconvert_exporter": "python",
   "pygments_lexer": "ipython3",
   "version": "3.10.9"
  }
 },
 "nbformat": 4,
 "nbformat_minor": 5
}
